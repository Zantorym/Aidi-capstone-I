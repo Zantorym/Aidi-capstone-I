{
  "nbformat": 4,
  "nbformat_minor": 0,
  "metadata": {
    "colab": {
      "name": "AIDI1003 Capstone Dataset Pickling.ipynb",
      "provenance": [],
      "collapsed_sections": []
    },
    "kernelspec": {
      "name": "python3",
      "display_name": "Python 3"
    },
    "language_info": {
      "name": "python"
    }
  },
  "cells": [
    {
      "cell_type": "code",
      "metadata": {
        "id": "AeavyBWVv4U8",
        "colab": {
          "base_uri": "https://localhost:8080/"
        },
        "outputId": "534460c7-34ba-4b7a-99ac-9afe3e20caf9"
      },
      "source": [
        "!pip install ipython-autotime\n",
        "%load_ext autotime"
      ],
      "execution_count": 1,
      "outputs": [
        {
          "output_type": "stream",
          "name": "stdout",
          "text": [
            "Collecting ipython-autotime\n",
            "  Downloading ipython_autotime-0.3.1-py2.py3-none-any.whl (6.8 kB)\n",
            "Requirement already satisfied: ipython in /usr/local/lib/python3.7/dist-packages (from ipython-autotime) (5.5.0)\n",
            "Requirement already satisfied: pexpect in /usr/local/lib/python3.7/dist-packages (from ipython->ipython-autotime) (4.8.0)\n",
            "Requirement already satisfied: pickleshare in /usr/local/lib/python3.7/dist-packages (from ipython->ipython-autotime) (0.7.5)\n",
            "Requirement already satisfied: pygments in /usr/local/lib/python3.7/dist-packages (from ipython->ipython-autotime) (2.6.1)\n",
            "Requirement already satisfied: traitlets>=4.2 in /usr/local/lib/python3.7/dist-packages (from ipython->ipython-autotime) (5.1.0)\n",
            "Requirement already satisfied: prompt-toolkit<2.0.0,>=1.0.4 in /usr/local/lib/python3.7/dist-packages (from ipython->ipython-autotime) (1.0.18)\n",
            "Requirement already satisfied: decorator in /usr/local/lib/python3.7/dist-packages (from ipython->ipython-autotime) (4.4.2)\n",
            "Requirement already satisfied: setuptools>=18.5 in /usr/local/lib/python3.7/dist-packages (from ipython->ipython-autotime) (57.4.0)\n",
            "Requirement already satisfied: simplegeneric>0.8 in /usr/local/lib/python3.7/dist-packages (from ipython->ipython-autotime) (0.8.1)\n",
            "Requirement already satisfied: wcwidth in /usr/local/lib/python3.7/dist-packages (from prompt-toolkit<2.0.0,>=1.0.4->ipython->ipython-autotime) (0.2.5)\n",
            "Requirement already satisfied: six>=1.9.0 in /usr/local/lib/python3.7/dist-packages (from prompt-toolkit<2.0.0,>=1.0.4->ipython->ipython-autotime) (1.15.0)\n",
            "Requirement already satisfied: ptyprocess>=0.5 in /usr/local/lib/python3.7/dist-packages (from pexpect->ipython->ipython-autotime) (0.7.0)\n",
            "Installing collected packages: ipython-autotime\n",
            "Successfully installed ipython-autotime-0.3.1\n",
            "time: 3.15 ms (started: 2021-10-22 19:15:07 +00:00)\n"
          ]
        }
      ]
    },
    {
      "cell_type": "code",
      "metadata": {
        "id": "pJ5caqTgvbin",
        "colab": {
          "base_uri": "https://localhost:8080/"
        },
        "outputId": "a081b2c4-2c39-4c38-ed29-376a73ef38bd"
      },
      "source": [
        "import os\n",
        "import pickle"
      ],
      "execution_count": 2,
      "outputs": [
        {
          "output_type": "stream",
          "name": "stdout",
          "text": [
            "time: 1.28 ms (started: 2021-10-22 19:15:07 +00:00)\n"
          ]
        }
      ]
    },
    {
      "cell_type": "code",
      "metadata": {
        "id": "Zqs7kFCm-JdJ",
        "colab": {
          "base_uri": "https://localhost:8080/"
        },
        "outputId": "3121a45e-4a4b-4ea1-ad7b-c32e2f52710d"
      },
      "source": [
        "# Constants\n",
        "# Files\n",
        "JD_FILES_PATH='/content/drive/MyDrive/AIDI1003/JDs/jds.list'\n",
        "RESUME_FILES_PATH='/content/drive/MyDrive/AIDI1003/Resumes/resumes.list'\n",
        "\n",
        "# Pickle Output\n",
        "JD_FILES_PICKLE_OUTPATH='/content/drive/MyDrive/AIDI1003/JDs/jds.pickle'\n",
        "RESUME_FILES_PICKLE_OUTPATH='/content/drive/MyDrive/AIDI1003/Resumes/resumes.pickle'"
      ],
      "execution_count": 3,
      "outputs": [
        {
          "output_type": "stream",
          "name": "stdout",
          "text": [
            "time: 2.95 ms (started: 2021-10-22 19:15:07 +00:00)\n"
          ]
        }
      ]
    },
    {
      "cell_type": "code",
      "metadata": {
        "colab": {
          "base_uri": "https://localhost:8080/"
        },
        "id": "LwJvseAoEhMA",
        "outputId": "612deead-6a88-4fd2-c1b2-736c6b7b11c7"
      },
      "source": [
        "from google.colab import drive\n",
        "drive.mount('/content/drive')"
      ],
      "execution_count": 4,
      "outputs": [
        {
          "output_type": "stream",
          "name": "stdout",
          "text": [
            "Drive already mounted at /content/drive; to attempt to forcibly remount, call drive.mount(\"/content/drive\", force_remount=True).\n",
            "time: 2.97 ms (started: 2021-10-22 19:15:07 +00:00)\n"
          ]
        }
      ]
    },
    {
      "cell_type": "code",
      "metadata": {
        "colab": {
          "base_uri": "https://localhost:8080/"
        },
        "id": "lOw2lFdhG2-I",
        "outputId": "abb6a022-ee3b-4636-fd5a-2b81fbe35c42"
      },
      "source": [
        "jd_files_dict = {}\n",
        "with open(JD_FILES_PATH, 'r') as jd_files:\n",
        "  while True:\n",
        "    line = jd_files.readline()\n",
        "    if not line:\n",
        "      break\n",
        "      \n",
        "    separator_ind = line.index(':')\n",
        "    filename = line[:separator_ind]\n",
        "    content = line[separator_ind+1:].strip()\n",
        "    jd_files_dict[filename] = content"
      ],
      "execution_count": 5,
      "outputs": [
        {
          "output_type": "stream",
          "name": "stdout",
          "text": [
            "time: 5.44 s (started: 2021-10-22 19:15:07 +00:00)\n"
          ]
        }
      ]
    },
    {
      "cell_type": "code",
      "metadata": {
        "colab": {
          "base_uri": "https://localhost:8080/"
        },
        "id": "FP096QrnYrQj",
        "outputId": "b4be4dd2-5177-4147-8fe7-6aad6f8bf562"
      },
      "source": [
        "resume_files_dict = {}\n",
        "with open(RESUME_FILES_PATH, 'r') as resume_files:\n",
        "  while True:\n",
        "    line = resume_files.readline()\n",
        "    if not line:\n",
        "      break\n",
        "      \n",
        "    separator_ind = line.index(':')\n",
        "    filename = line[:separator_ind]\n",
        "    content = line[separator_ind+1:].strip()\n",
        "    resume_files_dict[filename] = content"
      ],
      "execution_count": 6,
      "outputs": [
        {
          "output_type": "stream",
          "name": "stdout",
          "text": [
            "time: 3.4 s (started: 2021-10-22 19:15:13 +00:00)\n"
          ]
        }
      ]
    },
    {
      "cell_type": "code",
      "metadata": {
        "colab": {
          "base_uri": "https://localhost:8080/"
        },
        "id": "a3KsHFksNxTF",
        "outputId": "f42e5c5f-19fd-46d2-8a97-77af78238473"
      },
      "source": [
        "print(len(jd_files_dict), len(resume_files_dict))"
      ],
      "execution_count": 7,
      "outputs": [
        {
          "output_type": "stream",
          "name": "stdout",
          "text": [
            "151210 50023\n",
            "time: 2.56 ms (started: 2021-10-22 19:15:16 +00:00)\n"
          ]
        }
      ]
    },
    {
      "cell_type": "code",
      "metadata": {
        "colab": {
          "base_uri": "https://localhost:8080/"
        },
        "id": "lcqUT2m2ZIZ_",
        "outputId": "3195641c-efb3-4f87-cefa-793bcc26749b"
      },
      "source": [
        "with open(JD_FILES_PICKLE_OUTPATH, 'wb') as fh:\n",
        "   pickle.dump(jd_files_dict, fh)\n",
        "with open(RESUME_FILES_PICKLE_OUTPATH, 'wb') as fh:\n",
        "   pickle.dump(resume_files_dict, fh)"
      ],
      "execution_count": 8,
      "outputs": [
        {
          "output_type": "stream",
          "name": "stdout",
          "text": [
            "time: 2.75 s (started: 2021-10-22 19:15:16 +00:00)\n"
          ]
        }
      ]
    }
  ]
}