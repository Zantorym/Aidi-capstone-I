{
  "nbformat": 4,
  "nbformat_minor": 0,
  "metadata": {
    "colab": {
      "name": "01 - Files Preprocessing.ipynb",
      "provenance": [],
      "collapsed_sections": [],
      "toc_visible": true
    },
    "kernelspec": {
      "name": "python3",
      "display_name": "Python 3"
    },
    "language_info": {
      "name": "python"
    }
  },
  "cells": [
    {
      "cell_type": "markdown",
      "source": [
        "# Code Setup"
      ],
      "metadata": {
        "id": "H1De5O3iSAnp"
      }
    },
    {
      "cell_type": "markdown",
      "source": [
        "Install autotime for reporting of how long code runs"
      ],
      "metadata": {
        "id": "f6KPpfV0SHvF"
      }
    },
    {
      "cell_type": "code",
      "execution_count": 1,
      "metadata": {
        "colab": {
          "base_uri": "https://localhost:8080/"
        },
        "id": "ZDAUJmO2Q7bs",
        "outputId": "d2d9de31-f36b-4bd8-8c74-03a500ff1f14"
      },
      "outputs": [
        {
          "output_type": "stream",
          "name": "stdout",
          "text": [
            "Requirement already satisfied: ipython-autotime in /usr/local/lib/python3.7/dist-packages (0.3.1)\n",
            "Requirement already satisfied: ipython in /usr/local/lib/python3.7/dist-packages (from ipython-autotime) (5.5.0)\n",
            "Requirement already satisfied: pexpect in /usr/local/lib/python3.7/dist-packages (from ipython->ipython-autotime) (4.8.0)\n",
            "Requirement already satisfied: traitlets>=4.2 in /usr/local/lib/python3.7/dist-packages (from ipython->ipython-autotime) (5.1.1)\n",
            "Requirement already satisfied: simplegeneric>0.8 in /usr/local/lib/python3.7/dist-packages (from ipython->ipython-autotime) (0.8.1)\n",
            "Requirement already satisfied: decorator in /usr/local/lib/python3.7/dist-packages (from ipython->ipython-autotime) (4.4.2)\n",
            "Requirement already satisfied: pickleshare in /usr/local/lib/python3.7/dist-packages (from ipython->ipython-autotime) (0.7.5)\n",
            "Requirement already satisfied: setuptools>=18.5 in /usr/local/lib/python3.7/dist-packages (from ipython->ipython-autotime) (57.4.0)\n",
            "Requirement already satisfied: prompt-toolkit<2.0.0,>=1.0.4 in /usr/local/lib/python3.7/dist-packages (from ipython->ipython-autotime) (1.0.18)\n",
            "Requirement already satisfied: pygments in /usr/local/lib/python3.7/dist-packages (from ipython->ipython-autotime) (2.6.1)\n",
            "Requirement already satisfied: six>=1.9.0 in /usr/local/lib/python3.7/dist-packages (from prompt-toolkit<2.0.0,>=1.0.4->ipython->ipython-autotime) (1.15.0)\n",
            "Requirement already satisfied: wcwidth in /usr/local/lib/python3.7/dist-packages (from prompt-toolkit<2.0.0,>=1.0.4->ipython->ipython-autotime) (0.2.5)\n",
            "Requirement already satisfied: ptyprocess>=0.5 in /usr/local/lib/python3.7/dist-packages (from pexpect->ipython->ipython-autotime) (0.7.0)\n",
            "time: 1.98 ms (started: 2021-12-11 02:27:44 +00:00)\n"
          ]
        }
      ],
      "source": [
        "!pip install ipython-autotime\n",
        "%load_ext autotime"
      ]
    },
    {
      "cell_type": "markdown",
      "source": [
        "Import libraries needed by code"
      ],
      "metadata": {
        "id": "smSymk4qSPwR"
      }
    },
    {
      "cell_type": "code",
      "source": [
        "import os\n",
        "import pickle"
      ],
      "metadata": {
        "colab": {
          "base_uri": "https://localhost:8080/"
        },
        "id": "w22dFqrjRJkW",
        "outputId": "43d3d663-8048-4c37-f5a8-4aa5570f2b55"
      },
      "execution_count": 2,
      "outputs": [
        {
          "output_type": "stream",
          "name": "stdout",
          "text": [
            "time: 927 µs (started: 2021-12-11 02:27:44 +00:00)\n"
          ]
        }
      ]
    },
    {
      "cell_type": "markdown",
      "source": [
        "Define constants for easier configuration of runs across users"
      ],
      "metadata": {
        "id": "f7sgowAwTT8O"
      }
    },
    {
      "cell_type": "code",
      "source": [
        "# Constants\n",
        "# Files\n",
        "JD_FILES_PATH='/content/drive/MyDrive/AIDI1003/JDs/jds.list'\n",
        "RESUME_FILES_PATH='/content/drive/MyDrive/AIDI1003/Resumes/resumes.list'\n",
        "\n",
        "# Pickle Output\n",
        "JD_FILES_PICKLE_OUTPATH='/content/drive/MyDrive/AIDI1003/JDs/jds.pickle'\n",
        "RESUME_FILES_PICKLE_OUTPATH='/content/drive/MyDrive/AIDI1003/Resumes/resumes.pickle'"
      ],
      "metadata": {
        "colab": {
          "base_uri": "https://localhost:8080/"
        },
        "id": "XR00c8ZoRJ8-",
        "outputId": "85309b5d-4102-4187-d897-049c6258a157"
      },
      "execution_count": 3,
      "outputs": [
        {
          "output_type": "stream",
          "name": "stdout",
          "text": [
            "time: 1.66 ms (started: 2021-12-11 02:27:44 +00:00)\n"
          ]
        }
      ]
    },
    {
      "cell_type": "markdown",
      "source": [
        "Attach google drive to colab instance"
      ],
      "metadata": {
        "id": "PLJ5XD1tTduT"
      }
    },
    {
      "cell_type": "code",
      "source": [
        "from google.colab import drive\n",
        "drive.mount('/content/drive')"
      ],
      "metadata": {
        "colab": {
          "base_uri": "https://localhost:8080/"
        },
        "id": "qSIwGgdvRXbV",
        "outputId": "1ea8191b-63f4-4e3a-c2ad-a246672e764d"
      },
      "execution_count": 4,
      "outputs": [
        {
          "output_type": "stream",
          "name": "stdout",
          "text": [
            "Drive already mounted at /content/drive; to attempt to forcibly remount, call drive.mount(\"/content/drive\", force_remount=True).\n",
            "time: 1.52 s (started: 2021-12-11 02:27:44 +00:00)\n"
          ]
        }
      ]
    },
    {
      "cell_type": "markdown",
      "source": [
        "# Loading Files"
      ],
      "metadata": {
        "id": "yQmcScOBUH6n"
      }
    },
    {
      "cell_type": "markdown",
      "source": [
        "Read job description files into memory and store as a dictionary"
      ],
      "metadata": {
        "id": "IAdrFmbTTi3v"
      }
    },
    {
      "cell_type": "code",
      "source": [
        "jd_files_dict = {}\n",
        "with open(JD_FILES_PATH, 'r') as jd_files:\n",
        "  while True:\n",
        "    line = jd_files.readline()\n",
        "    if not line:\n",
        "      break\n",
        "      \n",
        "    separator_ind = line.index(':')\n",
        "    filename = line[:separator_ind]\n",
        "    content = line[separator_ind+1:].strip()\n",
        "    jd_files_dict[filename] = content"
      ],
      "metadata": {
        "colab": {
          "base_uri": "https://localhost:8080/"
        },
        "id": "4TJUrYzJRX02",
        "outputId": "09b8ec13-dc7d-4617-b3ab-966091e7dc5e"
      },
      "execution_count": 5,
      "outputs": [
        {
          "output_type": "stream",
          "name": "stdout",
          "text": [
            "time: 1.27 s (started: 2021-12-11 02:27:46 +00:00)\n"
          ]
        }
      ]
    },
    {
      "cell_type": "markdown",
      "source": [
        "Read resume files into memory and store as a dictionary"
      ],
      "metadata": {
        "id": "2L-EOllCTnPB"
      }
    },
    {
      "cell_type": "code",
      "source": [
        "resume_files_dict = {}\n",
        "with open(RESUME_FILES_PATH, 'r') as resume_files:\n",
        "  while True:\n",
        "    line = resume_files.readline()\n",
        "    if not line:\n",
        "      break\n",
        "      \n",
        "    separator_ind = line.index(':')\n",
        "    filename = line[:separator_ind]\n",
        "    content = line[separator_ind+1:].strip()\n",
        "    resume_files_dict[filename] = content"
      ],
      "metadata": {
        "colab": {
          "base_uri": "https://localhost:8080/"
        },
        "id": "gKSy31lgRZe3",
        "outputId": "21c3e5cb-9dfd-43c1-ddf7-2c5bb6755f84"
      },
      "execution_count": 6,
      "outputs": [
        {
          "output_type": "stream",
          "name": "stdout",
          "text": [
            "time: 394 ms (started: 2021-12-11 02:27:47 +00:00)\n"
          ]
        }
      ]
    },
    {
      "cell_type": "markdown",
      "source": [
        "Show counts of files loaded"
      ],
      "metadata": {
        "id": "nhouzB9ST3x-"
      }
    },
    {
      "cell_type": "code",
      "source": [
        "print('Number of job description files loaded:', len(jd_files_dict))\n",
        "print('Number of resume files loaded:', len(resume_files_dict))"
      ],
      "metadata": {
        "colab": {
          "base_uri": "https://localhost:8080/"
        },
        "id": "HD67VT7-RbTn",
        "outputId": "4bddd6d5-d0bf-4675-8941-5a260e0573b3"
      },
      "execution_count": 7,
      "outputs": [
        {
          "output_type": "stream",
          "name": "stdout",
          "text": [
            "Number of job description files loaded: 151210\n",
            "Number of resume files loaded: 50023\n",
            "time: 2.35 ms (started: 2021-12-11 02:27:47 +00:00)\n"
          ]
        }
      ]
    },
    {
      "cell_type": "markdown",
      "source": [
        "# Saving Output"
      ],
      "metadata": {
        "id": "k1RoNF-xUQUJ"
      }
    },
    {
      "cell_type": "markdown",
      "source": [
        "Pickle the dictionaries for processing in next stages"
      ],
      "metadata": {
        "id": "WU1TxhEUT79J"
      }
    },
    {
      "cell_type": "code",
      "source": [
        "with open(JD_FILES_PICKLE_OUTPATH, 'wb') as fh:\n",
        "   pickle.dump(jd_files_dict, fh)\n",
        "with open(RESUME_FILES_PICKLE_OUTPATH, 'wb') as fh:\n",
        "   pickle.dump(resume_files_dict, fh)"
      ],
      "metadata": {
        "colab": {
          "base_uri": "https://localhost:8080/"
        },
        "id": "MqGofwUSRgB0",
        "outputId": "477c6482-26f8-42e3-eecd-f8a31cf67c81"
      },
      "execution_count": 8,
      "outputs": [
        {
          "output_type": "stream",
          "name": "stdout",
          "text": [
            "time: 2.7 s (started: 2021-12-11 02:27:47 +00:00)\n"
          ]
        }
      ]
    }
  ]
}
