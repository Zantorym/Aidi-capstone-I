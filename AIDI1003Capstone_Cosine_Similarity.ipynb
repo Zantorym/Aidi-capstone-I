{
  "nbformat": 4,
  "nbformat_minor": 0,
  "metadata": {
    "colab": {
      "name": "AIDI1003Capstone Cosine Similarity.ipynb",
      "provenance": [],
      "collapsed_sections": []
    },
    "kernelspec": {
      "name": "python3",
      "display_name": "Python 3"
    },
    "language_info": {
      "name": "python"
    }
  },
  "cells": [
    {
      "cell_type": "code",
      "metadata": {
        "colab": {
          "base_uri": "https://localhost:8080/"
        },
        "id": "kZ1BuYPlrmz6",
        "outputId": "9023d4a9-812e-47fc-b7c3-399e951cc74a"
      },
      "source": [
        "!pip install ipython-autotime\n",
        "%load_ext autotime"
      ],
      "execution_count": 1,
      "outputs": [
        {
          "output_type": "stream",
          "name": "stdout",
          "text": [
            "Requirement already satisfied: ipython-autotime in /usr/local/lib/python3.7/dist-packages (0.3.1)\n",
            "Requirement already satisfied: ipython in /usr/local/lib/python3.7/dist-packages (from ipython-autotime) (5.5.0)\n",
            "Requirement already satisfied: traitlets>=4.2 in /usr/local/lib/python3.7/dist-packages (from ipython->ipython-autotime) (5.1.1)\n",
            "Requirement already satisfied: setuptools>=18.5 in /usr/local/lib/python3.7/dist-packages (from ipython->ipython-autotime) (57.4.0)\n",
            "Requirement already satisfied: decorator in /usr/local/lib/python3.7/dist-packages (from ipython->ipython-autotime) (4.4.2)\n",
            "Requirement already satisfied: prompt-toolkit<2.0.0,>=1.0.4 in /usr/local/lib/python3.7/dist-packages (from ipython->ipython-autotime) (1.0.18)\n",
            "Requirement already satisfied: simplegeneric>0.8 in /usr/local/lib/python3.7/dist-packages (from ipython->ipython-autotime) (0.8.1)\n",
            "Requirement already satisfied: pickleshare in /usr/local/lib/python3.7/dist-packages (from ipython->ipython-autotime) (0.7.5)\n",
            "Requirement already satisfied: pexpect in /usr/local/lib/python3.7/dist-packages (from ipython->ipython-autotime) (4.8.0)\n",
            "Requirement already satisfied: pygments in /usr/local/lib/python3.7/dist-packages (from ipython->ipython-autotime) (2.6.1)\n",
            "Requirement already satisfied: wcwidth in /usr/local/lib/python3.7/dist-packages (from prompt-toolkit<2.0.0,>=1.0.4->ipython->ipython-autotime) (0.2.5)\n",
            "Requirement already satisfied: six>=1.9.0 in /usr/local/lib/python3.7/dist-packages (from prompt-toolkit<2.0.0,>=1.0.4->ipython->ipython-autotime) (1.15.0)\n",
            "Requirement already satisfied: ptyprocess>=0.5 in /usr/local/lib/python3.7/dist-packages (from pexpect->ipython->ipython-autotime) (0.7.0)\n",
            "time: 2.17 ms (started: 2021-11-19 22:16:05 +00:00)\n"
          ]
        }
      ]
    },
    {
      "cell_type": "code",
      "metadata": {
        "colab": {
          "base_uri": "https://localhost:8080/"
        },
        "id": "lpjEpwqL0BPn",
        "outputId": "1c5ea43e-f909-4dc1-ca8d-a19bea5b74f8"
      },
      "source": [
        "import pickle\n",
        "import nltk\n",
        "import pandas as pd\n",
        "import numpy as np\n",
        "from nltk.tokenize import TreebankWordTokenizer\n",
        "from nltk.util import ngrams\n",
        "from sklearn.feature_extraction.text import ENGLISH_STOP_WORDS as sklearn_stop_words\n",
        "from sklearn.feature_extraction.text import TfidfVectorizer\n",
        "from sklearn.metrics.pairwise import cosine_similarity"
      ],
      "execution_count": 2,
      "outputs": [
        {
          "output_type": "stream",
          "name": "stdout",
          "text": [
            "time: 671 ms (started: 2021-11-19 22:16:05 +00:00)\n"
          ]
        }
      ]
    },
    {
      "cell_type": "code",
      "metadata": {
        "colab": {
          "base_uri": "https://localhost:8080/"
        },
        "id": "uHxtZ2XI2GMT",
        "outputId": "11bb1bf4-041c-4c21-d532-b157ae6e66db"
      },
      "source": [
        "# Constants\n",
        "# Pickle Input\n",
        "JD_FILES_PICKLE_OUTPATH='/content/drive/MyDrive/AIDI1003/JDs/jds.pickle'\n",
        "RESUME_FILES_PICKLE_OUTPATH='/content/drive/MyDrive/AIDI1003/Resumes/resumes.pickle'\n"
      ],
      "execution_count": 3,
      "outputs": [
        {
          "output_type": "stream",
          "name": "stdout",
          "text": [
            "time: 1.9 ms (started: 2021-11-19 22:16:06 +00:00)\n"
          ]
        }
      ]
    },
    {
      "cell_type": "code",
      "metadata": {
        "colab": {
          "base_uri": "https://localhost:8080/"
        },
        "id": "ui6mAu3y0GP3",
        "outputId": "98cf96d0-1e38-4a94-af84-280ed30df248"
      },
      "source": [
        "from google.colab import drive\n",
        "drive.mount('/content/drive')"
      ],
      "execution_count": 4,
      "outputs": [
        {
          "output_type": "stream",
          "name": "stdout",
          "text": [
            "Drive already mounted at /content/drive; to attempt to forcibly remount, call drive.mount(\"/content/drive\", force_remount=True).\n",
            "time: 3.02 ms (started: 2021-11-19 22:16:06 +00:00)\n"
          ]
        }
      ]
    },
    {
      "cell_type": "code",
      "metadata": {
        "colab": {
          "base_uri": "https://localhost:8080/"
        },
        "id": "P4Ph-9wh2IT8",
        "outputId": "e67d0690-8594-47b8-899f-1b57105b8253"
      },
      "source": [
        "jd_files_dict = resume_files_dict = {}\n",
        "with open(JD_FILES_PICKLE_OUTPATH, 'rb') as fh:\n",
        "  jd_files_dict = pickle.load(fh)\n",
        "with open(RESUME_FILES_PICKLE_OUTPATH, 'rb') as fh:\n",
        "  resume_files_dict = pickle.load(fh)"
      ],
      "execution_count": 5,
      "outputs": [
        {
          "output_type": "stream",
          "name": "stdout",
          "text": [
            "time: 1.01 s (started: 2021-11-19 22:16:06 +00:00)\n"
          ]
        }
      ]
    },
    {
      "cell_type": "code",
      "metadata": {
        "colab": {
          "base_uri": "https://localhost:8080/"
        },
        "id": "XFrMxn0-63NG",
        "outputId": "c7898166-a7d0-4596-acbe-22dc338387fc"
      },
      "source": [
        "nltk.download('stopwords')\n",
        "stop_words = nltk.corpus.stopwords.words('english')\n",
        "stop_words = sklearn_stop_words.intersection(stop_words)"
      ],
      "execution_count": 6,
      "outputs": [
        {
          "output_type": "stream",
          "name": "stdout",
          "text": [
            "[nltk_data] Downloading package stopwords to /root/nltk_data...\n",
            "[nltk_data]   Package stopwords is already up-to-date!\n",
            "time: 44.9 ms (started: 2021-11-19 22:16:07 +00:00)\n"
          ]
        }
      ]
    },
    {
      "cell_type": "code",
      "metadata": {
        "colab": {
          "base_uri": "https://localhost:8080/"
        },
        "id": "2mrCdl8F6Z0d",
        "outputId": "caa655cc-a135-4329-c0e6-ae76253e544f"
      },
      "source": [
        "def tokenize(text):\n",
        "  tokenized = text.lower().split()\n",
        "  tokenized = [token for token in tokenized if (len(token)>1 and all(char.isalpha()or char.isdigit() for char in token))]\n",
        "  return tokenized"
      ],
      "execution_count": 7,
      "outputs": [
        {
          "output_type": "stream",
          "name": "stdout",
          "text": [
            "time: 3.73 ms (started: 2021-11-19 22:16:07 +00:00)\n"
          ]
        }
      ]
    },
    {
      "cell_type": "code",
      "metadata": {
        "colab": {
          "base_uri": "https://localhost:8080/"
        },
        "id": "O_0khMeSrCqA",
        "outputId": "69d04ea4-52d0-4c4a-ca11-e7ed3c8e4a6e"
      },
      "source": [
        "print('Count of JDs:', len(jd_files_dict))\n",
        "print('Count of Resumes:', len(resume_files_dict))"
      ],
      "execution_count": 8,
      "outputs": [
        {
          "output_type": "stream",
          "name": "stdout",
          "text": [
            "Count of JDs: 151210\n",
            "Count of Resumes: 50023\n",
            "time: 2.76 ms (started: 2021-11-19 22:16:07 +00:00)\n"
          ]
        }
      ]
    },
    {
      "cell_type": "code",
      "metadata": {
        "colab": {
          "base_uri": "https://localhost:8080/"
        },
        "id": "zGiKIjvfrWB3",
        "outputId": "130ccce4-00fb-4721-f27d-dc590a14c523"
      },
      "source": [
        "combined_files_dict = {}\n",
        "for filename in jd_files_dict:\n",
        "  modified_fn = 'jd:' + filename\n",
        "  if len(jd_files_dict[filename].strip()) == 0:\n",
        "    continue\n",
        "  combined_files_dict[modified_fn] = jd_files_dict[filename]\n",
        "for filename in resume_files_dict:\n",
        "  modified_fn = 'rs:' + filename\n",
        "  if len(resume_files_dict[filename].strip()) == 0:\n",
        "    continue\n",
        "  combined_files_dict[modified_fn] = resume_files_dict[filename]"
      ],
      "execution_count": 9,
      "outputs": [
        {
          "output_type": "stream",
          "name": "stdout",
          "text": [
            "time: 265 ms (started: 2021-11-19 22:16:07 +00:00)\n"
          ]
        }
      ]
    },
    {
      "cell_type": "code",
      "metadata": {
        "colab": {
          "base_uri": "https://localhost:8080/"
        },
        "id": "_PgaWnZaNZ_d",
        "outputId": "2875ffd0-2017-4db3-b995-72d0867035ad"
      },
      "source": [
        "jd_filenames = [key for key in combined_files_dict.keys() if key.startswith('jd:')]"
      ],
      "execution_count": 10,
      "outputs": [
        {
          "output_type": "stream",
          "name": "stdout",
          "text": [
            "time: 46.5 ms (started: 2021-11-19 22:16:07 +00:00)\n"
          ]
        }
      ]
    },
    {
      "cell_type": "code",
      "metadata": {
        "colab": {
          "base_uri": "https://localhost:8080/"
        },
        "id": "QmTtJ8s_OMrx",
        "outputId": "ddb5f34f-041a-4a82-a801-c130e5499b04"
      },
      "source": [
        "resume_filenames = [key for key in combined_files_dict.keys() if key.startswith('rs:')]"
      ],
      "execution_count": 11,
      "outputs": [
        {
          "output_type": "stream",
          "name": "stdout",
          "text": [
            "time: 40.8 ms (started: 2021-11-19 22:16:07 +00:00)\n"
          ]
        }
      ]
    },
    {
      "cell_type": "code",
      "metadata": {
        "colab": {
          "base_uri": "https://localhost:8080/"
        },
        "id": "f3kqncK9rl4M",
        "outputId": "ae6dbc6f-e269-49ea-e953-4cc42ab17f1e"
      },
      "source": [
        "print('Count of Combines:', len(combined_files_dict))"
      ],
      "execution_count": 12,
      "outputs": [
        {
          "output_type": "stream",
          "name": "stdout",
          "text": [
            "Count of Combines: 201189\n",
            "time: 2.76 ms (started: 2021-11-19 22:16:07 +00:00)\n"
          ]
        }
      ]
    },
    {
      "cell_type": "code",
      "metadata": {
        "colab": {
          "base_uri": "https://localhost:8080/"
        },
        "id": "mzJLQ-hbp_hr",
        "outputId": "3933ce4d-beb3-4ef7-a773-05ee84ba1e2e"
      },
      "source": [
        "corpus_raw = pd.DataFrame.from_dict(combined_files_dict, orient='index', columns=['text'])\n"
      ],
      "execution_count": 13,
      "outputs": [
        {
          "output_type": "stream",
          "name": "stdout",
          "text": [
            "time: 97.8 ms (started: 2021-11-19 22:16:07 +00:00)\n"
          ]
        }
      ]
    },
    {
      "cell_type": "code",
      "metadata": {
        "colab": {
          "base_uri": "https://localhost:8080/"
        },
        "id": "EREs2oddtP6n",
        "outputId": "9fd05571-540e-4c3e-85ca-eb410101fd19"
      },
      "source": [
        "corpus_filenames = corpus_raw.index.values"
      ],
      "execution_count": 14,
      "outputs": [
        {
          "output_type": "stream",
          "name": "stdout",
          "text": [
            "time: 2.49 ms (started: 2021-11-19 22:16:08 +00:00)\n"
          ]
        }
      ]
    },
    {
      "cell_type": "code",
      "metadata": {
        "colab": {
          "base_uri": "https://localhost:8080/"
        },
        "id": "TdRs90rwtfeh",
        "outputId": "e3313237-bc78-4617-9be2-049b21ad5d42"
      },
      "source": [
        "corpus_filenames"
      ],
      "execution_count": 15,
      "outputs": [
        {
          "output_type": "execute_result",
          "data": {
            "text/plain": [
              "array(['jd:_1158', 'jd:15x Bricklayers_87905', 'jd:_19361', ...,\n",
              "       'rs:ZuellenTorres_37505', 'rs:ZuleikaFlores_24346',\n",
              "       'rs:ZumbaInstructor_28782'], dtype=object)"
            ]
          },
          "metadata": {},
          "execution_count": 15
        },
        {
          "output_type": "stream",
          "name": "stdout",
          "text": [
            "time: 5.75 ms (started: 2021-11-19 22:16:08 +00:00)\n"
          ]
        }
      ]
    },
    {
      "cell_type": "code",
      "metadata": {
        "colab": {
          "base_uri": "https://localhost:8080/"
        },
        "id": "gpry8w6asRY5",
        "outputId": "d60326ec-1697-4d75-f1f3-25932019b392"
      },
      "source": [
        "vectorizer = TfidfVectorizer()\n",
        "corpus_vectors = vectorizer.fit_transform(corpus_raw['text'])"
      ],
      "execution_count": 16,
      "outputs": [
        {
          "output_type": "stream",
          "name": "stdout",
          "text": [
            "time: 49.3 s (started: 2021-11-19 22:16:08 +00:00)\n"
          ]
        }
      ]
    },
    {
      "cell_type": "code",
      "metadata": {
        "colab": {
          "base_uri": "https://localhost:8080/"
        },
        "id": "w_fciM_Nsa4A",
        "outputId": "a10f47a7-18fc-4e02-8059-b39a66fc7789"
      },
      "source": [
        "corpus_vectors.shape"
      ],
      "execution_count": 17,
      "outputs": [
        {
          "output_type": "execute_result",
          "data": {
            "text/plain": [
              "(201189, 680560)"
            ]
          },
          "metadata": {},
          "execution_count": 17
        },
        {
          "output_type": "stream",
          "name": "stdout",
          "text": [
            "time: 3.6 ms (started: 2021-11-19 22:16:57 +00:00)\n"
          ]
        }
      ]
    },
    {
      "cell_type": "code",
      "metadata": {
        "colab": {
          "base_uri": "https://localhost:8080/"
        },
        "id": "vMbgkzBouV9Z",
        "outputId": "907bbe5b-79e8-4884-b553-5eab73cf6183"
      },
      "source": [
        "# Get sample value\n",
        "# JD sample\n",
        "jd_sample_index = np.where(corpus_filenames == 'jd:_19361')[0][0]\n",
        "jd_test = corpus_vectors[jd_sample_index]"
      ],
      "execution_count": 18,
      "outputs": [
        {
          "output_type": "stream",
          "name": "stdout",
          "text": [
            "time: 8.23 ms (started: 2021-11-19 22:16:57 +00:00)\n"
          ]
        }
      ]
    },
    {
      "cell_type": "code",
      "metadata": {
        "colab": {
          "base_uri": "https://localhost:8080/"
        },
        "id": "AHsldJz_zsSF",
        "outputId": "0a0995d2-707e-4b96-a763-601254c9fd5e"
      },
      "source": [
        "# Get sample value\n",
        "# Resume sample\n",
        "rs_sample_index = np.where(corpus_filenames == 'rs:ZuellenTorres_37505')[0][0]\n",
        "rs_test = corpus_vectors[rs_sample_index]"
      ],
      "execution_count": 19,
      "outputs": [
        {
          "output_type": "stream",
          "name": "stdout",
          "text": [
            "time: 9.15 ms (started: 2021-11-19 22:16:57 +00:00)\n"
          ]
        }
      ]
    },
    {
      "cell_type": "code",
      "metadata": {
        "colab": {
          "base_uri": "https://localhost:8080/"
        },
        "id": "HlDEwZjy0GiG",
        "outputId": "c945790c-e9c2-49d9-e457-8a06c7643014"
      },
      "source": [
        "jd_test_output = cosine_similarity(corpus_vectors, jd_test)"
      ],
      "execution_count": 20,
      "outputs": [
        {
          "output_type": "stream",
          "name": "stdout",
          "text": [
            "time: 572 ms (started: 2021-11-19 22:16:57 +00:00)\n"
          ]
        }
      ]
    },
    {
      "cell_type": "code",
      "metadata": {
        "colab": {
          "base_uri": "https://localhost:8080/"
        },
        "id": "G1zLPT-X2Vno",
        "outputId": "a3827f01-a07d-446b-92cd-a4476e29f25b"
      },
      "source": [
        "test = pd.DataFrame(jd_test_output, index = corpus_filenames, columns = ['similarity'])"
      ],
      "execution_count": 21,
      "outputs": [
        {
          "output_type": "stream",
          "name": "stdout",
          "text": [
            "time: 8.77 ms (started: 2021-11-19 22:16:58 +00:00)\n"
          ]
        }
      ]
    },
    {
      "cell_type": "code",
      "metadata": {
        "colab": {
          "base_uri": "https://localhost:8080/",
          "height": 413
        },
        "id": "iYkWN-Re6Dqm",
        "outputId": "2c892531-a950-4c73-e626-a07af00bcf16"
      },
      "source": [
        "# Get the largest similarity among all documents\n",
        "test.nlargest(11, 'similarity')"
      ],
      "execution_count": 22,
      "outputs": [
        {
          "output_type": "execute_result",
          "data": {
            "text/html": [
              "<div>\n",
              "<style scoped>\n",
              "    .dataframe tbody tr th:only-of-type {\n",
              "        vertical-align: middle;\n",
              "    }\n",
              "\n",
              "    .dataframe tbody tr th {\n",
              "        vertical-align: top;\n",
              "    }\n",
              "\n",
              "    .dataframe thead th {\n",
              "        text-align: right;\n",
              "    }\n",
              "</style>\n",
              "<table border=\"1\" class=\"dataframe\">\n",
              "  <thead>\n",
              "    <tr style=\"text-align: right;\">\n",
              "      <th></th>\n",
              "      <th>similarity</th>\n",
              "    </tr>\n",
              "  </thead>\n",
              "  <tbody>\n",
              "    <tr>\n",
              "      <th>jd:_19361</th>\n",
              "      <td>1.000000</td>\n",
              "    </tr>\n",
              "    <tr>\n",
              "      <th>jd:Data Warehouse Ana_16208</th>\n",
              "      <td>0.321898</td>\n",
              "    </tr>\n",
              "    <tr>\n",
              "      <th>jd:Data Warehouse Ana_16199</th>\n",
              "      <td>0.316841</td>\n",
              "    </tr>\n",
              "    <tr>\n",
              "      <th>rs:PrudhviIndukuri_41849</th>\n",
              "      <td>0.313536</td>\n",
              "    </tr>\n",
              "    <tr>\n",
              "      <th>jd:Data Warehouse Ana_16211</th>\n",
              "      <td>0.311568</td>\n",
              "    </tr>\n",
              "    <tr>\n",
              "      <th>jd:Data Warehouse Ana_16248</th>\n",
              "      <td>0.309039</td>\n",
              "    </tr>\n",
              "    <tr>\n",
              "      <th>rs:SrOracleDatabaseAdministratorContractor_34291</th>\n",
              "      <td>0.307868</td>\n",
              "    </tr>\n",
              "    <tr>\n",
              "      <th>jd:Data Warehouse Ana_16246</th>\n",
              "      <td>0.307579</td>\n",
              "    </tr>\n",
              "    <tr>\n",
              "      <th>jd:Oracle Database Ad_22937</th>\n",
              "      <td>0.307514</td>\n",
              "    </tr>\n",
              "    <tr>\n",
              "      <th>jd:Database Administr_59540</th>\n",
              "      <td>0.305045</td>\n",
              "    </tr>\n",
              "    <tr>\n",
              "      <th>jd:Senior Oracle PLSQ_31395</th>\n",
              "      <td>0.304796</td>\n",
              "    </tr>\n",
              "  </tbody>\n",
              "</table>\n",
              "</div>"
            ],
            "text/plain": [
              "                                                  similarity\n",
              "jd:_19361                                           1.000000\n",
              "jd:Data Warehouse Ana_16208                         0.321898\n",
              "jd:Data Warehouse Ana_16199                         0.316841\n",
              "rs:PrudhviIndukuri_41849                            0.313536\n",
              "jd:Data Warehouse Ana_16211                         0.311568\n",
              "jd:Data Warehouse Ana_16248                         0.309039\n",
              "rs:SrOracleDatabaseAdministratorContractor_34291    0.307868\n",
              "jd:Data Warehouse Ana_16246                         0.307579\n",
              "jd:Oracle Database Ad_22937                         0.307514\n",
              "jd:Database Administr_59540                         0.305045\n",
              "jd:Senior Oracle PLSQ_31395                         0.304796"
            ]
          },
          "metadata": {},
          "execution_count": 22
        },
        {
          "output_type": "stream",
          "name": "stdout",
          "text": [
            "time: 24.7 ms (started: 2021-11-19 22:16:58 +00:00)\n"
          ]
        }
      ]
    },
    {
      "cell_type": "code",
      "metadata": {
        "colab": {
          "base_uri": "https://localhost:8080/"
        },
        "id": "csuLXgjgNHjT",
        "outputId": "9c310141-2829-416f-dfc0-36f126f68334"
      },
      "source": [
        "# Get the largest similarity of only JDs\n",
        "test_jd_only = test.loc[ jd_filenames, : ]"
      ],
      "execution_count": 23,
      "outputs": [
        {
          "output_type": "stream",
          "name": "stdout",
          "text": [
            "time: 166 ms (started: 2021-11-19 22:16:58 +00:00)\n"
          ]
        }
      ]
    },
    {
      "cell_type": "code",
      "metadata": {
        "colab": {
          "base_uri": "https://localhost:8080/",
          "height": 442
        },
        "id": "DGY3DJq3QFx4",
        "outputId": "ae15f399-cad8-4066-cfec-5d4f5c35396b"
      },
      "source": [
        "test_jd_only"
      ],
      "execution_count": 24,
      "outputs": [
        {
          "output_type": "execute_result",
          "data": {
            "text/html": [
              "<div>\n",
              "<style scoped>\n",
              "    .dataframe tbody tr th:only-of-type {\n",
              "        vertical-align: middle;\n",
              "    }\n",
              "\n",
              "    .dataframe tbody tr th {\n",
              "        vertical-align: top;\n",
              "    }\n",
              "\n",
              "    .dataframe thead th {\n",
              "        text-align: right;\n",
              "    }\n",
              "</style>\n",
              "<table border=\"1\" class=\"dataframe\">\n",
              "  <thead>\n",
              "    <tr style=\"text-align: right;\">\n",
              "      <th></th>\n",
              "      <th>similarity</th>\n",
              "    </tr>\n",
              "  </thead>\n",
              "  <tbody>\n",
              "    <tr>\n",
              "      <th>jd:_1158</th>\n",
              "      <td>0.128046</td>\n",
              "    </tr>\n",
              "    <tr>\n",
              "      <th>jd:15x Bricklayers_87905</th>\n",
              "      <td>0.060180</td>\n",
              "    </tr>\n",
              "    <tr>\n",
              "      <th>jd:_19361</th>\n",
              "      <td>1.000000</td>\n",
              "    </tr>\n",
              "    <tr>\n",
              "      <th>jd:1C Developer_15174</th>\n",
              "      <td>0.084923</td>\n",
              "    </tr>\n",
              "    <tr>\n",
              "      <th>jd:1C Developer_5043</th>\n",
              "      <td>0.077787</td>\n",
              "    </tr>\n",
              "    <tr>\n",
              "      <th>...</th>\n",
              "      <td>...</td>\n",
              "    </tr>\n",
              "    <tr>\n",
              "      <th>jd:Zscaler Security E_23331</th>\n",
              "      <td>0.120874</td>\n",
              "    </tr>\n",
              "    <tr>\n",
              "      <th>jd:ZSM  DSL_70369</th>\n",
              "      <td>0.100540</td>\n",
              "    </tr>\n",
              "    <tr>\n",
              "      <th>jd:ZURICH FAST SDE_2333</th>\n",
              "      <td>0.154837</td>\n",
              "    </tr>\n",
              "    <tr>\n",
              "      <th>jd:Zurich SDM CREST_2366</th>\n",
              "      <td>0.074377</td>\n",
              "    </tr>\n",
              "    <tr>\n",
              "      <th>jd:zzz Certified Nurs_53703</th>\n",
              "      <td>0.149826</td>\n",
              "    </tr>\n",
              "  </tbody>\n",
              "</table>\n",
              "<p>151166 rows × 1 columns</p>\n",
              "</div>"
            ],
            "text/plain": [
              "                             similarity\n",
              "jd:_1158                       0.128046\n",
              "jd:15x Bricklayers_87905       0.060180\n",
              "jd:_19361                      1.000000\n",
              "jd:1C Developer_15174          0.084923\n",
              "jd:1C Developer_5043           0.077787\n",
              "...                                 ...\n",
              "jd:Zscaler Security E_23331    0.120874\n",
              "jd:ZSM  DSL_70369              0.100540\n",
              "jd:ZURICH FAST SDE_2333        0.154837\n",
              "jd:Zurich SDM CREST_2366       0.074377\n",
              "jd:zzz Certified Nurs_53703    0.149826\n",
              "\n",
              "[151166 rows x 1 columns]"
            ]
          },
          "metadata": {},
          "execution_count": 24
        },
        {
          "output_type": "stream",
          "name": "stdout",
          "text": [
            "time: 16.9 ms (started: 2021-11-19 22:16:58 +00:00)\n"
          ]
        }
      ]
    },
    {
      "cell_type": "code",
      "metadata": {
        "colab": {
          "base_uri": "https://localhost:8080/",
          "height": 413
        },
        "id": "S9gSTA5TQpSe",
        "outputId": "de80e1a7-6d24-4397-915f-422500054662"
      },
      "source": [
        "test_jd_only.nlargest(11, 'similarity')"
      ],
      "execution_count": 25,
      "outputs": [
        {
          "output_type": "execute_result",
          "data": {
            "text/html": [
              "<div>\n",
              "<style scoped>\n",
              "    .dataframe tbody tr th:only-of-type {\n",
              "        vertical-align: middle;\n",
              "    }\n",
              "\n",
              "    .dataframe tbody tr th {\n",
              "        vertical-align: top;\n",
              "    }\n",
              "\n",
              "    .dataframe thead th {\n",
              "        text-align: right;\n",
              "    }\n",
              "</style>\n",
              "<table border=\"1\" class=\"dataframe\">\n",
              "  <thead>\n",
              "    <tr style=\"text-align: right;\">\n",
              "      <th></th>\n",
              "      <th>similarity</th>\n",
              "    </tr>\n",
              "  </thead>\n",
              "  <tbody>\n",
              "    <tr>\n",
              "      <th>jd:_19361</th>\n",
              "      <td>1.000000</td>\n",
              "    </tr>\n",
              "    <tr>\n",
              "      <th>jd:Data Warehouse Ana_16208</th>\n",
              "      <td>0.321898</td>\n",
              "    </tr>\n",
              "    <tr>\n",
              "      <th>jd:Data Warehouse Ana_16199</th>\n",
              "      <td>0.316841</td>\n",
              "    </tr>\n",
              "    <tr>\n",
              "      <th>jd:Data Warehouse Ana_16211</th>\n",
              "      <td>0.311568</td>\n",
              "    </tr>\n",
              "    <tr>\n",
              "      <th>jd:Data Warehouse Ana_16248</th>\n",
              "      <td>0.309039</td>\n",
              "    </tr>\n",
              "    <tr>\n",
              "      <th>jd:Data Warehouse Ana_16246</th>\n",
              "      <td>0.307579</td>\n",
              "    </tr>\n",
              "    <tr>\n",
              "      <th>jd:Oracle Database Ad_22937</th>\n",
              "      <td>0.307514</td>\n",
              "    </tr>\n",
              "    <tr>\n",
              "      <th>jd:Database Administr_59540</th>\n",
              "      <td>0.305045</td>\n",
              "    </tr>\n",
              "    <tr>\n",
              "      <th>jd:Senior Oracle PLSQ_31395</th>\n",
              "      <td>0.304796</td>\n",
              "    </tr>\n",
              "    <tr>\n",
              "      <th>jd:Senior Oracle Uni_68287</th>\n",
              "      <td>0.304301</td>\n",
              "    </tr>\n",
              "    <tr>\n",
              "      <th>jd:Oracle Database De_28231</th>\n",
              "      <td>0.303218</td>\n",
              "    </tr>\n",
              "  </tbody>\n",
              "</table>\n",
              "</div>"
            ],
            "text/plain": [
              "                             similarity\n",
              "jd:_19361                      1.000000\n",
              "jd:Data Warehouse Ana_16208    0.321898\n",
              "jd:Data Warehouse Ana_16199    0.316841\n",
              "jd:Data Warehouse Ana_16211    0.311568\n",
              "jd:Data Warehouse Ana_16248    0.309039\n",
              "jd:Data Warehouse Ana_16246    0.307579\n",
              "jd:Oracle Database Ad_22937    0.307514\n",
              "jd:Database Administr_59540    0.305045\n",
              "jd:Senior Oracle PLSQ_31395    0.304796\n",
              "jd:Senior Oracle Uni_68287     0.304301\n",
              "jd:Oracle Database De_28231    0.303218"
            ]
          },
          "metadata": {},
          "execution_count": 25
        },
        {
          "output_type": "stream",
          "name": "stdout",
          "text": [
            "time: 22 ms (started: 2021-11-19 22:16:58 +00:00)\n"
          ]
        }
      ]
    },
    {
      "cell_type": "code",
      "metadata": {
        "colab": {
          "base_uri": "https://localhost:8080/"
        },
        "id": "9SYJprvKQyNW",
        "outputId": "a7c8ade7-1c7e-490f-858a-3d037c2ec858"
      },
      "source": [
        "# Get the largest similarity of only Resumes\n",
        "test_rs_only = test.loc[ resume_filenames, : ]"
      ],
      "execution_count": 26,
      "outputs": [
        {
          "output_type": "stream",
          "name": "stdout",
          "text": [
            "time: 79.2 ms (started: 2021-11-19 22:16:58 +00:00)\n"
          ]
        }
      ]
    },
    {
      "cell_type": "code",
      "metadata": {
        "colab": {
          "base_uri": "https://localhost:8080/",
          "height": 413
        },
        "id": "m_apa7EuQ3qO",
        "outputId": "503ad15e-9a88-49e8-f7c7-dab3c7551780"
      },
      "source": [
        "test_rs_only.nlargest(11, 'similarity')"
      ],
      "execution_count": 27,
      "outputs": [
        {
          "output_type": "execute_result",
          "data": {
            "text/html": [
              "<div>\n",
              "<style scoped>\n",
              "    .dataframe tbody tr th:only-of-type {\n",
              "        vertical-align: middle;\n",
              "    }\n",
              "\n",
              "    .dataframe tbody tr th {\n",
              "        vertical-align: top;\n",
              "    }\n",
              "\n",
              "    .dataframe thead th {\n",
              "        text-align: right;\n",
              "    }\n",
              "</style>\n",
              "<table border=\"1\" class=\"dataframe\">\n",
              "  <thead>\n",
              "    <tr style=\"text-align: right;\">\n",
              "      <th></th>\n",
              "      <th>similarity</th>\n",
              "    </tr>\n",
              "  </thead>\n",
              "  <tbody>\n",
              "    <tr>\n",
              "      <th>rs:PrudhviIndukuri_41849</th>\n",
              "      <td>0.313536</td>\n",
              "    </tr>\n",
              "    <tr>\n",
              "      <th>rs:SrOracleDatabaseAdministratorContractor_34291</th>\n",
              "      <td>0.307868</td>\n",
              "    </tr>\n",
              "    <tr>\n",
              "      <th>rs:GilbertBaltimore_32445</th>\n",
              "      <td>0.304036</td>\n",
              "    </tr>\n",
              "    <tr>\n",
              "      <th>rs:TusharReddy_23622</th>\n",
              "      <td>0.298362</td>\n",
              "    </tr>\n",
              "    <tr>\n",
              "      <th>rs:VenkatRamaiah_14037</th>\n",
              "      <td>0.298120</td>\n",
              "    </tr>\n",
              "    <tr>\n",
              "      <th>rs:KVarma_13433</th>\n",
              "      <td>0.290773</td>\n",
              "    </tr>\n",
              "    <tr>\n",
              "      <th>rs:LindaStewart_1461</th>\n",
              "      <td>0.288696</td>\n",
              "    </tr>\n",
              "    <tr>\n",
              "      <th>rs:PLSQLETLDeveloper_25030</th>\n",
              "      <td>0.287903</td>\n",
              "    </tr>\n",
              "    <tr>\n",
              "      <th>rs:TechnicalAnalystDeveloperModuleLead_35805</th>\n",
              "      <td>0.283132</td>\n",
              "    </tr>\n",
              "    <tr>\n",
              "      <th>rs:LeadOracleDeveloper_11171</th>\n",
              "      <td>0.282850</td>\n",
              "    </tr>\n",
              "    <tr>\n",
              "      <th>rs:MurthyMantha_41937</th>\n",
              "      <td>0.281588</td>\n",
              "    </tr>\n",
              "  </tbody>\n",
              "</table>\n",
              "</div>"
            ],
            "text/plain": [
              "                                                  similarity\n",
              "rs:PrudhviIndukuri_41849                            0.313536\n",
              "rs:SrOracleDatabaseAdministratorContractor_34291    0.307868\n",
              "rs:GilbertBaltimore_32445                           0.304036\n",
              "rs:TusharReddy_23622                                0.298362\n",
              "rs:VenkatRamaiah_14037                              0.298120\n",
              "rs:KVarma_13433                                     0.290773\n",
              "rs:LindaStewart_1461                                0.288696\n",
              "rs:PLSQLETLDeveloper_25030                          0.287903\n",
              "rs:TechnicalAnalystDeveloperModuleLead_35805        0.283132\n",
              "rs:LeadOracleDeveloper_11171                        0.282850\n",
              "rs:MurthyMantha_41937                               0.281588"
            ]
          },
          "metadata": {},
          "execution_count": 27
        },
        {
          "output_type": "stream",
          "name": "stdout",
          "text": [
            "time: 14.7 ms (started: 2021-11-19 22:16:58 +00:00)\n"
          ]
        }
      ]
    }
  ]
}