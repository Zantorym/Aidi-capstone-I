{
  "nbformat": 4,
  "nbformat_minor": 0,
  "metadata": {
    "colab": {
      "name": "AIDI1003_Capstone_Similarity_MAP.ipynb",
      "provenance": [],
      "collapsed_sections": [],
      "include_colab_link": true
    },
    "kernelspec": {
      "name": "python3",
      "display_name": "Python 3"
    },
    "language_info": {
      "name": "python"
    }
  },
  "cells": [
    {
      "cell_type": "markdown",
      "metadata": {
        "id": "view-in-github",
        "colab_type": "text"
      },
      "source": [
        "<a href=\"https://colab.research.google.com/github/Zantorym/Aidi-capstone-I/blob/main/AIDI1003_Capstone_Similarity_MAP.ipynb\" target=\"_parent\"><img src=\"https://colab.research.google.com/assets/colab-badge.svg\" alt=\"Open In Colab\"/></a>"
      ]
    },
    {
      "cell_type": "markdown",
      "metadata": {
        "id": "a4_QbfvVAUFa"
      },
      "source": [
        "# Preparation"
      ]
    },
    {
      "cell_type": "code",
      "metadata": {
        "colab": {
          "base_uri": "https://localhost:8080/"
        },
        "id": "kZ1BuYPlrmz6",
        "outputId": "1c54ef20-10e8-42cd-d406-5f5759b425c5"
      },
      "source": [
        "# Timer to measure code execution time\n",
        "!pip install ipython-autotime\n",
        "%load_ext autotime"
      ],
      "execution_count": 1,
      "outputs": [
        {
          "output_type": "stream",
          "name": "stdout",
          "text": [
            "Collecting ipython-autotime\n",
            "  Downloading ipython_autotime-0.3.1-py2.py3-none-any.whl (6.8 kB)\n",
            "Requirement already satisfied: ipython in /usr/local/lib/python3.7/dist-packages (from ipython-autotime) (5.5.0)\n",
            "Requirement already satisfied: traitlets>=4.2 in /usr/local/lib/python3.7/dist-packages (from ipython->ipython-autotime) (5.1.1)\n",
            "Requirement already satisfied: setuptools>=18.5 in /usr/local/lib/python3.7/dist-packages (from ipython->ipython-autotime) (57.4.0)\n",
            "Requirement already satisfied: decorator in /usr/local/lib/python3.7/dist-packages (from ipython->ipython-autotime) (4.4.2)\n",
            "Requirement already satisfied: pexpect in /usr/local/lib/python3.7/dist-packages (from ipython->ipython-autotime) (4.8.0)\n",
            "Requirement already satisfied: pickleshare in /usr/local/lib/python3.7/dist-packages (from ipython->ipython-autotime) (0.7.5)\n",
            "Requirement already satisfied: simplegeneric>0.8 in /usr/local/lib/python3.7/dist-packages (from ipython->ipython-autotime) (0.8.1)\n",
            "Requirement already satisfied: prompt-toolkit<2.0.0,>=1.0.4 in /usr/local/lib/python3.7/dist-packages (from ipython->ipython-autotime) (1.0.18)\n",
            "Requirement already satisfied: pygments in /usr/local/lib/python3.7/dist-packages (from ipython->ipython-autotime) (2.6.1)\n",
            "Requirement already satisfied: six>=1.9.0 in /usr/local/lib/python3.7/dist-packages (from prompt-toolkit<2.0.0,>=1.0.4->ipython->ipython-autotime) (1.15.0)\n",
            "Requirement already satisfied: wcwidth in /usr/local/lib/python3.7/dist-packages (from prompt-toolkit<2.0.0,>=1.0.4->ipython->ipython-autotime) (0.2.5)\n",
            "Requirement already satisfied: ptyprocess>=0.5 in /usr/local/lib/python3.7/dist-packages (from pexpect->ipython->ipython-autotime) (0.7.0)\n",
            "Installing collected packages: ipython-autotime\n",
            "Successfully installed ipython-autotime-0.3.1\n",
            "time: 882 µs (started: 2021-12-09 04:27:52 +00:00)\n"
          ]
        }
      ]
    },
    {
      "cell_type": "code",
      "metadata": {
        "colab": {
          "base_uri": "https://localhost:8080/"
        },
        "id": "lpjEpwqL0BPn",
        "outputId": "0e655f27-9611-43e3-aeee-8f19828b14c1"
      },
      "source": [
        "# Importing libraries\n",
        "import pickle\n",
        "import nltk\n",
        "import pandas as pd\n",
        "import numpy as np\n",
        "from nltk.tokenize import TreebankWordTokenizer\n",
        "from nltk.util import ngrams\n",
        "from sklearn.feature_extraction.text import ENGLISH_STOP_WORDS as sklearn_stop_words\n",
        "from sklearn.feature_extraction.text import TfidfVectorizer\n",
        "from sklearn.feature_extraction.text import CountVectorizer\n",
        "from sklearn.metrics.pairwise import cosine_similarity\n",
        "from sklearn.metrics.pairwise import euclidean_distances"
      ],
      "execution_count": 2,
      "outputs": [
        {
          "output_type": "stream",
          "name": "stdout",
          "text": [
            "time: 1.23 s (started: 2021-12-09 04:27:52 +00:00)\n"
          ]
        }
      ]
    },
    {
      "cell_type": "code",
      "metadata": {
        "colab": {
          "base_uri": "https://localhost:8080/"
        },
        "id": "uHxtZ2XI2GMT",
        "outputId": "63dc22e6-5b3b-4d25-9016-d88707b0df96"
      },
      "source": [
        "# Constants\n",
        "# Pickle Input\n",
        "JD_FILES_PICKLE_OUTPATH='/content/drive/MyDrive/Durham College/Capstone - I/data/Datasets/jds.pickle'\n",
        "RESUME_FILES_PICKLE_OUTPATH='/content/drive/MyDrive/Durham College/Capstone - I/data/Datasets/resumes.pickle'\n",
        "\n",
        "PREPROCESS_METHOD = 1 # 0 if we don't want to pre-process, 1 if we want to pre-process\n",
        "VECTORIZATION_METHOD = 1 # 0 for TF-IDF, 1 for bag of words\n",
        "SIMILARITY_METHOD = 0 # 0 for cosine similarity, 1 for euclidean distance"
      ],
      "execution_count": 44,
      "outputs": [
        {
          "output_type": "stream",
          "name": "stdout",
          "text": [
            "time: 2.76 ms (started: 2021-12-09 05:23:08 +00:00)\n"
          ]
        }
      ]
    },
    {
      "cell_type": "code",
      "metadata": {
        "colab": {
          "base_uri": "https://localhost:8080/"
        },
        "id": "D4oa7KZWBhcm",
        "outputId": "0030d9c4-2875-47ca-d2a8-7d291afc6162"
      },
      "source": [
        "from google.colab import drive\n",
        "drive.mount('/content/drive')"
      ],
      "execution_count": 4,
      "outputs": [
        {
          "output_type": "stream",
          "name": "stdout",
          "text": [
            "Mounted at /content/drive\n",
            "time: 31.5 s (started: 2021-12-09 04:27:55 +00:00)\n"
          ]
        }
      ]
    },
    {
      "cell_type": "code",
      "metadata": {
        "colab": {
          "base_uri": "https://localhost:8080/"
        },
        "id": "P4Ph-9wh2IT8",
        "outputId": "69483cc3-f5f2-44c0-ef4d-6c8018ba529d"
      },
      "source": [
        "jd_files_dict = resume_files_dict = {}\n",
        "with open(JD_FILES_PICKLE_OUTPATH, 'rb') as fh:\n",
        "  jd_files_dict = pickle.load(fh)\n",
        "with open(RESUME_FILES_PICKLE_OUTPATH, 'rb') as fh:\n",
        "  resume_files_dict = pickle.load(fh)"
      ],
      "execution_count": 5,
      "outputs": [
        {
          "output_type": "stream",
          "name": "stdout",
          "text": [
            "time: 8.75 s (started: 2021-12-09 04:28:27 +00:00)\n"
          ]
        }
      ]
    },
    {
      "cell_type": "code",
      "metadata": {
        "colab": {
          "base_uri": "https://localhost:8080/"
        },
        "id": "XFrMxn0-63NG",
        "outputId": "0c3473e0-2599-47b1-edab-6c3f8f76bde6"
      },
      "source": [
        "nltk.download('stopwords')\n",
        "stop_words = nltk.corpus.stopwords.words('english')\n",
        "stop_words = sklearn_stop_words.intersection(stop_words)"
      ],
      "execution_count": 6,
      "outputs": [
        {
          "output_type": "stream",
          "name": "stdout",
          "text": [
            "[nltk_data] Downloading package stopwords to /root/nltk_data...\n",
            "[nltk_data]   Unzipping corpora/stopwords.zip.\n",
            "time: 129 ms (started: 2021-12-09 04:28:36 +00:00)\n"
          ]
        }
      ]
    },
    {
      "cell_type": "code",
      "metadata": {
        "colab": {
          "base_uri": "https://localhost:8080/"
        },
        "id": "2mrCdl8F6Z0d",
        "outputId": "71373470-ad29-4a5d-a0f1-e25cf766a543"
      },
      "source": [
        "def tokenize(text):\n",
        "  tokenized = text.lower().split()\n",
        "  tokenized = [token for token in tokenized if (token not in stop_words and len(token)>1 and all(char.isalpha() or char.isdigit() for char in token) and any(char.isalpha() for char in token))] # No stop words, Length > 1, only alphanumeric tokens, at least one alphabet\n",
        "  string = ' '.join(tokenized) # Convert to string for TFIDF vectorizer\n",
        "  return string"
      ],
      "execution_count": 7,
      "outputs": [
        {
          "output_type": "stream",
          "name": "stdout",
          "text": [
            "time: 5.3 ms (started: 2021-12-09 04:28:36 +00:00)\n"
          ]
        }
      ]
    },
    {
      "cell_type": "code",
      "metadata": {
        "colab": {
          "base_uri": "https://localhost:8080/"
        },
        "id": "O_0khMeSrCqA",
        "outputId": "81c1f980-1f6e-4d72-d58e-bc3c5cb22e79"
      },
      "source": [
        "print('Count of JDs:', len(jd_files_dict))\n",
        "print('Count of Resumes:', len(resume_files_dict))"
      ],
      "execution_count": 8,
      "outputs": [
        {
          "output_type": "stream",
          "name": "stdout",
          "text": [
            "Count of JDs: 151210\n",
            "Count of Resumes: 50023\n",
            "time: 4.56 ms (started: 2021-12-09 04:28:36 +00:00)\n"
          ]
        }
      ]
    },
    {
      "cell_type": "code",
      "metadata": {
        "colab": {
          "base_uri": "https://localhost:8080/"
        },
        "id": "zGiKIjvfrWB3",
        "outputId": "b3d19f34-3ae6-49d0-fcde-9cd440de5d79"
      },
      "source": [
        "combined_files_dict = {}\n",
        "for filename in jd_files_dict:\n",
        "  modified_fn = 'jd:' + filename\n",
        "  if len(jd_files_dict[filename].strip()) == 0:\n",
        "    continue\n",
        "  combined_files_dict[modified_fn] = jd_files_dict[filename]\n",
        "for filename in resume_files_dict:\n",
        "  modified_fn = 'rs:' + filename\n",
        "  if len(resume_files_dict[filename].strip()) == 0:\n",
        "    continue\n",
        "  combined_files_dict[modified_fn] = resume_files_dict[filename]"
      ],
      "execution_count": 9,
      "outputs": [
        {
          "output_type": "stream",
          "name": "stdout",
          "text": [
            "time: 254 ms (started: 2021-12-09 04:28:36 +00:00)\n"
          ]
        }
      ]
    },
    {
      "cell_type": "code",
      "metadata": {
        "colab": {
          "base_uri": "https://localhost:8080/"
        },
        "id": "_PgaWnZaNZ_d",
        "outputId": "1e0ba32e-ccdb-4fe0-e958-a562c5e7d672"
      },
      "source": [
        "jd_filenames = [key for key in combined_files_dict.keys() if key.startswith('jd:')]"
      ],
      "execution_count": 10,
      "outputs": [
        {
          "output_type": "stream",
          "name": "stdout",
          "text": [
            "time: 48.4 ms (started: 2021-12-09 04:28:37 +00:00)\n"
          ]
        }
      ]
    },
    {
      "cell_type": "code",
      "metadata": {
        "colab": {
          "base_uri": "https://localhost:8080/"
        },
        "id": "QmTtJ8s_OMrx",
        "outputId": "c4bc2579-9f2c-4cf0-84e0-1c1caeb54571"
      },
      "source": [
        "resume_filenames = [key for key in combined_files_dict.keys() if key.startswith('rs:')]"
      ],
      "execution_count": 11,
      "outputs": [
        {
          "output_type": "stream",
          "name": "stdout",
          "text": [
            "time: 36.9 ms (started: 2021-12-09 04:28:37 +00:00)\n"
          ]
        }
      ]
    },
    {
      "cell_type": "code",
      "metadata": {
        "colab": {
          "base_uri": "https://localhost:8080/"
        },
        "id": "f3kqncK9rl4M",
        "outputId": "10537452-346e-4de1-8cbf-f802bd23267c"
      },
      "source": [
        "print('Count of Combines:', len(combined_files_dict))"
      ],
      "execution_count": 12,
      "outputs": [
        {
          "output_type": "stream",
          "name": "stdout",
          "text": [
            "Count of Combines: 201189\n",
            "time: 3.22 ms (started: 2021-12-09 04:28:37 +00:00)\n"
          ]
        }
      ]
    },
    {
      "cell_type": "code",
      "metadata": {
        "colab": {
          "base_uri": "https://localhost:8080/"
        },
        "id": "mzJLQ-hbp_hr",
        "outputId": "4e553fd0-64ce-4c93-b87f-8630799da3c8"
      },
      "source": [
        "# Converting corpus from dictionary to dataframe\n",
        "corpus_raw = pd.DataFrame.from_dict(combined_files_dict, orient='index', columns=['text'])"
      ],
      "execution_count": 13,
      "outputs": [
        {
          "output_type": "stream",
          "name": "stdout",
          "text": [
            "time: 124 ms (started: 2021-12-09 04:28:37 +00:00)\n"
          ]
        }
      ]
    },
    {
      "cell_type": "code",
      "metadata": {
        "colab": {
          "base_uri": "https://localhost:8080/"
        },
        "id": "esZaQ0rNGU17",
        "outputId": "eea45f29-3bdd-460b-fb28-176d8e61446f"
      },
      "source": [
        "# Applying some pre-processing to the dataset\n",
        "if PREPROCESS_METHOD == 1:\n",
        "  corpus_raw['text'] = corpus_raw['text'].apply(tokenize)"
      ],
      "execution_count": 36,
      "outputs": [
        {
          "output_type": "stream",
          "name": "stdout",
          "text": [
            "time: 1min 17s (started: 2021-12-09 05:14:06 +00:00)\n"
          ]
        }
      ]
    },
    {
      "cell_type": "code",
      "metadata": {
        "colab": {
          "base_uri": "https://localhost:8080/"
        },
        "id": "gpry8w6asRY5",
        "outputId": "647dffb4-d56b-4b23-87f5-3919b958169d"
      },
      "source": [
        "if VECTORIZATION_METHOD == 0:\n",
        "  vectorizer = TfidfVectorizer()\n",
        "  corpus_vectors = vectorizer.fit_transform(corpus_raw['text'])\n",
        "else:\n",
        "  vectorizer = CountVectorizer()\n",
        "  corpus_vectors = vectorizer.fit_transform(corpus_raw['text'])"
      ],
      "execution_count": 37,
      "outputs": [
        {
          "output_type": "stream",
          "name": "stdout",
          "text": [
            "time: 34.3 s (started: 2021-12-09 05:15:24 +00:00)\n"
          ]
        }
      ]
    },
    {
      "cell_type": "code",
      "metadata": {
        "colab": {
          "base_uri": "https://localhost:8080/"
        },
        "id": "w_fciM_Nsa4A",
        "outputId": "ec11809b-03fe-44ac-bb91-0275723cae34"
      },
      "source": [
        "corpus_vectors.shape"
      ],
      "execution_count": 38,
      "outputs": [
        {
          "output_type": "execute_result",
          "data": {
            "text/plain": [
              "(201189, 660008)"
            ]
          },
          "metadata": {},
          "execution_count": 38
        },
        {
          "output_type": "stream",
          "name": "stdout",
          "text": [
            "time: 4.05 ms (started: 2021-12-09 05:15:58 +00:00)\n"
          ]
        }
      ]
    },
    {
      "cell_type": "code",
      "metadata": {
        "colab": {
          "base_uri": "https://localhost:8080/"
        },
        "id": "wM6vFXA4BYG8",
        "outputId": "a65f5bb4-c5c2-477c-9112-f24261499ad2"
      },
      "source": [
        "corpus_filenames = corpus_raw.index.values # List of file names in the corpus"
      ],
      "execution_count": 39,
      "outputs": [
        {
          "output_type": "stream",
          "name": "stdout",
          "text": [
            "time: 1.26 ms (started: 2021-12-09 05:15:58 +00:00)\n"
          ]
        }
      ]
    },
    {
      "cell_type": "markdown",
      "metadata": {
        "id": "ybpNV98AZFYk"
      },
      "source": [
        "### Test files for evaluating"
      ]
    },
    {
      "cell_type": "code",
      "metadata": {
        "colab": {
          "base_uri": "https://localhost:8080/"
        },
        "id": "xSCk3xuUP2Np",
        "outputId": "afaa9ce1-fec4-45c1-fa20-69301cea8f93"
      },
      "source": [
        "EVAL_MATRIX_FILE_PATH = '/content/drive/MyDrive/Durham College/Capstone - I/Evaluation_Matrix.xlsx'\n",
        "\n",
        "eval_matrix = pd.ExcelFile(EVAL_MATRIX_FILE_PATH)\n",
        "jd2jd = pd.read_excel(eval_matrix, 'JD_2_JD') # JD_2_JD testing dataset\n",
        "r2r = pd.read_excel(eval_matrix, 'Resume_2_Resume') # Resume_2_Resume testing dataset\n",
        "jd2r = pd.read_excel(eval_matrix, 'JD_2_Resume') # JD_2_Resume testing dataset\n",
        "r2jd = pd.read_excel(eval_matrix, 'Resume_2_JD') # Resume_2_JD testing dataset\n",
        "\n",
        "jd2jd = jd2jd.drop('Contributer', axis=1) # Removing the contributer column\n",
        "jd2jd.set_index('Query_File_ID', inplace=True) # Makining Query_File_ID the index\n",
        "\n",
        "r2r = r2r.drop('Contributor', axis=1) # Removing the contributer column\n",
        "r2r.set_index('Query_File_ID', inplace=True) # Makining Query_File_ID the index\n",
        "\n",
        "jd2r = jd2r.drop('Contributor', axis=1) # Removing the contributer column\n",
        "jd2r.set_index('Query_File_ID', inplace=True) # Makining Query_File_ID the index\n",
        "\n",
        "r2jd = r2jd.drop('Contributor', axis=1) # Removing the contributer column\n",
        "r2jd.set_index('Query_File_ID', inplace=True) # Makining Query_File_ID the index"
      ],
      "execution_count": 19,
      "outputs": [
        {
          "output_type": "stream",
          "name": "stdout",
          "text": [
            "time: 470 ms (started: 2021-12-09 04:32:12 +00:00)\n"
          ]
        }
      ]
    },
    {
      "cell_type": "code",
      "metadata": {
        "colab": {
          "base_uri": "https://localhost:8080/",
          "height": 657
        },
        "id": "DloJSKHfWfPR",
        "outputId": "df9a7d68-a7d7-49d8-c658-1b427747c617"
      },
      "source": [
        "r2jd"
      ],
      "execution_count": 20,
      "outputs": [
        {
          "output_type": "execute_result",
          "data": {
            "text/html": [
              "<div>\n",
              "<style scoped>\n",
              "    .dataframe tbody tr th:only-of-type {\n",
              "        vertical-align: middle;\n",
              "    }\n",
              "\n",
              "    .dataframe tbody tr th {\n",
              "        vertical-align: top;\n",
              "    }\n",
              "\n",
              "    .dataframe thead th {\n",
              "        text-align: right;\n",
              "    }\n",
              "</style>\n",
              "<table border=\"1\" class=\"dataframe\">\n",
              "  <thead>\n",
              "    <tr style=\"text-align: right;\">\n",
              "      <th></th>\n",
              "      <th>Relevent_File_ID_1</th>\n",
              "      <th>Relevent_File_ID_2</th>\n",
              "      <th>Relevent_File_ID_3</th>\n",
              "      <th>Relevent_File_ID_4</th>\n",
              "      <th>Relevent_File_ID_5</th>\n",
              "      <th>Relevent_File_ID_6</th>\n",
              "      <th>Relevent_File_ID</th>\n",
              "      <th>Relevent_File_ID.1</th>\n",
              "      <th>Relevent_File_ID.2</th>\n",
              "      <th>Relevent_File_ID.3</th>\n",
              "    </tr>\n",
              "    <tr>\n",
              "      <th>Query_File_ID</th>\n",
              "      <th></th>\n",
              "      <th></th>\n",
              "      <th></th>\n",
              "      <th></th>\n",
              "      <th></th>\n",
              "      <th></th>\n",
              "      <th></th>\n",
              "      <th></th>\n",
              "      <th></th>\n",
              "      <th></th>\n",
              "    </tr>\n",
              "  </thead>\n",
              "  <tbody>\n",
              "    <tr>\n",
              "      <th>HadoopDeveloper_25461</th>\n",
              "      <td>Sr Technical Consu_73658</td>\n",
              "      <td>Hadoop Administrat_19699</td>\n",
              "      <td>Big Data Solutions_31787</td>\n",
              "      <td>Big Data Consultan_23750</td>\n",
              "      <td>ETL Architect Need_24275</td>\n",
              "      <td>Insurance AAE Big_23754</td>\n",
              "      <td>NaN</td>\n",
              "      <td>NaN</td>\n",
              "      <td>NaN</td>\n",
              "      <td>NaN</td>\n",
              "    </tr>\n",
              "    <tr>\n",
              "      <th>SeniorHadoopDeveloper_47290</th>\n",
              "      <td>Sr Technical Consu_73658</td>\n",
              "      <td>Hadoop Administrat_19699</td>\n",
              "      <td>Big Data Solutions_31787</td>\n",
              "      <td>Hadoop Developer_20482</td>\n",
              "      <td>ETL Architect_24376</td>\n",
              "      <td>Advanced Analytics_23873</td>\n",
              "      <td>NaN</td>\n",
              "      <td>NaN</td>\n",
              "      <td>NaN</td>\n",
              "      <td>NaN</td>\n",
              "    </tr>\n",
              "    <tr>\n",
              "      <th>MurthyMantha_41937</th>\n",
              "      <td>ETL Architect_24376</td>\n",
              "      <td>Hadoop Developer_20482</td>\n",
              "      <td>Hadoop Administrat_19699</td>\n",
              "      <td>Advanced Analytics_23873</td>\n",
              "      <td>Sr BigData Develop_18207</td>\n",
              "      <td>ETL Hadoop UI_20409</td>\n",
              "      <td>NaN</td>\n",
              "      <td>NaN</td>\n",
              "      <td>NaN</td>\n",
              "      <td>NaN</td>\n",
              "    </tr>\n",
              "    <tr>\n",
              "      <th>FullStackNetDeveloper_15695</th>\n",
              "      <td>JavaHadoop Develop_21652</td>\n",
              "      <td>Multiple Java Posi_22877</td>\n",
              "      <td>ETL Hadoop UI_20409</td>\n",
              "      <td>Advanced Analytics_23873</td>\n",
              "      <td>JavaAWS Developer_18799</td>\n",
              "      <td>Big Data Solutions_31908</td>\n",
              "      <td>NaN</td>\n",
              "      <td>NaN</td>\n",
              "      <td>NaN</td>\n",
              "      <td>NaN</td>\n",
              "    </tr>\n",
              "    <tr>\n",
              "      <th>TableauDeveloperBIConsultant_45792</th>\n",
              "      <td>Hadoop Developer_20900</td>\n",
              "      <td>Data Architect_32168</td>\n",
              "      <td>Big Data Solutions_31908</td>\n",
              "      <td>Sr Technical Consu_73658</td>\n",
              "      <td>Hadoop Administrat_19699</td>\n",
              "      <td>Big Data Solutions_31787</td>\n",
              "      <td>NaN</td>\n",
              "      <td>NaN</td>\n",
              "      <td>NaN</td>\n",
              "      <td>NaN</td>\n",
              "    </tr>\n",
              "    <tr>\n",
              "      <th>...</th>\n",
              "      <td>...</td>\n",
              "      <td>...</td>\n",
              "      <td>...</td>\n",
              "      <td>...</td>\n",
              "      <td>...</td>\n",
              "      <td>...</td>\n",
              "      <td>...</td>\n",
              "      <td>...</td>\n",
              "      <td>...</td>\n",
              "      <td>...</td>\n",
              "    </tr>\n",
              "    <tr>\n",
              "      <th>WilliamWhite_30728</th>\n",
              "      <td>Service Technician_101359</td>\n",
              "      <td>Service Technician_89585</td>\n",
              "      <td>Service Technician_79953</td>\n",
              "      <td>Service Technician_51292</td>\n",
              "      <td>Service Technician_46608</td>\n",
              "      <td>Service Technician_46243</td>\n",
              "      <td>Service Technician_46092</td>\n",
              "      <td>Service Technician_46040</td>\n",
              "      <td>Service Technician_45968</td>\n",
              "      <td>Service Technician_45589</td>\n",
              "    </tr>\n",
              "    <tr>\n",
              "      <th>JulieAdcock_42058</th>\n",
              "      <td>Project Management_74694</td>\n",
              "      <td>Project Management_63194</td>\n",
              "      <td>PROJECT MANAGEMENT_49412</td>\n",
              "      <td>Project Management_43218</td>\n",
              "      <td>Project Management_85981</td>\n",
              "      <td>Project Management_63194</td>\n",
              "      <td>NaN</td>\n",
              "      <td>NaN</td>\n",
              "      <td>NaN</td>\n",
              "      <td>NaN</td>\n",
              "    </tr>\n",
              "    <tr>\n",
              "      <th>MachineOperator_29318</th>\n",
              "      <td>Machine Operator_81613</td>\n",
              "      <td>Machine Operator_100793</td>\n",
              "      <td>Machine Operator_80619</td>\n",
              "      <td>Machine Operator_51402</td>\n",
              "      <td>Machine Operators_44249</td>\n",
              "      <td>NaN</td>\n",
              "      <td>NaN</td>\n",
              "      <td>NaN</td>\n",
              "      <td>NaN</td>\n",
              "      <td>NaN</td>\n",
              "    </tr>\n",
              "    <tr>\n",
              "      <th>MagdalenaLuczak_15102</th>\n",
              "      <td>Administrative Ass_149915</td>\n",
              "      <td>Administrative Ass_150611</td>\n",
              "      <td>Administrative Ass_150374</td>\n",
              "      <td>Administrative Ass_150193</td>\n",
              "      <td>Administrative Ass_149104</td>\n",
              "      <td>NaN</td>\n",
              "      <td>NaN</td>\n",
              "      <td>NaN</td>\n",
              "      <td>NaN</td>\n",
              "      <td>NaN</td>\n",
              "    </tr>\n",
              "    <tr>\n",
              "      <th>MalikSimmons_32366</th>\n",
              "      <td>Research Assistant_100398</td>\n",
              "      <td>Research Assistant_48089</td>\n",
              "      <td>Research Assistant_100398</td>\n",
              "      <td>Research Assistant_44641</td>\n",
              "      <td>Research Assistant_50129</td>\n",
              "      <td>NaN</td>\n",
              "      <td>NaN</td>\n",
              "      <td>NaN</td>\n",
              "      <td>NaN</td>\n",
              "      <td>NaN</td>\n",
              "    </tr>\n",
              "  </tbody>\n",
              "</table>\n",
              "<p>78 rows × 10 columns</p>\n",
              "</div>"
            ],
            "text/plain": [
              "                                           Relevent_File_ID_1  ...        Relevent_File_ID.3\n",
              "Query_File_ID                                                  ...                          \n",
              "HadoopDeveloper_25461                Sr Technical Consu_73658  ...                       NaN\n",
              "SeniorHadoopDeveloper_47290          Sr Technical Consu_73658  ...                       NaN\n",
              "MurthyMantha_41937                        ETL Architect_24376  ...                       NaN\n",
              "FullStackNetDeveloper_15695          JavaHadoop Develop_21652  ...                       NaN\n",
              "TableauDeveloperBIConsultant_45792     Hadoop Developer_20900  ...                       NaN\n",
              "...                                                       ...  ...                       ...\n",
              "WilliamWhite_30728                  Service Technician_101359  ...  Service Technician_45589\n",
              "JulieAdcock_42058                    Project Management_74694  ...                       NaN\n",
              "MachineOperator_29318                  Machine Operator_81613  ...                       NaN\n",
              "MagdalenaLuczak_15102               Administrative Ass_149915  ...                       NaN\n",
              "MalikSimmons_32366                  Research Assistant_100398  ...                       NaN\n",
              "\n",
              "[78 rows x 10 columns]"
            ]
          },
          "metadata": {},
          "execution_count": 20
        },
        {
          "output_type": "stream",
          "name": "stdout",
          "text": [
            "time: 39.4 ms (started: 2021-12-09 04:32:12 +00:00)\n"
          ]
        }
      ]
    },
    {
      "cell_type": "markdown",
      "metadata": {
        "id": "OXwIa_sknhOx"
      },
      "source": [
        "### Similarity score"
      ]
    },
    {
      "cell_type": "code",
      "metadata": {
        "colab": {
          "base_uri": "https://localhost:8080/"
        },
        "id": "R0i36MaUW8uX",
        "outputId": "5a4b6c4c-9e59-41f2-de23-b399bcb45ce6"
      },
      "source": [
        "def find_similarity(test_file, similarity_metric = 0, jd_or_resume = 0):\n",
        "  \"\"\"\n",
        "  Given a test file, it returns the similarity score against that file for all JDs/Resumes\n",
        "\n",
        "  params:\n",
        "    test_file: One entry from the corpus representing a JD or Resume\n",
        "    similarity_metric: Which similarity metric to use (default = 0)\n",
        "                       0 - Cosine Similarity\n",
        "                       1 - Euclidean distance\n",
        "    jd_or_resume: Whether to compare against JDs or to compare against resumes\n",
        "                  0 - JDs\n",
        "                  1 - Resumes\n",
        "  \n",
        "  returns: A pandas dataframe containing the similarity scores of all the required files\n",
        "  \"\"\"\n",
        "\n",
        "  sample_index = np.where(corpus_filenames == test_file)[0][0]\n",
        "  sample = corpus_vectors[sample_index]\n",
        "  \n",
        "  test_output = []\n",
        "  if similarity_metric == 0:\n",
        "    test_output = cosine_similarity(corpus_vectors, sample)\n",
        "  else:\n",
        "    test_output = euclidean_distances(corpus_vectors, sample)\n",
        "\n",
        "  test = pd.DataFrame(test_output, index = corpus_filenames, columns = ['similarity'])\n",
        "\n",
        "  if jd_or_resume == 0:\n",
        "    test = test.loc[ jd_filenames, : ]\n",
        "  else:\n",
        "    test = test.loc[ resume_filenames, : ]\n",
        "\n",
        "  if similarity_metric == 0:\n",
        "    test.sort_values(by=['similarity'], ascending = False, inplace = True) # Cosine\n",
        "  else:\n",
        "    test.sort_values(by=['similarity'], ascending = True, inplace = True) # Euclidean\n",
        "\n",
        "  return test"
      ],
      "execution_count": 21,
      "outputs": [
        {
          "output_type": "stream",
          "name": "stdout",
          "text": [
            "time: 24.1 ms (started: 2021-12-09 04:32:12 +00:00)\n"
          ]
        }
      ]
    },
    {
      "cell_type": "markdown",
      "metadata": {
        "id": "p_YF7qRHnj8D"
      },
      "source": [
        "### MAP Score stuff"
      ]
    },
    {
      "cell_type": "code",
      "metadata": {
        "colab": {
          "base_uri": "https://localhost:8080/"
        },
        "id": "43yuFGLpKurv",
        "outputId": "5fb1928a-770b-4b61-b370-a5418b114ff7"
      },
      "source": [
        "def generate_MAP_input(test_file_type = 0):\n",
        "  \"\"\"\n",
        "  Generates the two inputs required for calculating the MAP score\n",
        "\n",
        "  params:\n",
        "          test_file_type: which of the 4 test files it is (default = 0)\n",
        "                          0 - JD_2_JD\n",
        "                          1 - Resume_2_Resume\n",
        "                          2 - JD_2_Resume\n",
        "                          3 - Resume_2_JD\n",
        "\n",
        "  returns:\n",
        "          the two inputs for the MAP score function\n",
        "  \"\"\"\n",
        "  actual = []\n",
        "  predicted = []\n",
        "\n",
        "  test_file = []\n",
        "  ind_prefix = ''\n",
        "  res_prefix = ''\n",
        "  jd_or_resume = 0\n",
        "\n",
        "  if test_file_type == 0:\n",
        "    test_file = jd2jd\n",
        "    ind_prefix = 'jd:'\n",
        "    res_prefix = 'jd:'\n",
        "  elif test_file_type == 1:\n",
        "    test_file = r2r\n",
        "    ind_prefix = 'rs:'\n",
        "    res_prefix = 'rs:'\n",
        "    jd_or_resume = 1\n",
        "  elif test_file_type == 2:\n",
        "    test_file = jd2r\n",
        "    ind_prefix = 'jd:'\n",
        "    res_prefix = 'rs:'\n",
        "    jd_or_resume = 1\n",
        "  else:\n",
        "    test_file = r2jd\n",
        "    ind_prefix = 'rs:'\n",
        "    res_prefix = 'jd:'\n",
        "\n",
        "  for index, row in test_file.iterrows():\n",
        "    # List of files relevant to the query file in the testing document\n",
        "    try: # Had to implement a try-except statement because sometimes there are multiple entries for one file (eg. line 141 and 142 of JD_2_JD are the same)\n",
        "      relevant_files = test_file.loc[index].tolist()\n",
        "    except:\n",
        "      relevant_files = test_file.loc[index].iloc[0].tolist() # we select the first entry from the list of entries in the testing dataset\n",
        "    relevant_files = [res_prefix + file for file in relevant_files if not(pd.isnull(file))]\n",
        "\n",
        "    \n",
        "    # Finding files relevant to the query file using our code\n",
        "    test = find_similarity(ind_prefix + index, SIMILARITY_METHOD, jd_or_resume)\n",
        "\n",
        "    # Removing top result if it is the same as the query file\n",
        "    if test.index[0] == ind_prefix + index:\n",
        "      test = test.iloc[1: , :]\n",
        "\n",
        "    predicted_files = test.head(len(relevant_files)).index # Getting the top predicted files\n",
        "\n",
        "    actual.append(relevant_files)\n",
        "    predicted.append(predicted_files)\n",
        "\n",
        "  return predicted, actual"
      ],
      "execution_count": 22,
      "outputs": [
        {
          "output_type": "stream",
          "name": "stdout",
          "text": [
            "time: 41 ms (started: 2021-12-09 04:32:12 +00:00)\n"
          ]
        }
      ]
    },
    {
      "cell_type": "code",
      "metadata": {
        "colab": {
          "base_uri": "https://localhost:8080/"
        },
        "id": "CjxsjNWuLAV4",
        "outputId": "e1bfbed0-219c-457a-e29b-f3ac0e3222fa"
      },
      "source": [
        "\"\"\"\n",
        "A function to calcualte the precision@k.\n",
        "\n",
        "Input: Two lists and a number.\n",
        "      - 'predicted' is the list of file names that our algorithm generates in response to a specific query\n",
        "      - 'actual' is the list of file names that our AI algorithm is supposed to return\n",
        "      - 'k' is the k-index for which we're supposed to calculate the precision@k\n",
        "\n",
        "Output: A number denoting the precision@k\n",
        "\"\"\"\n",
        "\n",
        "def precision_at_k(predicted, actual, k):\n",
        "    act_set = set(actual)\n",
        "    pred_set = set(predicted[:k])\n",
        "    result = len(act_set & pred_set) / float(k)\n",
        "    return result"
      ],
      "execution_count": 23,
      "outputs": [
        {
          "output_type": "stream",
          "name": "stdout",
          "text": [
            "time: 6.87 ms (started: 2021-12-09 04:32:13 +00:00)\n"
          ]
        }
      ]
    },
    {
      "cell_type": "code",
      "metadata": {
        "colab": {
          "base_uri": "https://localhost:8080/"
        },
        "id": "tdtLyiZULPkI",
        "outputId": "d71a8d3f-2ded-45d7-e0e9-ecb911d2c94e"
      },
      "source": [
        "\"\"\"\n",
        "A function to calculate the average precision for a specific query.\n",
        "\n",
        "Input: Two lists.\n",
        "      - 'predicted' is the list of file names that our algorithm generates in response to a specific query\n",
        "      - 'actual' is the list of file names that our AI algorithm is supposed to return\n",
        "\n",
        "Output: A number denoting the average precision for a query.\n",
        "\n",
        "Things to check for: If the length of our predicted array is less than the length of our actual array, the code will fail (ideally this shouldn't happen, and should be checked for before calling the map score function)\n",
        "\"\"\"\n",
        "\n",
        "def avg_precision(predicted, actual):\n",
        "  avg_prec = 0\n",
        "  n = 0\n",
        "\n",
        "  for i in range(len(actual)):\n",
        "    if predicted[i] == actual[i]:\n",
        "      avg_prec += precision_at_k(predicted, actual, i+1)\n",
        "      n += 1\n",
        "  \n",
        "  if n>0:\n",
        "    avg_prec /= n\n",
        "  \n",
        "  return avg_prec"
      ],
      "execution_count": 24,
      "outputs": [
        {
          "output_type": "stream",
          "name": "stdout",
          "text": [
            "time: 12.3 ms (started: 2021-12-09 04:32:13 +00:00)\n"
          ]
        }
      ]
    },
    {
      "cell_type": "code",
      "metadata": {
        "colab": {
          "base_uri": "https://localhost:8080/"
        },
        "id": "NJ2VwUJSUhqc",
        "outputId": "0c28f0eb-8956-4d59-c08c-86f2c6a6e083"
      },
      "source": [
        "\"\"\"\n",
        "A function to calculate the Mean Average Precision (MAP) Score for the entire testing dataset.\n",
        "\n",
        "Input: Two 2D Lists. \n",
        "      - 'predicted' is the list of list of file names that our algorithm generates. Each list corresponds to one input\n",
        "      - 'actual' is the list of list of file names that we're supposed to get. Each list corresponds to one input\n",
        "\n",
        "Output: A number denoting the map_score\n",
        "\"\"\"\n",
        "\n",
        "def score(predicted, actual):\n",
        "  map_score = 0\n",
        "  n = 0\n",
        "\n",
        "  for i in range(len(actual)):\n",
        "    map_score += avg_precision(predicted[i], actual[i])\n",
        "    n += 1\n",
        "\n",
        "  if n>0:\n",
        "    map_score /= n\n",
        "  \n",
        "  return map_score"
      ],
      "execution_count": 25,
      "outputs": [
        {
          "output_type": "stream",
          "name": "stdout",
          "text": [
            "time: 8.44 ms (started: 2021-12-09 04:32:13 +00:00)\n"
          ]
        }
      ]
    },
    {
      "cell_type": "code",
      "metadata": {
        "colab": {
          "base_uri": "https://localhost:8080/"
        },
        "id": "M6_dUq4dVwNP",
        "outputId": "0a4fe827-6578-4904-8df6-a83a6489c4bf"
      },
      "source": [
        "# For JD_2_JD\n",
        "predicted, actual = generate_MAP_input(0)\n",
        "print(\"JD-2-JD score: \", score(predicted, actual))"
      ],
      "execution_count": 45,
      "outputs": [
        {
          "output_type": "stream",
          "name": "stdout",
          "text": [
            "JD-2-JD score:  0.05444659776055125\n",
            "time: 2min 49s (started: 2021-12-09 05:23:13 +00:00)\n"
          ]
        }
      ]
    },
    {
      "cell_type": "code",
      "metadata": {
        "colab": {
          "base_uri": "https://localhost:8080/"
        },
        "id": "dhCunqmdidsM",
        "outputId": "887cd157-d29c-4702-9d52-150994122a74"
      },
      "source": [
        "# For Resume_2_Resume\n",
        "predicted, actual = generate_MAP_input(1)\n",
        "print(\"Resume-2-Resume score: \", score(predicted, actual))"
      ],
      "execution_count": 46,
      "outputs": [
        {
          "output_type": "stream",
          "name": "stdout",
          "text": [
            "Resume-2-Resume score:  0.021722846441947566\n",
            "time: 1min 49s (started: 2021-12-09 05:26:02 +00:00)\n"
          ]
        }
      ]
    },
    {
      "cell_type": "code",
      "metadata": {
        "colab": {
          "base_uri": "https://localhost:8080/"
        },
        "id": "NwuV-JrDilyX",
        "outputId": "120044fe-7b94-4b02-c4ae-fe209fcf7c08"
      },
      "source": [
        "# For JD_2_Resume\n",
        "predicted, actual = generate_MAP_input(2)\n",
        "print(\"JD-2-Resume score: \", score(predicted, actual))"
      ],
      "execution_count": 47,
      "outputs": [
        {
          "output_type": "stream",
          "name": "stdout",
          "text": [
            "JD-2-Resume score:  0.0\n",
            "time: 23.6 s (started: 2021-12-09 05:27:52 +00:00)\n"
          ]
        }
      ]
    },
    {
      "cell_type": "code",
      "metadata": {
        "colab": {
          "base_uri": "https://localhost:8080/"
        },
        "id": "vsuuvWm2isBi",
        "outputId": "0da4b622-f1bd-454d-d75d-c97289b3df40"
      },
      "source": [
        "# For Resume_2_JD\n",
        "predicted, actual = generate_MAP_input(3)\n",
        "print(\"Resume-2-JD score: \", score(predicted, actual))"
      ],
      "execution_count": 48,
      "outputs": [
        {
          "output_type": "stream",
          "name": "stdout",
          "text": [
            "Resume-2-JD score:  0.0\n",
            "time: 55.5 s (started: 2021-12-09 05:28:16 +00:00)\n"
          ]
        }
      ]
    }
  ]
}