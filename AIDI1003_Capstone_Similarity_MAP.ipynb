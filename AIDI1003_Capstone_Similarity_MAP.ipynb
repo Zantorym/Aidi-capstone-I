{
  "nbformat": 4,
  "nbformat_minor": 0,
  "metadata": {
    "colab": {
      "name": "AIDI1003_Capstone_Similarity_MAP.ipynb",
      "provenance": [],
      "collapsed_sections": [],
      "include_colab_link": true
    },
    "kernelspec": {
      "name": "python3",
      "display_name": "Python 3"
    },
    "language_info": {
      "name": "python"
    }
  },
  "cells": [
    {
      "cell_type": "markdown",
      "metadata": {
        "id": "view-in-github",
        "colab_type": "text"
      },
      "source": [
        "<a href=\"https://colab.research.google.com/github/Zantorym/Aidi-capstone-I/blob/main/AIDI1003_Capstone_Similarity_MAP.ipynb\" target=\"_parent\"><img src=\"https://colab.research.google.com/assets/colab-badge.svg\" alt=\"Open In Colab\"/></a>"
      ]
    },
    {
      "cell_type": "markdown",
      "metadata": {
        "id": "a4_QbfvVAUFa"
      },
      "source": [
        "# Preparation"
      ]
    },
    {
      "cell_type": "code",
      "metadata": {
        "colab": {
          "base_uri": "https://localhost:8080/"
        },
        "id": "kZ1BuYPlrmz6",
        "outputId": "51beee16-e5f8-4e85-d7be-c59e0fd96970"
      },
      "source": [
        "# Timer to measure code execution time\n",
        "!pip install ipython-autotime\n",
        "%load_ext autotime"
      ],
      "execution_count": 1,
      "outputs": [
        {
          "output_type": "stream",
          "name": "stdout",
          "text": [
            "Collecting ipython-autotime\n",
            "  Downloading ipython_autotime-0.3.1-py2.py3-none-any.whl (6.8 kB)\n",
            "Requirement already satisfied: ipython in /usr/local/lib/python3.7/dist-packages (from ipython-autotime) (5.5.0)\n",
            "Requirement already satisfied: pexpect in /usr/local/lib/python3.7/dist-packages (from ipython->ipython-autotime) (4.8.0)\n",
            "Requirement already satisfied: pygments in /usr/local/lib/python3.7/dist-packages (from ipython->ipython-autotime) (2.6.1)\n",
            "Requirement already satisfied: simplegeneric>0.8 in /usr/local/lib/python3.7/dist-packages (from ipython->ipython-autotime) (0.8.1)\n",
            "Requirement already satisfied: traitlets>=4.2 in /usr/local/lib/python3.7/dist-packages (from ipython->ipython-autotime) (5.1.1)\n",
            "Requirement already satisfied: pickleshare in /usr/local/lib/python3.7/dist-packages (from ipython->ipython-autotime) (0.7.5)\n",
            "Requirement already satisfied: decorator in /usr/local/lib/python3.7/dist-packages (from ipython->ipython-autotime) (4.4.2)\n",
            "Requirement already satisfied: prompt-toolkit<2.0.0,>=1.0.4 in /usr/local/lib/python3.7/dist-packages (from ipython->ipython-autotime) (1.0.18)\n",
            "Requirement already satisfied: setuptools>=18.5 in /usr/local/lib/python3.7/dist-packages (from ipython->ipython-autotime) (57.4.0)\n",
            "Requirement already satisfied: six>=1.9.0 in /usr/local/lib/python3.7/dist-packages (from prompt-toolkit<2.0.0,>=1.0.4->ipython->ipython-autotime) (1.15.0)\n",
            "Requirement already satisfied: wcwidth in /usr/local/lib/python3.7/dist-packages (from prompt-toolkit<2.0.0,>=1.0.4->ipython->ipython-autotime) (0.2.5)\n",
            "Requirement already satisfied: ptyprocess>=0.5 in /usr/local/lib/python3.7/dist-packages (from pexpect->ipython->ipython-autotime) (0.7.0)\n",
            "Installing collected packages: ipython-autotime\n",
            "Successfully installed ipython-autotime-0.3.1\n",
            "time: 1.99 ms (started: 2021-12-03 15:38:29 +00:00)\n"
          ]
        }
      ]
    },
    {
      "cell_type": "code",
      "metadata": {
        "colab": {
          "base_uri": "https://localhost:8080/"
        },
        "id": "lpjEpwqL0BPn",
        "outputId": "704b2b23-d6bb-4a3b-afc4-979e51ccdb90"
      },
      "source": [
        "# Importing libraries\n",
        "import pickle\n",
        "import nltk\n",
        "import pandas as pd\n",
        "import numpy as np\n",
        "from nltk.tokenize import TreebankWordTokenizer\n",
        "from nltk.util import ngrams\n",
        "from sklearn.feature_extraction.text import ENGLISH_STOP_WORDS as sklearn_stop_words\n",
        "from sklearn.feature_extraction.text import TfidfVectorizer\n",
        "from sklearn.metrics.pairwise import cosine_similarity\n",
        "from sklearn.metrics.pairwise import euclidean_distances"
      ],
      "execution_count": 58,
      "outputs": [
        {
          "output_type": "stream",
          "name": "stdout",
          "text": [
            "time: 4.51 ms (started: 2021-12-03 16:31:54 +00:00)\n"
          ]
        }
      ]
    },
    {
      "cell_type": "code",
      "metadata": {
        "colab": {
          "base_uri": "https://localhost:8080/"
        },
        "id": "uHxtZ2XI2GMT",
        "outputId": "a5f55db5-5bba-4451-d2f6-20a88219cacd"
      },
      "source": [
        "# Constants\n",
        "# Pickle Input\n",
        "JD_FILES_PICKLE_OUTPATH='/content/drive/MyDrive/Durham College/Capstone - I/data/Datasets/jds.pickle'\n",
        "RESUME_FILES_PICKLE_OUTPATH='/content/drive/MyDrive/Durham College/Capstone - I/data/Datasets/resumes.pickle'"
      ],
      "execution_count": 3,
      "outputs": [
        {
          "output_type": "stream",
          "name": "stdout",
          "text": [
            "time: 2.82 ms (started: 2021-12-03 15:38:31 +00:00)\n"
          ]
        }
      ]
    },
    {
      "cell_type": "code",
      "metadata": {
        "colab": {
          "base_uri": "https://localhost:8080/"
        },
        "id": "ui6mAu3y0GP3",
        "outputId": "05ae76b9-4241-44d5-e73d-8914c8b55dd8"
      },
      "source": [
        "from google.colab import drive\n",
        "drive.mount('/content/drive')"
      ],
      "execution_count": 4,
      "outputs": [
        {
          "output_type": "stream",
          "name": "stdout",
          "text": [
            "Mounted at /content/drive\n",
            "time: 23.2 s (started: 2021-12-03 15:38:31 +00:00)\n"
          ]
        }
      ]
    },
    {
      "cell_type": "code",
      "metadata": {
        "colab": {
          "base_uri": "https://localhost:8080/"
        },
        "id": "P4Ph-9wh2IT8",
        "outputId": "739ac4ea-dffa-44b9-99f3-ca2dc045d19b"
      },
      "source": [
        "jd_files_dict = resume_files_dict = {}\n",
        "with open(JD_FILES_PICKLE_OUTPATH, 'rb') as fh:\n",
        "  jd_files_dict = pickle.load(fh)\n",
        "with open(RESUME_FILES_PICKLE_OUTPATH, 'rb') as fh:\n",
        "  resume_files_dict = pickle.load(fh)"
      ],
      "execution_count": 5,
      "outputs": [
        {
          "output_type": "stream",
          "name": "stdout",
          "text": [
            "time: 7.77 s (started: 2021-12-03 15:38:54 +00:00)\n"
          ]
        }
      ]
    },
    {
      "cell_type": "code",
      "metadata": {
        "colab": {
          "base_uri": "https://localhost:8080/"
        },
        "id": "XFrMxn0-63NG",
        "outputId": "dc47e01f-af12-48ba-f703-10f59cefa4c5"
      },
      "source": [
        "nltk.download('stopwords')\n",
        "stop_words = nltk.corpus.stopwords.words('english')\n",
        "stop_words = sklearn_stop_words.intersection(stop_words)"
      ],
      "execution_count": 6,
      "outputs": [
        {
          "output_type": "stream",
          "name": "stdout",
          "text": [
            "[nltk_data] Downloading package stopwords to /root/nltk_data...\n",
            "[nltk_data]   Unzipping corpora/stopwords.zip.\n",
            "time: 167 ms (started: 2021-12-03 15:39:02 +00:00)\n"
          ]
        }
      ]
    },
    {
      "cell_type": "code",
      "metadata": {
        "colab": {
          "base_uri": "https://localhost:8080/"
        },
        "id": "2mrCdl8F6Z0d",
        "outputId": "0f4bc164-2cd6-4ce7-d20d-4b63d025e791"
      },
      "source": [
        "def tokenize(text):\n",
        "  tokenized = text.lower().split()\n",
        "  tokenized = [token for token in tokenized if (token not in stop_words and len(token)>1 and all(char.isalpha() or char.isdigit() for char in token) and any(char.isalpha() for char in token))] # No stop words, Length > 1, only alphanumeric tokens, at least one alphabet\n",
        "  string = ' '.join(tokenized) # Convert to string for TFIDF vectorizer\n",
        "  return string"
      ],
      "execution_count": 7,
      "outputs": [
        {
          "output_type": "stream",
          "name": "stdout",
          "text": [
            "time: 5.92 ms (started: 2021-12-03 15:39:03 +00:00)\n"
          ]
        }
      ]
    },
    {
      "cell_type": "code",
      "metadata": {
        "colab": {
          "base_uri": "https://localhost:8080/"
        },
        "id": "O_0khMeSrCqA",
        "outputId": "55084f14-af64-418f-9da3-cb6bb37fad1d"
      },
      "source": [
        "print('Count of JDs:', len(jd_files_dict))\n",
        "print('Count of Resumes:', len(resume_files_dict))"
      ],
      "execution_count": 8,
      "outputs": [
        {
          "output_type": "stream",
          "name": "stdout",
          "text": [
            "Count of JDs: 151210\n",
            "Count of Resumes: 50023\n",
            "time: 6.59 ms (started: 2021-12-03 15:39:03 +00:00)\n"
          ]
        }
      ]
    },
    {
      "cell_type": "code",
      "metadata": {
        "colab": {
          "base_uri": "https://localhost:8080/"
        },
        "id": "zGiKIjvfrWB3",
        "outputId": "bd1c5e7a-1987-4def-b280-f22ac22541ba"
      },
      "source": [
        "combined_files_dict = {}\n",
        "for filename in jd_files_dict:\n",
        "  modified_fn = 'jd:' + filename\n",
        "  if len(jd_files_dict[filename].strip()) == 0:\n",
        "    continue\n",
        "  combined_files_dict[modified_fn] = jd_files_dict[filename]\n",
        "for filename in resume_files_dict:\n",
        "  modified_fn = 'rs:' + filename\n",
        "  if len(resume_files_dict[filename].strip()) == 0:\n",
        "    continue\n",
        "  combined_files_dict[modified_fn] = resume_files_dict[filename]"
      ],
      "execution_count": 9,
      "outputs": [
        {
          "output_type": "stream",
          "name": "stdout",
          "text": [
            "time: 275 ms (started: 2021-12-03 15:39:11 +00:00)\n"
          ]
        }
      ]
    },
    {
      "cell_type": "code",
      "metadata": {
        "colab": {
          "base_uri": "https://localhost:8080/"
        },
        "id": "_PgaWnZaNZ_d",
        "outputId": "5d0d2509-3129-4686-a826-40e527a987f2"
      },
      "source": [
        "jd_filenames = [key for key in combined_files_dict.keys() if key.startswith('jd:')]"
      ],
      "execution_count": 10,
      "outputs": [
        {
          "output_type": "stream",
          "name": "stdout",
          "text": [
            "time: 44 ms (started: 2021-12-03 15:39:14 +00:00)\n"
          ]
        }
      ]
    },
    {
      "cell_type": "code",
      "metadata": {
        "colab": {
          "base_uri": "https://localhost:8080/"
        },
        "id": "QmTtJ8s_OMrx",
        "outputId": "16ee7633-12f6-4175-820c-e5cffb542576"
      },
      "source": [
        "resume_filenames = [key for key in combined_files_dict.keys() if key.startswith('rs:')]"
      ],
      "execution_count": 11,
      "outputs": [
        {
          "output_type": "stream",
          "name": "stdout",
          "text": [
            "time: 35.5 ms (started: 2021-12-03 15:39:17 +00:00)\n"
          ]
        }
      ]
    },
    {
      "cell_type": "code",
      "metadata": {
        "colab": {
          "base_uri": "https://localhost:8080/"
        },
        "id": "f3kqncK9rl4M",
        "outputId": "df80cdfd-a94b-4a0c-f50e-b227aa11b48e"
      },
      "source": [
        "print('Count of Combines:', len(combined_files_dict))"
      ],
      "execution_count": 12,
      "outputs": [
        {
          "output_type": "stream",
          "name": "stdout",
          "text": [
            "Count of Combines: 201189\n",
            "time: 1.34 ms (started: 2021-12-03 15:39:22 +00:00)\n"
          ]
        }
      ]
    },
    {
      "cell_type": "code",
      "metadata": {
        "colab": {
          "base_uri": "https://localhost:8080/"
        },
        "id": "mzJLQ-hbp_hr",
        "outputId": "d1bb8b72-a1b1-4e60-fc22-670ecb38fec7"
      },
      "source": [
        "# Converting corpus from dictionary to dataframe\n",
        "corpus_raw = pd.DataFrame.from_dict(combined_files_dict, orient='index', columns=['text'])"
      ],
      "execution_count": 155,
      "outputs": [
        {
          "output_type": "stream",
          "name": "stdout",
          "text": [
            "time: 102 ms (started: 2021-12-03 18:42:16 +00:00)\n"
          ]
        }
      ]
    },
    {
      "cell_type": "code",
      "metadata": {
        "colab": {
          "base_uri": "https://localhost:8080/"
        },
        "id": "esZaQ0rNGU17",
        "outputId": "4c522f7c-e251-4262-b3e0-294356bfc494"
      },
      "source": [
        "# Applying some pre-processing to the dataset\n",
        "corpus_raw['text'] = corpus_raw['text'].apply(tokenize)"
      ],
      "execution_count": 156,
      "outputs": [
        {
          "output_type": "stream",
          "name": "stdout",
          "text": [
            "time: 1min 17s (started: 2021-12-03 18:42:18 +00:00)\n"
          ]
        }
      ]
    },
    {
      "cell_type": "code",
      "metadata": {
        "colab": {
          "base_uri": "https://localhost:8080/"
        },
        "id": "gpry8w6asRY5",
        "outputId": "0a6870bd-cf75-46d8-e804-9d7a2f52669a"
      },
      "source": [
        "vectorizer = TfidfVectorizer()\n",
        "corpus_vectors = vectorizer.fit_transform(corpus_raw['text'])"
      ],
      "execution_count": 157,
      "outputs": [
        {
          "output_type": "stream",
          "name": "stdout",
          "text": [
            "time: 36.2 s (started: 2021-12-03 18:43:42 +00:00)\n"
          ]
        }
      ]
    },
    {
      "cell_type": "code",
      "metadata": {
        "colab": {
          "base_uri": "https://localhost:8080/"
        },
        "id": "w_fciM_Nsa4A",
        "outputId": "cc804efe-f314-4ef2-b321-7250a5aa60da"
      },
      "source": [
        "corpus_vectors.shape"
      ],
      "execution_count": 158,
      "outputs": [
        {
          "output_type": "execute_result",
          "data": {
            "text/plain": [
              "(201189, 660008)"
            ]
          },
          "metadata": {},
          "execution_count": 158
        },
        {
          "output_type": "stream",
          "name": "stdout",
          "text": [
            "time: 3.82 ms (started: 2021-12-03 18:44:34 +00:00)\n"
          ]
        }
      ]
    },
    {
      "cell_type": "code",
      "metadata": {
        "colab": {
          "base_uri": "https://localhost:8080/"
        },
        "id": "Ltls_cVwooNo",
        "outputId": "9dc090b8-2fff-4697-888c-a7815da95431"
      },
      "source": [
        "# Seperating the vectorised corpus into JDs and Resumes\n",
        "# corpus_filenames = corpus_raw.index.values\n",
        "\n",
        "# jd_corpus = []\n",
        "# resume_corpus = []\n",
        "\n",
        "# for i in range(len(corpus_filenames)):\n",
        "#   if corpus_filenames[i].startswith('jd'):\n",
        "#     jd_corpus.append(corpus_vectors[i])\n",
        "#   else:\n",
        "#     resume_corpus.append(corpus_vectors[i])\n",
        "#   i += 1"
      ],
      "execution_count": 45,
      "outputs": [
        {
          "output_type": "stream",
          "name": "stdout",
          "text": [
            "time: 22.9 s (started: 2021-12-03 16:14:36 +00:00)\n"
          ]
        }
      ]
    },
    {
      "cell_type": "markdown",
      "metadata": {
        "id": "ybpNV98AZFYk"
      },
      "source": [
        "### Test files for evaluating"
      ]
    },
    {
      "cell_type": "code",
      "metadata": {
        "colab": {
          "base_uri": "https://localhost:8080/"
        },
        "id": "xSCk3xuUP2Np",
        "outputId": "84349941-6066-4094-f735-cbe4db9fa427"
      },
      "source": [
        "EVAL_MATRIX_FILE_PATH = '/content/drive/MyDrive/Durham College/Capstone - I/Evaluation_Matrix.xlsx'\n",
        "\n",
        "eval_matrix = pd.ExcelFile(EVAL_MATRIX_FILE_PATH)\n",
        "jd2jd = pd.read_excel(eval_matrix, 'JD_2_JD') # JD_2_JD testing dataset\n",
        "r2r = pd.read_excel(eval_matrix, 'Resume_2_Resume') # Resume_2_Resume testing dataset\n",
        "jd2r = pd.read_excel(eval_matrix, 'JD_2_Resume') # JD_2_Resume testing dataset\n",
        "r2jd = pd.read_excel(eval_matrix, 'Resume_2_JD') # Resume_2_JD testing dataset\n",
        "\n",
        "jd2jd = jd2jd.drop('Contributer', axis=1) # Removing the contributer column\n",
        "jd2jd.set_index('Query_File_ID', inplace=True) # Makining Query_File_ID the index\n",
        "\n",
        "r2r = r2r.drop('Contributor', axis=1) # Removing the contributer column\n",
        "r2r.set_index('Query_File_ID', inplace=True) # Makining Query_File_ID the index\n",
        "\n",
        "jd2r = jd2r.drop('Contributor', axis=1) # Removing the contributer column\n",
        "jd2r.set_index('Query_File_ID', inplace=True) # Makining Query_File_ID the index\n",
        "\n",
        "r2jd = r2jd.drop('Contributor', axis=1) # Removing the contributer column\n",
        "r2jd.set_index('Query_File_ID', inplace=True) # Makining Query_File_ID the index"
      ],
      "execution_count": 159,
      "outputs": [
        {
          "output_type": "stream",
          "name": "stdout",
          "text": [
            "time: 102 ms (started: 2021-12-03 18:46:34 +00:00)\n"
          ]
        }
      ]
    },
    {
      "cell_type": "code",
      "metadata": {
        "colab": {
          "base_uri": "https://localhost:8080/",
          "height": 657
        },
        "id": "DloJSKHfWfPR",
        "outputId": "b64e1f52-2723-4f85-d1fb-2317f73df062"
      },
      "source": [
        "jd2jd"
      ],
      "execution_count": 160,
      "outputs": [
        {
          "output_type": "execute_result",
          "data": {
            "text/html": [
              "<div>\n",
              "<style scoped>\n",
              "    .dataframe tbody tr th:only-of-type {\n",
              "        vertical-align: middle;\n",
              "    }\n",
              "\n",
              "    .dataframe tbody tr th {\n",
              "        vertical-align: top;\n",
              "    }\n",
              "\n",
              "    .dataframe thead th {\n",
              "        text-align: right;\n",
              "    }\n",
              "</style>\n",
              "<table border=\"1\" class=\"dataframe\">\n",
              "  <thead>\n",
              "    <tr style=\"text-align: right;\">\n",
              "      <th></th>\n",
              "      <th>Relevent_File_ID_1</th>\n",
              "      <th>Relevent_File_ID_2</th>\n",
              "      <th>Relevent_File_ID_3</th>\n",
              "      <th>Relevent_File_ID_4</th>\n",
              "      <th>Relevent_File_ID_5</th>\n",
              "      <th>Relevent_File_ID_6</th>\n",
              "      <th>Relevent_File_ID_7</th>\n",
              "      <th>Relevent_File_ID_8</th>\n",
              "      <th>Relevent_File_ID_9</th>\n",
              "      <th>Relevent_File_ID_10</th>\n",
              "      <th>Relevent_File_ID_11</th>\n",
              "      <th>Relevent_File_ID_12</th>\n",
              "      <th>Relevent_File_ID_13</th>\n",
              "      <th>Relevent_File_ID_14</th>\n",
              "      <th>Relevent_File_ID_15</th>\n",
              "      <th>Relevent_File_ID_16</th>\n",
              "      <th>Relevent_File_ID_17</th>\n",
              "      <th>Relevent_File_ID_18</th>\n",
              "      <th>Relevent_File_ID_19</th>\n",
              "      <th>Relevent_File_ID_20</th>\n",
              "      <th>Relevent_File_ID_21</th>\n",
              "      <th>Relevent_File_ID_22</th>\n",
              "      <th>Relevent_File_ID_23</th>\n",
              "      <th>Relevent_File_ID_24</th>\n",
              "      <th>Relevent_File_ID_25</th>\n",
              "      <th>Relevent_File_ID_26</th>\n",
              "      <th>Relevent_File_ID_27</th>\n",
              "      <th>Relevent_File_ID_28</th>\n",
              "    </tr>\n",
              "    <tr>\n",
              "      <th>Query_File_ID</th>\n",
              "      <th></th>\n",
              "      <th></th>\n",
              "      <th></th>\n",
              "      <th></th>\n",
              "      <th></th>\n",
              "      <th></th>\n",
              "      <th></th>\n",
              "      <th></th>\n",
              "      <th></th>\n",
              "      <th></th>\n",
              "      <th></th>\n",
              "      <th></th>\n",
              "      <th></th>\n",
              "      <th></th>\n",
              "      <th></th>\n",
              "      <th></th>\n",
              "      <th></th>\n",
              "      <th></th>\n",
              "      <th></th>\n",
              "      <th></th>\n",
              "      <th></th>\n",
              "      <th></th>\n",
              "      <th></th>\n",
              "      <th></th>\n",
              "      <th></th>\n",
              "      <th></th>\n",
              "      <th></th>\n",
              "      <th></th>\n",
              "    </tr>\n",
              "  </thead>\n",
              "  <tbody>\n",
              "    <tr>\n",
              "      <th>Accommodation Mana_78084</th>\n",
              "      <td>Accommodation Mana_79161</td>\n",
              "      <td>Accommodation Mana_80346</td>\n",
              "      <td>Accommodation Mana_119245</td>\n",
              "      <td>Accommodation Mana_97716</td>\n",
              "      <td>Accommodation Mana_79861</td>\n",
              "      <td>NaN</td>\n",
              "      <td>NaN</td>\n",
              "      <td>NaN</td>\n",
              "      <td>NaN</td>\n",
              "      <td>NaN</td>\n",
              "      <td>NaN</td>\n",
              "      <td>NaN</td>\n",
              "      <td>NaN</td>\n",
              "      <td>NaN</td>\n",
              "      <td>NaN</td>\n",
              "      <td>NaN</td>\n",
              "      <td>NaN</td>\n",
              "      <td>NaN</td>\n",
              "      <td>NaN</td>\n",
              "      <td>NaN</td>\n",
              "      <td>NaN</td>\n",
              "      <td>NaN</td>\n",
              "      <td>NaN</td>\n",
              "      <td>NaN</td>\n",
              "      <td>NaN</td>\n",
              "      <td>NaN</td>\n",
              "      <td>NaN</td>\n",
              "      <td>NaN</td>\n",
              "    </tr>\n",
              "    <tr>\n",
              "      <th>Accommodation Mana_79161</th>\n",
              "      <td>Accommodation Mana_78084</td>\n",
              "      <td>Accommodation Mana_79861</td>\n",
              "      <td>Accommodation Mana_97716</td>\n",
              "      <td>Accommodation Mana_80346</td>\n",
              "      <td>Accommodation Mana_119245</td>\n",
              "      <td>NaN</td>\n",
              "      <td>NaN</td>\n",
              "      <td>NaN</td>\n",
              "      <td>NaN</td>\n",
              "      <td>NaN</td>\n",
              "      <td>NaN</td>\n",
              "      <td>NaN</td>\n",
              "      <td>NaN</td>\n",
              "      <td>NaN</td>\n",
              "      <td>NaN</td>\n",
              "      <td>NaN</td>\n",
              "      <td>NaN</td>\n",
              "      <td>NaN</td>\n",
              "      <td>NaN</td>\n",
              "      <td>NaN</td>\n",
              "      <td>NaN</td>\n",
              "      <td>NaN</td>\n",
              "      <td>NaN</td>\n",
              "      <td>NaN</td>\n",
              "      <td>NaN</td>\n",
              "      <td>NaN</td>\n",
              "      <td>NaN</td>\n",
              "      <td>NaN</td>\n",
              "    </tr>\n",
              "    <tr>\n",
              "      <th>Accommodation Mana_80346</th>\n",
              "      <td>Accommodation Mana_79861</td>\n",
              "      <td>Accommodation Mana_79161</td>\n",
              "      <td>Accommodation Mana_78084</td>\n",
              "      <td>Accommodation Mana_119245</td>\n",
              "      <td>Accommodation Mana_97716</td>\n",
              "      <td>NaN</td>\n",
              "      <td>NaN</td>\n",
              "      <td>NaN</td>\n",
              "      <td>NaN</td>\n",
              "      <td>NaN</td>\n",
              "      <td>NaN</td>\n",
              "      <td>NaN</td>\n",
              "      <td>NaN</td>\n",
              "      <td>NaN</td>\n",
              "      <td>NaN</td>\n",
              "      <td>NaN</td>\n",
              "      <td>NaN</td>\n",
              "      <td>NaN</td>\n",
              "      <td>NaN</td>\n",
              "      <td>NaN</td>\n",
              "      <td>NaN</td>\n",
              "      <td>NaN</td>\n",
              "      <td>NaN</td>\n",
              "      <td>NaN</td>\n",
              "      <td>NaN</td>\n",
              "      <td>NaN</td>\n",
              "      <td>NaN</td>\n",
              "      <td>NaN</td>\n",
              "    </tr>\n",
              "    <tr>\n",
              "      <th>Accommodation Mana_119245</th>\n",
              "      <td>Accommodation Mana_80346</td>\n",
              "      <td>Accommodation Mana_97716</td>\n",
              "      <td>Accommodation Mana_78084</td>\n",
              "      <td>Accommodation Mana_79161</td>\n",
              "      <td>Accommodation Mana_79861</td>\n",
              "      <td>NaN</td>\n",
              "      <td>NaN</td>\n",
              "      <td>NaN</td>\n",
              "      <td>NaN</td>\n",
              "      <td>NaN</td>\n",
              "      <td>NaN</td>\n",
              "      <td>NaN</td>\n",
              "      <td>NaN</td>\n",
              "      <td>NaN</td>\n",
              "      <td>NaN</td>\n",
              "      <td>NaN</td>\n",
              "      <td>NaN</td>\n",
              "      <td>NaN</td>\n",
              "      <td>NaN</td>\n",
              "      <td>NaN</td>\n",
              "      <td>NaN</td>\n",
              "      <td>NaN</td>\n",
              "      <td>NaN</td>\n",
              "      <td>NaN</td>\n",
              "      <td>NaN</td>\n",
              "      <td>NaN</td>\n",
              "      <td>NaN</td>\n",
              "      <td>NaN</td>\n",
              "    </tr>\n",
              "    <tr>\n",
              "      <th>Accommodation Mana_97716</th>\n",
              "      <td>Accommodation Mana_79161</td>\n",
              "      <td>Accommodation Mana_78084</td>\n",
              "      <td>Accommodation Mana_80346</td>\n",
              "      <td>Accommodation Mana_119245</td>\n",
              "      <td>Accommodation Mana_79861</td>\n",
              "      <td>NaN</td>\n",
              "      <td>NaN</td>\n",
              "      <td>NaN</td>\n",
              "      <td>NaN</td>\n",
              "      <td>NaN</td>\n",
              "      <td>NaN</td>\n",
              "      <td>NaN</td>\n",
              "      <td>NaN</td>\n",
              "      <td>NaN</td>\n",
              "      <td>NaN</td>\n",
              "      <td>NaN</td>\n",
              "      <td>NaN</td>\n",
              "      <td>NaN</td>\n",
              "      <td>NaN</td>\n",
              "      <td>NaN</td>\n",
              "      <td>NaN</td>\n",
              "      <td>NaN</td>\n",
              "      <td>NaN</td>\n",
              "      <td>NaN</td>\n",
              "      <td>NaN</td>\n",
              "      <td>NaN</td>\n",
              "      <td>NaN</td>\n",
              "      <td>NaN</td>\n",
              "    </tr>\n",
              "    <tr>\n",
              "      <th>...</th>\n",
              "      <td>...</td>\n",
              "      <td>...</td>\n",
              "      <td>...</td>\n",
              "      <td>...</td>\n",
              "      <td>...</td>\n",
              "      <td>...</td>\n",
              "      <td>...</td>\n",
              "      <td>...</td>\n",
              "      <td>...</td>\n",
              "      <td>...</td>\n",
              "      <td>...</td>\n",
              "      <td>...</td>\n",
              "      <td>...</td>\n",
              "      <td>...</td>\n",
              "      <td>...</td>\n",
              "      <td>...</td>\n",
              "      <td>...</td>\n",
              "      <td>...</td>\n",
              "      <td>...</td>\n",
              "      <td>...</td>\n",
              "      <td>...</td>\n",
              "      <td>...</td>\n",
              "      <td>...</td>\n",
              "      <td>...</td>\n",
              "      <td>...</td>\n",
              "      <td>...</td>\n",
              "      <td>...</td>\n",
              "      <td>...</td>\n",
              "    </tr>\n",
              "    <tr>\n",
              "      <th>Graphic Designer_73758</th>\n",
              "      <td>Graphic Designer_65971</td>\n",
              "      <td>Graphic Designer_57970</td>\n",
              "      <td>Graphic Designer_59070</td>\n",
              "      <td>Graphic Designer_100270</td>\n",
              "      <td>Graphic Designer_72604</td>\n",
              "      <td>Graphic Designer_22119</td>\n",
              "      <td>NaN</td>\n",
              "      <td>NaN</td>\n",
              "      <td>NaN</td>\n",
              "      <td>NaN</td>\n",
              "      <td>NaN</td>\n",
              "      <td>NaN</td>\n",
              "      <td>NaN</td>\n",
              "      <td>NaN</td>\n",
              "      <td>NaN</td>\n",
              "      <td>NaN</td>\n",
              "      <td>NaN</td>\n",
              "      <td>NaN</td>\n",
              "      <td>NaN</td>\n",
              "      <td>NaN</td>\n",
              "      <td>NaN</td>\n",
              "      <td>NaN</td>\n",
              "      <td>NaN</td>\n",
              "      <td>NaN</td>\n",
              "      <td>NaN</td>\n",
              "      <td>NaN</td>\n",
              "      <td>NaN</td>\n",
              "      <td>NaN</td>\n",
              "    </tr>\n",
              "    <tr>\n",
              "      <th>Graphic Designer_99274</th>\n",
              "      <td>Graphic Designer_82710</td>\n",
              "      <td>Graphic Designer_72325</td>\n",
              "      <td>Graphic Designer_21275</td>\n",
              "      <td>Graphic Designer_101633</td>\n",
              "      <td>Graphic Designer_74965</td>\n",
              "      <td>Graphic Designer_73758</td>\n",
              "      <td>NaN</td>\n",
              "      <td>NaN</td>\n",
              "      <td>NaN</td>\n",
              "      <td>NaN</td>\n",
              "      <td>NaN</td>\n",
              "      <td>NaN</td>\n",
              "      <td>NaN</td>\n",
              "      <td>NaN</td>\n",
              "      <td>NaN</td>\n",
              "      <td>NaN</td>\n",
              "      <td>NaN</td>\n",
              "      <td>NaN</td>\n",
              "      <td>NaN</td>\n",
              "      <td>NaN</td>\n",
              "      <td>NaN</td>\n",
              "      <td>NaN</td>\n",
              "      <td>NaN</td>\n",
              "      <td>NaN</td>\n",
              "      <td>NaN</td>\n",
              "      <td>NaN</td>\n",
              "      <td>NaN</td>\n",
              "      <td>NaN</td>\n",
              "    </tr>\n",
              "    <tr>\n",
              "      <th>Graphic Designer_77557</th>\n",
              "      <td>Graphic Designer_72099</td>\n",
              "      <td>Graphic Designer_73758</td>\n",
              "      <td>Graphic Designer_75197</td>\n",
              "      <td>Graphic Designer_101633</td>\n",
              "      <td>Graphic Designer_72325</td>\n",
              "      <td>Graphic Designer_99274</td>\n",
              "      <td>NaN</td>\n",
              "      <td>NaN</td>\n",
              "      <td>NaN</td>\n",
              "      <td>NaN</td>\n",
              "      <td>NaN</td>\n",
              "      <td>NaN</td>\n",
              "      <td>NaN</td>\n",
              "      <td>NaN</td>\n",
              "      <td>NaN</td>\n",
              "      <td>NaN</td>\n",
              "      <td>NaN</td>\n",
              "      <td>NaN</td>\n",
              "      <td>NaN</td>\n",
              "      <td>NaN</td>\n",
              "      <td>NaN</td>\n",
              "      <td>NaN</td>\n",
              "      <td>NaN</td>\n",
              "      <td>NaN</td>\n",
              "      <td>NaN</td>\n",
              "      <td>NaN</td>\n",
              "      <td>NaN</td>\n",
              "      <td>NaN</td>\n",
              "    </tr>\n",
              "    <tr>\n",
              "      <th>Graphic Designer_75197</th>\n",
              "      <td>Graphic Designer_73758</td>\n",
              "      <td>Graphic Designer_103036</td>\n",
              "      <td>Graphic Designer_34790</td>\n",
              "      <td>Graphic Designer_100481</td>\n",
              "      <td>Graphic Designer_72556</td>\n",
              "      <td>Graphic Designer_72604</td>\n",
              "      <td>NaN</td>\n",
              "      <td>NaN</td>\n",
              "      <td>NaN</td>\n",
              "      <td>NaN</td>\n",
              "      <td>NaN</td>\n",
              "      <td>NaN</td>\n",
              "      <td>NaN</td>\n",
              "      <td>NaN</td>\n",
              "      <td>NaN</td>\n",
              "      <td>NaN</td>\n",
              "      <td>NaN</td>\n",
              "      <td>NaN</td>\n",
              "      <td>NaN</td>\n",
              "      <td>NaN</td>\n",
              "      <td>NaN</td>\n",
              "      <td>NaN</td>\n",
              "      <td>NaN</td>\n",
              "      <td>NaN</td>\n",
              "      <td>NaN</td>\n",
              "      <td>NaN</td>\n",
              "      <td>NaN</td>\n",
              "      <td>NaN</td>\n",
              "    </tr>\n",
              "    <tr>\n",
              "      <th>Graphic Designer_72604</th>\n",
              "      <td>Graphic Designer_72099</td>\n",
              "      <td>Graphic Designer_34790</td>\n",
              "      <td>Graphic Designer_100481</td>\n",
              "      <td>Graphic Designer_75197</td>\n",
              "      <td>Graphic Designer_99274</td>\n",
              "      <td>Graphic Designer_101959</td>\n",
              "      <td>NaN</td>\n",
              "      <td>NaN</td>\n",
              "      <td>NaN</td>\n",
              "      <td>NaN</td>\n",
              "      <td>NaN</td>\n",
              "      <td>NaN</td>\n",
              "      <td>NaN</td>\n",
              "      <td>NaN</td>\n",
              "      <td>NaN</td>\n",
              "      <td>NaN</td>\n",
              "      <td>NaN</td>\n",
              "      <td>NaN</td>\n",
              "      <td>NaN</td>\n",
              "      <td>NaN</td>\n",
              "      <td>NaN</td>\n",
              "      <td>NaN</td>\n",
              "      <td>NaN</td>\n",
              "      <td>NaN</td>\n",
              "      <td>NaN</td>\n",
              "      <td>NaN</td>\n",
              "      <td>NaN</td>\n",
              "      <td>NaN</td>\n",
              "    </tr>\n",
              "  </tbody>\n",
              "</table>\n",
              "<p>258 rows × 28 columns</p>\n",
              "</div>"
            ],
            "text/plain": [
              "                                 Relevent_File_ID_1  ... Relevent_File_ID_28\n",
              "Query_File_ID                                        ...                    \n",
              "Accommodation Mana_78084   Accommodation Mana_79161  ...                 NaN\n",
              "Accommodation Mana_79161   Accommodation Mana_78084  ...                 NaN\n",
              "Accommodation Mana_80346   Accommodation Mana_79861  ...                 NaN\n",
              "Accommodation Mana_119245  Accommodation Mana_80346  ...                 NaN\n",
              "Accommodation Mana_97716   Accommodation Mana_79161  ...                 NaN\n",
              "...                                             ...  ...                 ...\n",
              "Graphic Designer_73758       Graphic Designer_65971  ...                 NaN\n",
              "Graphic Designer_99274       Graphic Designer_82710  ...                 NaN\n",
              "Graphic Designer_77557       Graphic Designer_72099  ...                 NaN\n",
              "Graphic Designer_75197       Graphic Designer_73758  ...                 NaN\n",
              "Graphic Designer_72604       Graphic Designer_72099  ...                 NaN\n",
              "\n",
              "[258 rows x 28 columns]"
            ]
          },
          "metadata": {},
          "execution_count": 160
        },
        {
          "output_type": "stream",
          "name": "stdout",
          "text": [
            "time: 59.9 ms (started: 2021-12-03 18:46:38 +00:00)\n"
          ]
        }
      ]
    },
    {
      "cell_type": "markdown",
      "metadata": {
        "id": "OXwIa_sknhOx"
      },
      "source": [
        "### Similarity score"
      ]
    },
    {
      "cell_type": "code",
      "metadata": {
        "colab": {
          "base_uri": "https://localhost:8080/"
        },
        "id": "R0i36MaUW8uX",
        "outputId": "76e08ab6-811f-4334-dbf6-36b929de3930"
      },
      "source": [
        "def find_similarity(test_file, similarity_metric = 0, jd_or_resume = 0):\n",
        "  \"\"\"\n",
        "  Given a test file, it returns the similarity score against that file for all JDs/Resumes\n",
        "\n",
        "  params:\n",
        "    test_file: One entry from the corpus representing a JD or Resume\n",
        "    similarity_metric: Which similarity metric to use (default = 0)\n",
        "                       0 - Cosine Similarity\n",
        "                       1 - Euclidean distance\n",
        "    jd_or_resume: Whether to compare against JDs or to compare against resumes\n",
        "                  0 - JDs\n",
        "                  1 - Resumes\n",
        "  \n",
        "  returns: A pandas dataframe containing the similarity scores of all the required files\n",
        "  \"\"\"\n",
        "\n",
        "  sample_index = np.where(corpus_filenames == test_file)[0][0]\n",
        "  sample = corpus_vectors[sample_index]\n",
        "  \n",
        "  test_output = []\n",
        "  if similarity_metric == 0:\n",
        "    test_output = cosine_similarity(corpus_vectors, sample)\n",
        "  else:\n",
        "    test_output = euclidean_distances(corpus_vectors, sample)\n",
        "\n",
        "  test = pd.DataFrame(test_output, index = corpus_filenames, columns = ['similarity'])\n",
        "\n",
        "  if jd_or_resume == 0:\n",
        "    test = test.loc[ jd_filenames, : ]\n",
        "  else:\n",
        "    test = test.loc[ resume_filenames, : ]\n",
        "\n",
        "  test.sort_values(by=['similarity'], ascending = False, inplace = True)\n",
        "\n",
        "  return test"
      ],
      "execution_count": 161,
      "outputs": [
        {
          "output_type": "stream",
          "name": "stdout",
          "text": [
            "time: 16.4 ms (started: 2021-12-03 18:46:43 +00:00)\n"
          ]
        }
      ]
    },
    {
      "cell_type": "markdown",
      "metadata": {
        "id": "p_YF7qRHnj8D"
      },
      "source": [
        "### MAP Score stuff"
      ]
    },
    {
      "cell_type": "code",
      "metadata": {
        "colab": {
          "base_uri": "https://localhost:8080/"
        },
        "id": "43yuFGLpKurv",
        "outputId": "f90dd087-7c86-4da8-e06f-18f4506d66eb"
      },
      "source": [
        "def generate_MAP_input(test_file_type = 0):\n",
        "  \"\"\"\n",
        "  Generates the two inputs required for calculating the MAP score\n",
        "\n",
        "  params:\n",
        "          test_file_type: which of the 4 test files it is (default = 0)\n",
        "                          0 - JD_2_JD\n",
        "                          1 - Resume_2_Resume\n",
        "                          2 - JD_2_Resume\n",
        "                          3 - Resume_2_JD\n",
        "\n",
        "  returns:\n",
        "          the two inputs for the MAP score function\n",
        "  \"\"\"\n",
        "  actual = predicted = []\n",
        "\n",
        "  test_file = []\n",
        "  prefix = ''\n",
        "  jd_or_resume = 0\n",
        "\n",
        "  if test_file_type == 0:\n",
        "    test_file = jd2jd\n",
        "    prefix = 'jd:'\n",
        "  elif test_file_type == 1:\n",
        "    test_file = r2r\n",
        "    prefix = 'rs:'\n",
        "    jd_or_resume = 1\n",
        "  elif test_file_type == 2:\n",
        "    test_file = jd2r\n",
        "    prefix = 'rs:'\n",
        "    jd_or_resume = 1\n",
        "  else:\n",
        "    test_file = r2jd\n",
        "    prefix = 'jd:'\n",
        "\n",
        "  for index, row in test_file.iterrows():\n",
        "    # List of files relevant to the query file in the testing document\n",
        "    try: # Had to implement a try-except statement because sometimes there are multiple entries for one file (eg. line 141 and 142 of JD_2_JD are the same)\n",
        "      relevant_files = test_file.loc[index].tolist()\n",
        "    except:\n",
        "      relevant_files = test_file.loc[index].iloc[0].tolist() # we select the first entry from the list of entries in the testing dataset\n",
        "    relevant_files = [prefix + file for file in relevant_files if not(pd.isnull(file))]\n",
        "\n",
        "    \n",
        "    # Finding files relevant to the query file using our code\n",
        "    test = find_similarity(prefix + index, 0, jd_or_resume)\n",
        "\n",
        "    # Removing top result if it is the same as the query file\n",
        "    if test.index[0] == prefix + index:\n",
        "      test = test.iloc[1: , :]\n",
        "\n",
        "    predicted_files = test.head(len(relevant_files)).index # Getting the top predicted files\n",
        "\n",
        "    actual.append(relevant_files)\n",
        "    predicted.append(predicted_files)\n",
        "\n",
        "  return predicted, actual"
      ],
      "execution_count": 169,
      "outputs": [
        {
          "output_type": "stream",
          "name": "stdout",
          "text": [
            "time: 29.2 ms (started: 2021-12-03 19:00:24 +00:00)\n"
          ]
        }
      ]
    },
    {
      "cell_type": "code",
      "metadata": {
        "colab": {
          "base_uri": "https://localhost:8080/"
        },
        "id": "CjxsjNWuLAV4",
        "outputId": "bfba2553-a06a-4839-e470-6d71cf4ab7d6"
      },
      "source": [
        "\"\"\"\n",
        "A function to calcualte the precision@k.\n",
        "\n",
        "Input: Two lists and a number.\n",
        "      - 'predicted' is the list of file names that our algorithm generates in response to a specific query\n",
        "      - 'actual' is the list of file names that our AI algorithm is supposed to return\n",
        "      - 'k' is the k-index for which we're supposed to calculate the precision@k\n",
        "\n",
        "Output: A number denoting the precision@k\n",
        "\"\"\"\n",
        "\n",
        "def precision_at_k(predicted, actual, k):\n",
        "    act_set = set(actual)\n",
        "    pred_set = set(predicted[:k])\n",
        "    result = len(act_set & pred_set) / float(k)\n",
        "    return result"
      ],
      "execution_count": 163,
      "outputs": [
        {
          "output_type": "stream",
          "name": "stdout",
          "text": [
            "time: 2.56 ms (started: 2021-12-03 18:46:48 +00:00)\n"
          ]
        }
      ]
    },
    {
      "cell_type": "code",
      "metadata": {
        "colab": {
          "base_uri": "https://localhost:8080/"
        },
        "id": "tdtLyiZULPkI",
        "outputId": "911080e1-7f99-4092-cd98-0edc9a242cf6"
      },
      "source": [
        "\"\"\"\n",
        "A function to calculate the average precision for a specific query.\n",
        "\n",
        "Input: Two lists.\n",
        "      - 'predicted' is the list of file names that our algorithm generates in response to a specific query\n",
        "      - 'actual' is the list of file names that our AI algorithm is supposed to return\n",
        "\n",
        "Output: A number denoting the average precision for a query.\n",
        "\n",
        "Things to check for: If the length of our predicted array is less than the length of our actual array, the code will fail (ideally this shouldn't happen, and should be checked for before calling the map score function)\n",
        "\"\"\"\n",
        "\n",
        "def avg_precision(predicted, actual):\n",
        "  avg_prec = 0\n",
        "  n = 0\n",
        "\n",
        "  for i in range(len(actual)):\n",
        "    if predicted[i] == actual[i]:\n",
        "      avg_prec += precision_at_k(predicted, actual, i+1)\n",
        "      n += 1\n",
        "\n",
        "  avg_prec /= n\n",
        "  return avg_prec"
      ],
      "execution_count": 164,
      "outputs": [
        {
          "output_type": "stream",
          "name": "stdout",
          "text": [
            "time: 4.7 ms (started: 2021-12-03 18:46:49 +00:00)\n"
          ]
        }
      ]
    },
    {
      "cell_type": "code",
      "metadata": {
        "colab": {
          "base_uri": "https://localhost:8080/"
        },
        "id": "NJ2VwUJSUhqc",
        "outputId": "3f3fd98a-266e-4af5-c2d6-8cbfbe2f05df"
      },
      "source": [
        "\"\"\"\n",
        "A function to calculate the Mean Average Precision (MAP) Score for the entire testing dataset.\n",
        "\n",
        "Input: Two 2D Lists. \n",
        "      - 'predicted' is the list of list of file names that our algorithm generates. Each list corresponds to one input\n",
        "      - 'actual' is the list of list of file names that we're supposed to get. Each list corresponds to one input\n",
        "\n",
        "Output: A number denoting the map_score\n",
        "\"\"\"\n",
        "\n",
        "def score(predicted, actual):\n",
        "  map_score = 0\n",
        "  n = 0\n",
        "\n",
        "  for i in range(len(actual)):\n",
        "    map_score += avg_precision(predicted[i], actual[i])\n",
        "    n += 1\n",
        "\n",
        "  map_score /= n\n",
        "  return map_score"
      ],
      "execution_count": 165,
      "outputs": [
        {
          "output_type": "stream",
          "name": "stdout",
          "text": [
            "time: 4.71 ms (started: 2021-12-03 18:46:52 +00:00)\n"
          ]
        }
      ]
    },
    {
      "cell_type": "code",
      "metadata": {
        "id": "M6_dUq4dVwNP"
      },
      "source": [
        "# For JD_2_JD\n",
        "predicted, actual = generate_MAP_input(0)\n",
        "print(\"JD-2-JD score: \", score(predicted, actual))"
      ],
      "execution_count": null,
      "outputs": []
    },
    {
      "cell_type": "code",
      "metadata": {
        "id": "dhCunqmdidsM"
      },
      "source": [
        "# For Resume_2_Resume\n",
        "predicted, actual = generate_MAP_input(1)\n",
        "print(\"Resume-2-Resume score: \", score(predicted, actual))"
      ],
      "execution_count": null,
      "outputs": []
    },
    {
      "cell_type": "code",
      "metadata": {
        "id": "NwuV-JrDilyX"
      },
      "source": [
        "# For JD_2_Resume\n",
        "predicted, actual = generate_MAP_input(2)\n",
        "print(\"JD-2-Resume score: \", score(predicted, actual))"
      ],
      "execution_count": null,
      "outputs": []
    },
    {
      "cell_type": "code",
      "metadata": {
        "id": "vsuuvWm2isBi"
      },
      "source": [
        "# For Resume_2_JD\n",
        "predicted, actual = generate_MAP_input(3)\n",
        "print(\"Resume-2-JD score: \", score(predicted, actual))"
      ],
      "execution_count": null,
      "outputs": []
    }
  ]
}