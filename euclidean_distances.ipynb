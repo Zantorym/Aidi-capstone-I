{
  "nbformat": 4,
  "nbformat_minor": 0,
  "metadata": {
    "colab": {
      "name": "euclidean_distances.ipynb",
      "provenance": []
    },
    "kernelspec": {
      "name": "python3",
      "display_name": "Python 3"
    },
    "language_info": {
      "name": "python"
    }
  },
  "cells": [
    {
      "cell_type": "code",
      "metadata": {
        "colab": {
          "base_uri": "https://localhost:8080/",
          "height": 225
        },
        "id": "vmDA2EuH4CLk",
        "outputId": "fd140599-eed0-4570-e795-e091d65038f7"
      },
      "source": [
        "corpus_raw.head()"
      ],
      "execution_count": 56,
      "outputs": [
        {
          "output_type": "execute_result",
          "data": {
            "text/html": [
              "<div>\n",
              "<style scoped>\n",
              "    .dataframe tbody tr th:only-of-type {\n",
              "        vertical-align: middle;\n",
              "    }\n",
              "\n",
              "    .dataframe tbody tr th {\n",
              "        vertical-align: top;\n",
              "    }\n",
              "\n",
              "    .dataframe thead th {\n",
              "        text-align: right;\n",
              "    }\n",
              "</style>\n",
              "<table border=\"1\" class=\"dataframe\">\n",
              "  <thead>\n",
              "    <tr style=\"text-align: right;\">\n",
              "      <th></th>\n",
              "      <th>text</th>\n",
              "    </tr>\n",
              "  </thead>\n",
              "  <tbody>\n",
              "    <tr>\n",
              "      <th>_1158</th>\n",
              "      <td>Amazon Web Services AWS is looking for a passi...</td>\n",
              "    </tr>\n",
              "    <tr>\n",
              "      <th>15x Bricklayers_87905</th>\n",
              "      <td>Apply now Job Title  Bricklayers Location  New...</td>\n",
              "    </tr>\n",
              "    <tr>\n",
              "      <th>_19361</th>\n",
              "      <td>ORACLE PLSQL DEVELOPER  One of our Fortune 100...</td>\n",
              "    </tr>\n",
              "    <tr>\n",
              "      <th>1C Developer_15174</th>\n",
              "      <td>Gsoft is looking for an 1C Developer who will ...</td>\n",
              "    </tr>\n",
              "    <tr>\n",
              "      <th>1C Developer_5043</th>\n",
              "      <td>Link Ltd is actively looking for energetic and...</td>\n",
              "    </tr>\n",
              "  </tbody>\n",
              "</table>\n",
              "</div>"
            ],
            "text/plain": [
              "                                                                    text\n",
              "_1158                  Amazon Web Services AWS is looking for a passi...\n",
              "15x Bricklayers_87905  Apply now Job Title  Bricklayers Location  New...\n",
              "_19361                 ORACLE PLSQL DEVELOPER  One of our Fortune 100...\n",
              "1C Developer_15174     Gsoft is looking for an 1C Developer who will ...\n",
              "1C Developer_5043      Link Ltd is actively looking for energetic and..."
            ]
          },
          "metadata": {},
          "execution_count": 56
        },
        {
          "output_type": "stream",
          "name": "stdout",
          "text": [
            "time: 15.8 ms (started: 2021-12-03 15:18:34 +00:00)\n"
          ]
        }
      ]
    },
    {
      "cell_type": "code",
      "metadata": {
        "colab": {
          "base_uri": "https://localhost:8080/"
        },
        "id": "8ngI2DQL4LBX",
        "outputId": "9e80e6d0-7673-4f0a-d5f7-2fef15df90fd"
      },
      "source": [
        "vectorizer = TfidfVectorizer()\n",
        "corpus_vectors = vectorizer.fit_transform(corpus_raw['text'])"
      ],
      "execution_count": 58,
      "outputs": [
        {
          "output_type": "stream",
          "name": "stdout",
          "text": [
            "time: 34.4 s (started: 2021-12-03 15:19:14 +00:00)\n"
          ]
        }
      ]
    },
    {
      "cell_type": "code",
      "metadata": {
        "colab": {
          "base_uri": "https://localhost:8080/"
        },
        "id": "2SN8bz854YdA",
        "outputId": "6e868e67-df67-44be-9cd1-4346e281b84d"
      },
      "source": [
        "input_index = np.where(corpus_filenames == input_key)[0][0]\n",
        "input_vector = corpus_vectors[input_index]"
      ],
      "execution_count": 59,
      "outputs": [
        {
          "output_type": "stream",
          "name": "stdout",
          "text": [
            "time: 9.5 ms (started: 2021-12-03 15:20:06 +00:00)\n"
          ]
        }
      ]
    },
    {
      "cell_type": "code",
      "metadata": {
        "colab": {
          "base_uri": "https://localhost:8080/"
        },
        "id": "YQ5iwB7P4ZcX",
        "outputId": "dcf496f4-44af-4df8-ed47-ff1a362349dc"
      },
      "source": [
        "from sklearn.metrics.pairwise import euclidean_distances"
      ],
      "execution_count": 64,
      "outputs": [
        {
          "output_type": "stream",
          "name": "stdout",
          "text": [
            "time: 1.17 ms (started: 2021-12-03 15:23:59 +00:00)\n"
          ]
        }
      ]
    },
    {
      "cell_type": "code",
      "metadata": {
        "colab": {
          "base_uri": "https://localhost:8080/"
        },
        "id": "-peGlcFC5S0C",
        "outputId": "671ab957-3824-461a-d52d-3fd778681463"
      },
      "source": [
        "jd_test_output = euclidean_distances(corpus_vectors,input_vector)"
      ],
      "execution_count": 67,
      "outputs": [
        {
          "output_type": "stream",
          "name": "stdout",
          "text": [
            "time: 270 ms (started: 2021-12-03 15:25:27 +00:00)\n"
          ]
        }
      ]
    },
    {
      "cell_type": "code",
      "metadata": {
        "colab": {
          "base_uri": "https://localhost:8080/",
          "height": 442
        },
        "id": "QfNkVD2j5oeM",
        "outputId": "9a09cbd2-af06-4932-e1c9-504c0a36a9aa"
      },
      "source": [
        "test = pd.DataFrame(jd_test_output, index = corpus_filenames, columns = ['euclidean/diff'])\n",
        "test"
      ],
      "execution_count": 68,
      "outputs": [
        {
          "output_type": "execute_result",
          "data": {
            "text/html": [
              "<div>\n",
              "<style scoped>\n",
              "    .dataframe tbody tr th:only-of-type {\n",
              "        vertical-align: middle;\n",
              "    }\n",
              "\n",
              "    .dataframe tbody tr th {\n",
              "        vertical-align: top;\n",
              "    }\n",
              "\n",
              "    .dataframe thead th {\n",
              "        text-align: right;\n",
              "    }\n",
              "</style>\n",
              "<table border=\"1\" class=\"dataframe\">\n",
              "  <thead>\n",
              "    <tr style=\"text-align: right;\">\n",
              "      <th></th>\n",
              "      <th>euclidean/diff</th>\n",
              "    </tr>\n",
              "  </thead>\n",
              "  <tbody>\n",
              "    <tr>\n",
              "      <th>_1158</th>\n",
              "      <td>0.000000</td>\n",
              "    </tr>\n",
              "    <tr>\n",
              "      <th>15x Bricklayers_87905</th>\n",
              "      <td>1.368242</td>\n",
              "    </tr>\n",
              "    <tr>\n",
              "      <th>_19361</th>\n",
              "      <td>1.320610</td>\n",
              "    </tr>\n",
              "    <tr>\n",
              "      <th>1C Developer_15174</th>\n",
              "      <td>1.350098</td>\n",
              "    </tr>\n",
              "    <tr>\n",
              "      <th>1C Developer_5043</th>\n",
              "      <td>1.362660</td>\n",
              "    </tr>\n",
              "    <tr>\n",
              "      <th>...</th>\n",
              "      <td>...</td>\n",
              "    </tr>\n",
              "    <tr>\n",
              "      <th>ZSM  DSL_70369</th>\n",
              "      <td>1.334177</td>\n",
              "    </tr>\n",
              "    <tr>\n",
              "      <th>ZURICH FAST SDE_2333</th>\n",
              "      <td>1.232219</td>\n",
              "    </tr>\n",
              "    <tr>\n",
              "      <th>Zurich SDM CREST_2366</th>\n",
              "      <td>1.331204</td>\n",
              "    </tr>\n",
              "    <tr>\n",
              "      <th>zzz Certified Nurs_53703</th>\n",
              "      <td>1.307016</td>\n",
              "    </tr>\n",
              "    <tr>\n",
              "      <th>input:_1158</th>\n",
              "      <td>0.000000</td>\n",
              "    </tr>\n",
              "  </tbody>\n",
              "</table>\n",
              "<p>151211 rows × 1 columns</p>\n",
              "</div>"
            ],
            "text/plain": [
              "                          euclidean/diff\n",
              "_1158                           0.000000\n",
              "15x Bricklayers_87905           1.368242\n",
              "_19361                          1.320610\n",
              "1C Developer_15174              1.350098\n",
              "1C Developer_5043               1.362660\n",
              "...                                  ...\n",
              "ZSM  DSL_70369                  1.334177\n",
              "ZURICH FAST SDE_2333            1.232219\n",
              "Zurich SDM CREST_2366           1.331204\n",
              "zzz Certified Nurs_53703        1.307016\n",
              "input:_1158                     0.000000\n",
              "\n",
              "[151211 rows x 1 columns]"
            ]
          },
          "metadata": {},
          "execution_count": 68
        },
        {
          "output_type": "stream",
          "name": "stdout",
          "text": [
            "time: 28.7 ms (started: 2021-12-03 15:25:50 +00:00)\n"
          ]
        }
      ]
    }
  ]
}