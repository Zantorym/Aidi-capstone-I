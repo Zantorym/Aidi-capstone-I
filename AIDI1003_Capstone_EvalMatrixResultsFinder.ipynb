{
  "nbformat": 4,
  "nbformat_minor": 0,
  "metadata": {
    "colab": {
      "name": "AIDI1003 Capstone EvalMatrixResultsFinder.ipynb",
      "provenance": [],
      "collapsed_sections": []
    },
    "kernelspec": {
      "name": "python3",
      "display_name": "Python 3"
    },
    "language_info": {
      "name": "python"
    }
  },
  "cells": [
    {
      "cell_type": "markdown",
      "metadata": {
        "id": "aMT-PM6ksB5m"
      },
      "source": [
        "# Preparation"
      ]
    },
    {
      "cell_type": "code",
      "metadata": {
        "colab": {
          "base_uri": "https://localhost:8080/"
        },
        "id": "Fz67EXwur_Jn",
        "outputId": "e5f808c7-c583-4ab6-f3fe-85227ae630b4"
      },
      "source": [
        "!pip install ipython-autotime\n",
        "%load_ext autotime"
      ],
      "execution_count": 1,
      "outputs": [
        {
          "output_type": "stream",
          "name": "stdout",
          "text": [
            "Collecting ipython-autotime\n",
            "  Downloading ipython_autotime-0.3.1-py2.py3-none-any.whl (6.8 kB)\n",
            "Requirement already satisfied: ipython in /usr/local/lib/python3.7/dist-packages (from ipython-autotime) (5.5.0)\n",
            "Requirement already satisfied: simplegeneric>0.8 in /usr/local/lib/python3.7/dist-packages (from ipython->ipython-autotime) (0.8.1)\n",
            "Requirement already satisfied: pexpect in /usr/local/lib/python3.7/dist-packages (from ipython->ipython-autotime) (4.8.0)\n",
            "Requirement already satisfied: decorator in /usr/local/lib/python3.7/dist-packages (from ipython->ipython-autotime) (4.4.2)\n",
            "Requirement already satisfied: pickleshare in /usr/local/lib/python3.7/dist-packages (from ipython->ipython-autotime) (0.7.5)\n",
            "Requirement already satisfied: traitlets>=4.2 in /usr/local/lib/python3.7/dist-packages (from ipython->ipython-autotime) (5.1.1)\n",
            "Requirement already satisfied: prompt-toolkit<2.0.0,>=1.0.4 in /usr/local/lib/python3.7/dist-packages (from ipython->ipython-autotime) (1.0.18)\n",
            "Requirement already satisfied: setuptools>=18.5 in /usr/local/lib/python3.7/dist-packages (from ipython->ipython-autotime) (57.4.0)\n",
            "Requirement already satisfied: pygments in /usr/local/lib/python3.7/dist-packages (from ipython->ipython-autotime) (2.6.1)\n",
            "Requirement already satisfied: six>=1.9.0 in /usr/local/lib/python3.7/dist-packages (from prompt-toolkit<2.0.0,>=1.0.4->ipython->ipython-autotime) (1.15.0)\n",
            "Requirement already satisfied: wcwidth in /usr/local/lib/python3.7/dist-packages (from prompt-toolkit<2.0.0,>=1.0.4->ipython->ipython-autotime) (0.2.5)\n",
            "Requirement already satisfied: ptyprocess>=0.5 in /usr/local/lib/python3.7/dist-packages (from pexpect->ipython->ipython-autotime) (0.7.0)\n",
            "Installing collected packages: ipython-autotime\n",
            "Successfully installed ipython-autotime-0.3.1\n",
            "time: 980 µs (started: 2021-12-03 16:28:15 +00:00)\n"
          ]
        }
      ]
    },
    {
      "cell_type": "code",
      "metadata": {
        "colab": {
          "base_uri": "https://localhost:8080/"
        },
        "id": "hX1Xsm_7sEUS",
        "outputId": "be212a1b-e30c-4af2-9689-e6a54e237630"
      },
      "source": [
        "import pickle\n",
        "import nltk\n",
        "import pandas as pd\n",
        "import numpy as np\n",
        "from nltk.tokenize import TreebankWordTokenizer\n",
        "from nltk.util import ngrams\n",
        "from sklearn.feature_extraction.text import ENGLISH_STOP_WORDS as sklearn_stop_words\n",
        "from sklearn.feature_extraction.text import TfidfVectorizer\n",
        "from sklearn.metrics.pairwise import cosine_similarity"
      ],
      "execution_count": 2,
      "outputs": [
        {
          "output_type": "stream",
          "name": "stdout",
          "text": [
            "time: 1.24 s (started: 2021-12-03 16:28:15 +00:00)\n"
          ]
        }
      ]
    },
    {
      "cell_type": "code",
      "metadata": {
        "colab": {
          "base_uri": "https://localhost:8080/"
        },
        "id": "N152mIoRsaon",
        "outputId": "3df62709-5594-4f14-af73-0cc2031e5911"
      },
      "source": [
        "# Constants\n",
        "# Pickle Input\n",
        "JD_FILES_PICKLE_OUTPATH='/content/drive/MyDrive/AIDI1003/JDs/jds.pickle'\n",
        "RESUME_FILES_PICKLE_OUTPATH='/content/drive/MyDrive/AIDI1003/Resumes/resumes.pickle'\n",
        "\n",
        "NUM_RESULTS_TO_SHOW=20"
      ],
      "execution_count": 3,
      "outputs": [
        {
          "output_type": "stream",
          "name": "stdout",
          "text": [
            "time: 3.23 ms (started: 2021-12-03 16:28:17 +00:00)\n"
          ]
        }
      ]
    },
    {
      "cell_type": "code",
      "metadata": {
        "colab": {
          "base_uri": "https://localhost:8080/"
        },
        "id": "KIX5eRmdsccv",
        "outputId": "c5725a1a-a4a6-4e79-cdc0-923880584127"
      },
      "source": [
        "from google.colab import drive\n",
        "drive.mount('/content/drive')"
      ],
      "execution_count": 4,
      "outputs": [
        {
          "output_type": "stream",
          "name": "stdout",
          "text": [
            "Drive already mounted at /content/drive; to attempt to forcibly remount, call drive.mount(\"/content/drive\", force_remount=True).\n",
            "time: 3.54 ms (started: 2021-12-03 16:28:17 +00:00)\n"
          ]
        }
      ]
    },
    {
      "cell_type": "code",
      "metadata": {
        "colab": {
          "base_uri": "https://localhost:8080/"
        },
        "id": "Lhimjxwgsdin",
        "outputId": "67d1a5c5-6211-40c6-e7c5-fa4760778b01"
      },
      "source": [
        "jd_files_dict = resume_files_dict = {}\n",
        "with open(JD_FILES_PICKLE_OUTPATH, 'rb') as fh:\n",
        "  jd_files_dict = pickle.load(fh)\n",
        "with open(RESUME_FILES_PICKLE_OUTPATH, 'rb') as fh:\n",
        "  resume_files_dict = pickle.load(fh)"
      ],
      "execution_count": 5,
      "outputs": [
        {
          "output_type": "stream",
          "name": "stdout",
          "text": [
            "time: 7.91 s (started: 2021-12-03 16:28:17 +00:00)\n"
          ]
        }
      ]
    },
    {
      "cell_type": "code",
      "metadata": {
        "colab": {
          "base_uri": "https://localhost:8080/"
        },
        "id": "6MrzLLw0sful",
        "outputId": "4ed7f8f1-5b83-45f4-eda9-699347032be1"
      },
      "source": [
        "nltk.download('stopwords')\n",
        "stop_words = nltk.corpus.stopwords.words('english')\n",
        "stop_words = sklearn_stop_words.intersection(stop_words)"
      ],
      "execution_count": 6,
      "outputs": [
        {
          "output_type": "stream",
          "name": "stdout",
          "text": [
            "[nltk_data] Downloading package stopwords to /root/nltk_data...\n",
            "[nltk_data]   Unzipping corpora/stopwords.zip.\n",
            "time: 126 ms (started: 2021-12-03 16:28:24 +00:00)\n"
          ]
        }
      ]
    },
    {
      "cell_type": "code",
      "metadata": {
        "colab": {
          "base_uri": "https://localhost:8080/"
        },
        "id": "PCdXgSm2sg6F",
        "outputId": "dbbf53f5-4f1f-4a3e-9d61-72911afb26b2"
      },
      "source": [
        "def tokenize(text):\n",
        "  tokenized = text.lower().split()\n",
        "  tokenized = [token for token in tokenized if (len(token)>1 and all(char.isalpha()or char.isdigit() for char in token))]\n",
        "  return tokenized"
      ],
      "execution_count": 7,
      "outputs": [
        {
          "output_type": "stream",
          "name": "stdout",
          "text": [
            "time: 2.1 ms (started: 2021-12-03 16:28:25 +00:00)\n"
          ]
        }
      ]
    },
    {
      "cell_type": "code",
      "metadata": {
        "colab": {
          "base_uri": "https://localhost:8080/"
        },
        "id": "_xOId3J8sh-x",
        "outputId": "987cb3d9-6a84-42a2-fd0c-265901425f4c"
      },
      "source": [
        "print('Count of JDs:', len(jd_files_dict))\n",
        "print('Count of Resumes:', len(resume_files_dict))"
      ],
      "execution_count": 8,
      "outputs": [
        {
          "output_type": "stream",
          "name": "stdout",
          "text": [
            "Count of JDs: 151210\n",
            "Count of Resumes: 50023\n",
            "time: 1.19 ms (started: 2021-12-03 16:28:25 +00:00)\n"
          ]
        }
      ]
    },
    {
      "cell_type": "markdown",
      "metadata": {
        "id": "wE4uO9XntOYe"
      },
      "source": [
        "# Processing"
      ]
    },
    {
      "cell_type": "markdown",
      "metadata": {
        "id": "hqFJ_3vKtXRb"
      },
      "source": [
        "File Types:\n",
        "* 1 - Job Description file (JD)\n",
        "* 2 - Resume file"
      ]
    },
    {
      "cell_type": "code",
      "metadata": {
        "colab": {
          "base_uri": "https://localhost:8080/"
        },
        "id": "s92USIYZuH4u",
        "outputId": "4f1b3d3a-7018-4601-c4f0-585aebfe05b3"
      },
      "source": [
        "def get_file_type(field_name: str):\n",
        "  user_input: str = \\\n",
        "    input(\"Please enter the file type for the {} file(s).\\n\".format(field_name))\n",
        "\n",
        "  if user_input == '1' or user_input == '2':\n",
        "    user_input = int(user_input)\n",
        "    print('You have entered \"{}\" as the {} file type.'.format(user_input, \n",
        "                                                              field_name))    \n",
        "    print('Thank you for your input.')\n",
        "  else:\n",
        "    print('You have entered an invalid value of \"{}\" as the {} file type.'\\\n",
        "          .format(user_input, field_name))\n",
        "    user_input = None\n",
        "  return user_input"
      ],
      "execution_count": 9,
      "outputs": [
        {
          "output_type": "stream",
          "name": "stdout",
          "text": [
            "time: 12.1 ms (started: 2021-12-03 16:28:25 +00:00)\n"
          ]
        }
      ]
    },
    {
      "cell_type": "markdown",
      "metadata": {
        "id": "eYE98RK5tQmy"
      },
      "source": [
        "## Inputs"
      ]
    },
    {
      "cell_type": "markdown",
      "metadata": {
        "id": "0GMyAmUlux4X"
      },
      "source": [
        "Get input file type"
      ]
    },
    {
      "cell_type": "code",
      "metadata": {
        "colab": {
          "base_uri": "https://localhost:8080/"
        },
        "id": "e0f4TyDhweRq",
        "outputId": "a0c227ce-c3b1-4334-989a-e7519ec8d25e"
      },
      "source": [
        "input_type = None\n",
        "while input_type is None:\n",
        "  input_type = get_file_type(\"input\")\n",
        "\n",
        "input_dictionary = jd_files_dict if input_type == 1 else resume_files_dict"
      ],
      "execution_count": 10,
      "outputs": [
        {
          "output_type": "stream",
          "name": "stdout",
          "text": [
            "Please enter the file type for the input file(s).\n",
            "1\n",
            "You have entered \"1\" as the input file type.\n",
            "Thank you for your input.\n",
            "time: 2.29 s (started: 2021-12-03 16:28:25 +00:00)\n"
          ]
        }
      ]
    },
    {
      "cell_type": "markdown",
      "metadata": {
        "id": "rtfjVnYd0VkF"
      },
      "source": [
        "Get the input filename"
      ]
    },
    {
      "cell_type": "code",
      "metadata": {
        "colab": {
          "base_uri": "https://localhost:8080/"
        },
        "id": "Sl6h1icVz2Rd",
        "outputId": "9d23ee68-163e-41ae-be03-8b5537553a60"
      },
      "source": [
        "input_filename = None\n",
        "while input_filename is None:\n",
        "  input_filename = input(\"Please enter the file name for the input file.\\n\")\n",
        "  print('You have entered \"{}\" as the input file name.'.format(input_filename))\n",
        "  if not (input_filename in input_dictionary):\n",
        "    print('The specified filename is not in the input dictionary, try again.')\n",
        "    input_filename = None"
      ],
      "execution_count": 11,
      "outputs": [
        {
          "output_type": "stream",
          "name": "stdout",
          "text": [
            "Please enter the file name for the input file.\n",
            "ABAP Consuultant_23157\n",
            "You have entered \"ABAP Consuultant_23157\" as the input file name.\n",
            "time: 1.57 s (started: 2021-12-03 16:28:27 +00:00)\n"
          ]
        }
      ]
    },
    {
      "cell_type": "markdown",
      "metadata": {
        "id": "3d3n1L1z0TwA"
      },
      "source": [
        "Get output file type"
      ]
    },
    {
      "cell_type": "code",
      "metadata": {
        "colab": {
          "base_uri": "https://localhost:8080/"
        },
        "id": "AZES2X8qzvWv",
        "outputId": "5eb01cdf-7c62-4a05-f201-3652b2f9e9c1"
      },
      "source": [
        "output_type = None\n",
        "while output_type is None:\n",
        "  output_type = get_file_type(\"output\")\n",
        "\n",
        "output_dictionary = jd_files_dict if output_type == 1 else resume_files_dict"
      ],
      "execution_count": 12,
      "outputs": [
        {
          "output_type": "stream",
          "name": "stdout",
          "text": [
            "Please enter the file type for the output file(s).\n",
            "1\n",
            "You have entered \"1\" as the output file type.\n",
            "Thank you for your input.\n",
            "time: 1.27 s (started: 2021-12-03 16:28:29 +00:00)\n"
          ]
        }
      ]
    },
    {
      "cell_type": "markdown",
      "metadata": {
        "id": "qzyR2cTo202N"
      },
      "source": [
        "## Similarity Check Logic"
      ]
    },
    {
      "cell_type": "markdown",
      "metadata": {
        "id": "xV-z_a6V2VVV"
      },
      "source": [
        "Add an entry for the input text into the output dictionary before vectorization"
      ]
    },
    {
      "cell_type": "code",
      "metadata": {
        "colab": {
          "base_uri": "https://localhost:8080/"
        },
        "id": "jlWofIoz2UZM",
        "outputId": "e43ee3d3-2140-4d21-f232-7e7818e44184"
      },
      "source": [
        "input_key = 'input:'+input_filename\n",
        "output_dictionary[input_key] = input_dictionary[input_filename]"
      ],
      "execution_count": 13,
      "outputs": [
        {
          "output_type": "stream",
          "name": "stdout",
          "text": [
            "time: 1.49 ms (started: 2021-12-03 16:28:30 +00:00)\n"
          ]
        }
      ]
    },
    {
      "cell_type": "markdown",
      "metadata": {
        "id": "AAAcqvn53PIu"
      },
      "source": [
        "Prepare corpus"
      ]
    },
    {
      "cell_type": "code",
      "metadata": {
        "colab": {
          "base_uri": "https://localhost:8080/"
        },
        "id": "djUukniN26EO",
        "outputId": "94290f0b-8915-4409-c45c-621a17d46ef5"
      },
      "source": [
        "corpus_raw = pd.DataFrame.from_dict(output_dictionary, orient='index', columns=['text'])"
      ],
      "execution_count": 14,
      "outputs": [
        {
          "output_type": "stream",
          "name": "stdout",
          "text": [
            "time: 91.3 ms (started: 2021-12-03 16:28:30 +00:00)\n"
          ]
        }
      ]
    },
    {
      "cell_type": "markdown",
      "metadata": {
        "id": "5yqWM1Gp3_gq"
      },
      "source": [
        "Save filenames for numerical index retrieval  later"
      ]
    },
    {
      "cell_type": "code",
      "metadata": {
        "colab": {
          "base_uri": "https://localhost:8080/"
        },
        "id": "T9QukACR3-0n",
        "outputId": "7dd92611-1e04-476e-baa2-721b3e4a854a"
      },
      "source": [
        "corpus_filenames = corpus_raw.index.values"
      ],
      "execution_count": 15,
      "outputs": [
        {
          "output_type": "stream",
          "name": "stdout",
          "text": [
            "time: 1.42 ms (started: 2021-12-03 16:28:30 +00:00)\n"
          ]
        }
      ]
    },
    {
      "cell_type": "code",
      "metadata": {
        "colab": {
          "base_uri": "https://localhost:8080/",
          "height": 225
        },
        "id": "qsWSfk1a3pyk",
        "outputId": "d6f30bb8-b44e-4b84-8975-852a0b6fdd14"
      },
      "source": [
        "corpus_raw.head()"
      ],
      "execution_count": 16,
      "outputs": [
        {
          "output_type": "execute_result",
          "data": {
            "text/html": [
              "<div>\n",
              "<style scoped>\n",
              "    .dataframe tbody tr th:only-of-type {\n",
              "        vertical-align: middle;\n",
              "    }\n",
              "\n",
              "    .dataframe tbody tr th {\n",
              "        vertical-align: top;\n",
              "    }\n",
              "\n",
              "    .dataframe thead th {\n",
              "        text-align: right;\n",
              "    }\n",
              "</style>\n",
              "<table border=\"1\" class=\"dataframe\">\n",
              "  <thead>\n",
              "    <tr style=\"text-align: right;\">\n",
              "      <th></th>\n",
              "      <th>text</th>\n",
              "    </tr>\n",
              "  </thead>\n",
              "  <tbody>\n",
              "    <tr>\n",
              "      <th>_1158</th>\n",
              "      <td>Amazon Web Services AWS is looking for a passi...</td>\n",
              "    </tr>\n",
              "    <tr>\n",
              "      <th>15x Bricklayers_87905</th>\n",
              "      <td>Apply now Job Title  Bricklayers Location  New...</td>\n",
              "    </tr>\n",
              "    <tr>\n",
              "      <th>_19361</th>\n",
              "      <td>ORACLE PLSQL DEVELOPER  One of our Fortune 100...</td>\n",
              "    </tr>\n",
              "    <tr>\n",
              "      <th>1C Developer_15174</th>\n",
              "      <td>Gsoft is looking for an 1C Developer who will ...</td>\n",
              "    </tr>\n",
              "    <tr>\n",
              "      <th>1C Developer_5043</th>\n",
              "      <td>Link Ltd is actively looking for energetic and...</td>\n",
              "    </tr>\n",
              "  </tbody>\n",
              "</table>\n",
              "</div>"
            ],
            "text/plain": [
              "                                                                    text\n",
              "_1158                  Amazon Web Services AWS is looking for a passi...\n",
              "15x Bricklayers_87905  Apply now Job Title  Bricklayers Location  New...\n",
              "_19361                 ORACLE PLSQL DEVELOPER  One of our Fortune 100...\n",
              "1C Developer_15174     Gsoft is looking for an 1C Developer who will ...\n",
              "1C Developer_5043      Link Ltd is actively looking for energetic and..."
            ]
          },
          "metadata": {},
          "execution_count": 16
        },
        {
          "output_type": "stream",
          "name": "stdout",
          "text": [
            "time: 18 ms (started: 2021-12-03 16:28:30 +00:00)\n"
          ]
        }
      ]
    },
    {
      "cell_type": "markdown",
      "metadata": {
        "id": "l8z6TBOB3RCd"
      },
      "source": [
        "Vectorize"
      ]
    },
    {
      "cell_type": "code",
      "metadata": {
        "colab": {
          "base_uri": "https://localhost:8080/"
        },
        "id": "WhoCtu4_3Oe5",
        "outputId": "f47c7969-8eae-4e2b-ca48-1dcadbe06045"
      },
      "source": [
        "vectorizer = TfidfVectorizer(tokenizer=tokenize, stop_words=stop_words, ngram_range=(1, 2))\n",
        "corpus_vectors = vectorizer.fit_transform(corpus_raw['text'])"
      ],
      "execution_count": 17,
      "outputs": [
        {
          "output_type": "stream",
          "name": "stdout",
          "text": [
            "time: 2min 36s (started: 2021-12-03 16:28:30 +00:00)\n"
          ]
        }
      ]
    },
    {
      "cell_type": "markdown",
      "metadata": {
        "id": "H1PP2DeW3W_x"
      },
      "source": [
        "Get vector representing input"
      ]
    },
    {
      "cell_type": "code",
      "metadata": {
        "colab": {
          "base_uri": "https://localhost:8080/"
        },
        "id": "ab5JiEta35WY",
        "outputId": "2664e01c-c755-4100-e7d7-7853c7fa54a6"
      },
      "source": [
        "input_index = np.where(corpus_filenames == input_key)[0][0]\n",
        "input_vector = corpus_vectors[input_index]"
      ],
      "execution_count": 18,
      "outputs": [
        {
          "output_type": "stream",
          "name": "stdout",
          "text": [
            "time: 17.6 ms (started: 2021-12-03 16:31:06 +00:00)\n"
          ]
        }
      ]
    },
    {
      "cell_type": "markdown",
      "metadata": {
        "id": "TMGqTw0E47GA"
      },
      "source": [
        "Perform Cosine Similarity"
      ]
    },
    {
      "cell_type": "code",
      "metadata": {
        "colab": {
          "base_uri": "https://localhost:8080/"
        },
        "id": "GdEcLy8d43jg",
        "outputId": "5b0695ea-02ce-4705-f79f-73d565f85a54"
      },
      "source": [
        "cos_similarity_output = cosine_similarity(corpus_vectors, input_vector)"
      ],
      "execution_count": 19,
      "outputs": [
        {
          "output_type": "stream",
          "name": "stdout",
          "text": [
            "time: 1.08 s (started: 2021-12-03 16:31:07 +00:00)\n"
          ]
        }
      ]
    },
    {
      "cell_type": "markdown",
      "metadata": {
        "id": "ouiaSBko-4Mq"
      },
      "source": [
        "## Results"
      ]
    },
    {
      "cell_type": "markdown",
      "metadata": {
        "id": "WjKtols75MwL"
      },
      "source": [
        "Get the most similar results"
      ]
    },
    {
      "cell_type": "code",
      "metadata": {
        "colab": {
          "base_uri": "https://localhost:8080/",
          "height": 695
        },
        "id": "z7TejWiE5IkI",
        "outputId": "646ccb29-f9ab-44f6-abc7-5e45e748bb32"
      },
      "source": [
        "cos_similarity_df = pd.DataFrame(cos_similarity_output, index = \\\n",
        "                                 corpus_filenames, columns = ['similarity'])\n",
        "drop_indices = [input_key]\n",
        "if input_type == output_type:\n",
        "  drop_indices.append(input_filename)\n",
        "\n",
        "cos_similarity_df.drop(index = drop_indices).nlargest(NUM_RESULTS_TO_SHOW,\n",
        "                                                          'similarity')"
      ],
      "execution_count": 20,
      "outputs": [
        {
          "output_type": "execute_result",
          "data": {
            "text/html": [
              "<div>\n",
              "<style scoped>\n",
              "    .dataframe tbody tr th:only-of-type {\n",
              "        vertical-align: middle;\n",
              "    }\n",
              "\n",
              "    .dataframe tbody tr th {\n",
              "        vertical-align: top;\n",
              "    }\n",
              "\n",
              "    .dataframe thead th {\n",
              "        text-align: right;\n",
              "    }\n",
              "</style>\n",
              "<table border=\"1\" class=\"dataframe\">\n",
              "  <thead>\n",
              "    <tr style=\"text-align: right;\">\n",
              "      <th></th>\n",
              "      <th>similarity</th>\n",
              "    </tr>\n",
              "  </thead>\n",
              "  <tbody>\n",
              "    <tr>\n",
              "      <th>Contract Administr_23653</th>\n",
              "      <td>0.163727</td>\n",
              "    </tr>\n",
              "    <tr>\n",
              "      <th>C Developer_28577</th>\n",
              "      <td>0.111950</td>\n",
              "    </tr>\n",
              "    <tr>\n",
              "      <th>Sr Java Developer_23658</th>\n",
              "      <td>0.105989</td>\n",
              "    </tr>\n",
              "    <tr>\n",
              "      <th>SAP ABAP Consultan_58429</th>\n",
              "      <td>0.094648</td>\n",
              "    </tr>\n",
              "    <tr>\n",
              "      <th>HCL tech is Lookin_60402</th>\n",
              "      <td>0.091055</td>\n",
              "    </tr>\n",
              "    <tr>\n",
              "      <th>Opening for Positi_60744</th>\n",
              "      <td>0.083848</td>\n",
              "    </tr>\n",
              "    <tr>\n",
              "      <th>SAP ABAP Consultan_58075</th>\n",
              "      <td>0.074864</td>\n",
              "    </tr>\n",
              "    <tr>\n",
              "      <th>SAP SRM Consultant_67527</th>\n",
              "      <td>0.074740</td>\n",
              "    </tr>\n",
              "    <tr>\n",
              "      <th>Application Develo_33324</th>\n",
              "      <td>0.071890</td>\n",
              "    </tr>\n",
              "    <tr>\n",
              "      <th>Sap ABAP HANA Open_57494</th>\n",
              "      <td>0.066970</td>\n",
              "    </tr>\n",
              "    <tr>\n",
              "      <th>SAP ABAP APO Consu_22114</th>\n",
              "      <td>0.065310</td>\n",
              "    </tr>\n",
              "    <tr>\n",
              "      <th>Data entry_36335</th>\n",
              "      <td>0.065156</td>\n",
              "    </tr>\n",
              "    <tr>\n",
              "      <th>SAP SD Consultant_66540</th>\n",
              "      <td>0.063332</td>\n",
              "    </tr>\n",
              "    <tr>\n",
              "      <th>SAP ABAP FI Consul_64136</th>\n",
              "      <td>0.062847</td>\n",
              "    </tr>\n",
              "    <tr>\n",
              "      <th>ABAP Consultant lo_71384</th>\n",
              "      <td>0.062042</td>\n",
              "    </tr>\n",
              "    <tr>\n",
              "      <th>SAP IDOC with EDI_77124</th>\n",
              "      <td>0.061099</td>\n",
              "    </tr>\n",
              "    <tr>\n",
              "      <th>Assistant to Direc_8171</th>\n",
              "      <td>0.060188</td>\n",
              "    </tr>\n",
              "    <tr>\n",
              "      <th>Software Engineer_4526</th>\n",
              "      <td>0.059850</td>\n",
              "    </tr>\n",
              "    <tr>\n",
              "      <th>Hiringlevel Comp_65368</th>\n",
              "      <td>0.057327</td>\n",
              "    </tr>\n",
              "    <tr>\n",
              "      <th>Manual Test Lead_34665</th>\n",
              "      <td>0.056698</td>\n",
              "    </tr>\n",
              "  </tbody>\n",
              "</table>\n",
              "</div>"
            ],
            "text/plain": [
              "                          similarity\n",
              "Contract Administr_23653    0.163727\n",
              "C Developer_28577           0.111950\n",
              "Sr Java Developer_23658     0.105989\n",
              "SAP ABAP Consultan_58429    0.094648\n",
              "HCL tech is Lookin_60402    0.091055\n",
              "Opening for Positi_60744    0.083848\n",
              "SAP ABAP Consultan_58075    0.074864\n",
              "SAP SRM Consultant_67527    0.074740\n",
              "Application Develo_33324    0.071890\n",
              "Sap ABAP HANA Open_57494    0.066970\n",
              "SAP ABAP APO Consu_22114    0.065310\n",
              "Data entry_36335            0.065156\n",
              "SAP SD Consultant_66540     0.063332\n",
              "SAP ABAP FI Consul_64136    0.062847\n",
              "ABAP Consultant lo_71384    0.062042\n",
              "SAP IDOC with EDI_77124     0.061099\n",
              "Assistant to Direc_8171     0.060188\n",
              "Software Engineer_4526      0.059850\n",
              "Hiringlevel Comp_65368      0.057327\n",
              "Manual Test Lead_34665      0.056698"
            ]
          },
          "metadata": {},
          "execution_count": 20
        },
        {
          "output_type": "stream",
          "name": "stdout",
          "text": [
            "time: 111 ms (started: 2021-12-03 16:31:08 +00:00)\n"
          ]
        }
      ]
    }
  ]
}