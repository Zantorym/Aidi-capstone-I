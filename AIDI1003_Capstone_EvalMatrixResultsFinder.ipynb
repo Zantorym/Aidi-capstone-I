{
  "nbformat": 4,
  "nbformat_minor": 0,
  "metadata": {
    "colab": {
      "name": "AIDI1003Capstone EvalMatrixResultsFinder.ipynb",
      "provenance": [],
      "collapsed_sections": [],
      "toc_visible": true
    },
    "kernelspec": {
      "name": "python3",
      "display_name": "Python 3"
    },
    "language_info": {
      "name": "python"
    }
  },
  "cells": [
    {
      "cell_type": "markdown",
      "metadata": {
        "id": "aMT-PM6ksB5m"
      },
      "source": [
        "# Preparation"
      ]
    },
    {
      "cell_type": "code",
      "metadata": {
        "colab": {
          "base_uri": "https://localhost:8080/"
        },
        "id": "Fz67EXwur_Jn",
        "outputId": "ee3498d0-cb64-45ce-a83d-d971376df3a8"
      },
      "source": [
        "!pip install ipython-autotime\n",
        "%load_ext autotime"
      ],
      "execution_count": 1,
      "outputs": [
        {
          "output_type": "stream",
          "name": "stdout",
          "text": [
            "Requirement already satisfied: ipython-autotime in /usr/local/lib/python3.7/dist-packages (0.3.1)\n",
            "Requirement already satisfied: ipython in /usr/local/lib/python3.7/dist-packages (from ipython-autotime) (5.5.0)\n",
            "Requirement already satisfied: pygments in /usr/local/lib/python3.7/dist-packages (from ipython->ipython-autotime) (2.6.1)\n",
            "Requirement already satisfied: traitlets>=4.2 in /usr/local/lib/python3.7/dist-packages (from ipython->ipython-autotime) (5.1.1)\n",
            "Requirement already satisfied: pexpect in /usr/local/lib/python3.7/dist-packages (from ipython->ipython-autotime) (4.8.0)\n",
            "Requirement already satisfied: simplegeneric>0.8 in /usr/local/lib/python3.7/dist-packages (from ipython->ipython-autotime) (0.8.1)\n",
            "Requirement already satisfied: decorator in /usr/local/lib/python3.7/dist-packages (from ipython->ipython-autotime) (4.4.2)\n",
            "Requirement already satisfied: pickleshare in /usr/local/lib/python3.7/dist-packages (from ipython->ipython-autotime) (0.7.5)\n",
            "Requirement already satisfied: setuptools>=18.5 in /usr/local/lib/python3.7/dist-packages (from ipython->ipython-autotime) (57.4.0)\n",
            "Requirement already satisfied: prompt-toolkit<2.0.0,>=1.0.4 in /usr/local/lib/python3.7/dist-packages (from ipython->ipython-autotime) (1.0.18)\n",
            "Requirement already satisfied: wcwidth in /usr/local/lib/python3.7/dist-packages (from prompt-toolkit<2.0.0,>=1.0.4->ipython->ipython-autotime) (0.2.5)\n",
            "Requirement already satisfied: six>=1.9.0 in /usr/local/lib/python3.7/dist-packages (from prompt-toolkit<2.0.0,>=1.0.4->ipython->ipython-autotime) (1.15.0)\n",
            "Requirement already satisfied: ptyprocess>=0.5 in /usr/local/lib/python3.7/dist-packages (from pexpect->ipython->ipython-autotime) (0.7.0)\n",
            "time: 2.19 ms (started: 2021-12-02 02:28:09 +00:00)\n"
          ]
        }
      ]
    },
    {
      "cell_type": "code",
      "metadata": {
        "colab": {
          "base_uri": "https://localhost:8080/"
        },
        "id": "hX1Xsm_7sEUS",
        "outputId": "cf179b16-61cc-4087-ec4f-43709d743c67"
      },
      "source": [
        "import pickle\n",
        "import nltk\n",
        "import pandas as pd\n",
        "import numpy as np\n",
        "from nltk.tokenize import TreebankWordTokenizer\n",
        "from nltk.util import ngrams\n",
        "from sklearn.feature_extraction.text import ENGLISH_STOP_WORDS as sklearn_stop_words\n",
        "from sklearn.feature_extraction.text import TfidfVectorizer\n",
        "from sklearn.metrics.pairwise import cosine_similarity"
      ],
      "execution_count": 2,
      "outputs": [
        {
          "output_type": "stream",
          "name": "stdout",
          "text": [
            "time: 573 ms (started: 2021-12-02 02:28:09 +00:00)\n"
          ]
        }
      ]
    },
    {
      "cell_type": "code",
      "metadata": {
        "colab": {
          "base_uri": "https://localhost:8080/"
        },
        "id": "N152mIoRsaon",
        "outputId": "19e09b17-db65-4852-8f5a-14925aebd079"
      },
      "source": [
        "# Constants\n",
        "# Pickle Input\n",
        "JD_FILES_PICKLE_OUTPATH='/content/drive/MyDrive/AIDI1003/JDs/jds.pickle'\n",
        "RESUME_FILES_PICKLE_OUTPATH='/content/drive/MyDrive/AIDI1003/Resumes/resumes.pickle'\n",
        "\n",
        "NUM_RESULTS_TO_SHOW=20"
      ],
      "execution_count": 3,
      "outputs": [
        {
          "output_type": "stream",
          "name": "stdout",
          "text": [
            "time: 4.51 ms (started: 2021-12-02 02:28:10 +00:00)\n"
          ]
        }
      ]
    },
    {
      "cell_type": "code",
      "metadata": {
        "colab": {
          "base_uri": "https://localhost:8080/"
        },
        "id": "KIX5eRmdsccv",
        "outputId": "ff6109c4-773b-4b4f-8b27-b3989bb59e19"
      },
      "source": [
        "from google.colab import drive\n",
        "drive.mount('/content/drive')"
      ],
      "execution_count": 4,
      "outputs": [
        {
          "output_type": "stream",
          "name": "stdout",
          "text": [
            "Drive already mounted at /content/drive; to attempt to forcibly remount, call drive.mount(\"/content/drive\", force_remount=True).\n",
            "time: 3.55 ms (started: 2021-12-02 02:28:10 +00:00)\n"
          ]
        }
      ]
    },
    {
      "cell_type": "code",
      "metadata": {
        "colab": {
          "base_uri": "https://localhost:8080/"
        },
        "id": "Lhimjxwgsdin",
        "outputId": "c61ec21d-82a0-4b35-9a94-37251780b6dc"
      },
      "source": [
        "jd_files_dict = resume_files_dict = {}\n",
        "with open(JD_FILES_PICKLE_OUTPATH, 'rb') as fh:\n",
        "  jd_files_dict = pickle.load(fh)\n",
        "with open(RESUME_FILES_PICKLE_OUTPATH, 'rb') as fh:\n",
        "  resume_files_dict = pickle.load(fh)"
      ],
      "execution_count": 5,
      "outputs": [
        {
          "output_type": "stream",
          "name": "stdout",
          "text": [
            "time: 780 ms (started: 2021-12-02 02:28:10 +00:00)\n"
          ]
        }
      ]
    },
    {
      "cell_type": "code",
      "metadata": {
        "colab": {
          "base_uri": "https://localhost:8080/"
        },
        "id": "6MrzLLw0sful",
        "outputId": "c928aff8-b2e6-4bb1-c56e-b6f8f406079f"
      },
      "source": [
        "nltk.download('stopwords')\n",
        "stop_words = nltk.corpus.stopwords.words('english')\n",
        "stop_words = sklearn_stop_words.intersection(stop_words)"
      ],
      "execution_count": 6,
      "outputs": [
        {
          "output_type": "stream",
          "name": "stdout",
          "text": [
            "[nltk_data] Downloading package stopwords to /root/nltk_data...\n",
            "[nltk_data]   Package stopwords is already up-to-date!\n",
            "time: 41.6 ms (started: 2021-12-02 02:28:10 +00:00)\n"
          ]
        }
      ]
    },
    {
      "cell_type": "code",
      "metadata": {
        "colab": {
          "base_uri": "https://localhost:8080/"
        },
        "id": "PCdXgSm2sg6F",
        "outputId": "5869fe3a-b44e-4d5c-acae-2c3343c8ed68"
      },
      "source": [
        "def tokenize(text):\n",
        "  tokenized = text.lower().split()\n",
        "  tokenized = [token for token in tokenized if (len(token)>1 and all(char.isalpha()or char.isdigit() for char in token))]\n",
        "  return tokenized"
      ],
      "execution_count": 7,
      "outputs": [
        {
          "output_type": "stream",
          "name": "stdout",
          "text": [
            "time: 3.58 ms (started: 2021-12-02 02:28:10 +00:00)\n"
          ]
        }
      ]
    },
    {
      "cell_type": "code",
      "metadata": {
        "colab": {
          "base_uri": "https://localhost:8080/"
        },
        "id": "_xOId3J8sh-x",
        "outputId": "d48ee548-af9f-408e-a9e2-1882087bbd74"
      },
      "source": [
        "print('Count of JDs:', len(jd_files_dict))\n",
        "print('Count of Resumes:', len(resume_files_dict))"
      ],
      "execution_count": 8,
      "outputs": [
        {
          "output_type": "stream",
          "name": "stdout",
          "text": [
            "Count of JDs: 151210\n",
            "Count of Resumes: 50023\n",
            "time: 4.42 ms (started: 2021-12-02 02:28:10 +00:00)\n"
          ]
        }
      ]
    },
    {
      "cell_type": "markdown",
      "metadata": {
        "id": "wE4uO9XntOYe"
      },
      "source": [
        "# Processing"
      ]
    },
    {
      "cell_type": "markdown",
      "metadata": {
        "id": "hqFJ_3vKtXRb"
      },
      "source": [
        "File Types:\n",
        "* 1 - Job Description file (JD)\n",
        "* 2 - Resume file"
      ]
    },
    {
      "cell_type": "code",
      "metadata": {
        "colab": {
          "base_uri": "https://localhost:8080/"
        },
        "id": "s92USIYZuH4u",
        "outputId": "c96f416c-3d88-4df2-b8cc-95078dd2e4d0"
      },
      "source": [
        "def get_file_type(field_name: str):\n",
        "  user_input: str = \\\n",
        "    input(\"Please enter the file type for the {} file(s).\\n\".format(field_name))\n",
        "\n",
        "  if user_input == '1' or user_input == '2':\n",
        "    user_input = int(user_input)\n",
        "    print('You have entered \"{}\" as the {} file type.'.format(user_input, \n",
        "                                                              field_name))    \n",
        "    print('Thank you for your input.')\n",
        "  else:\n",
        "    print('You have entered an invalid value of \"{}\" as the {} file type.'\\\n",
        "          .format(user_input, field_name))\n",
        "    user_input = None\n",
        "  return user_input"
      ],
      "execution_count": 9,
      "outputs": [
        {
          "output_type": "stream",
          "name": "stdout",
          "text": [
            "time: 6.62 ms (started: 2021-12-02 02:28:10 +00:00)\n"
          ]
        }
      ]
    },
    {
      "cell_type": "markdown",
      "metadata": {
        "id": "eYE98RK5tQmy"
      },
      "source": [
        "## Inputs"
      ]
    },
    {
      "cell_type": "markdown",
      "metadata": {
        "id": "0GMyAmUlux4X"
      },
      "source": [
        "Get input file type"
      ]
    },
    {
      "cell_type": "code",
      "metadata": {
        "colab": {
          "base_uri": "https://localhost:8080/"
        },
        "id": "e0f4TyDhweRq",
        "outputId": "61579d42-0041-4602-f6c8-cd2b019d4863"
      },
      "source": [
        "input_type = None\n",
        "while input_type is None:\n",
        "  input_type = get_file_type(\"input\")\n",
        "\n",
        "input_dictionary = jd_files_dict if input_type == 1 else resume_files_dict"
      ],
      "execution_count": 10,
      "outputs": [
        {
          "output_type": "stream",
          "name": "stdout",
          "text": [
            "Please enter the file type for the input file(s).\n",
            "1\n",
            "You have entered \"1\" as the input file type.\n",
            "Thank you for your input.\n",
            "time: 2.16 s (started: 2021-12-02 02:28:10 +00:00)\n"
          ]
        }
      ]
    },
    {
      "cell_type": "markdown",
      "metadata": {
        "id": "rtfjVnYd0VkF"
      },
      "source": [
        "Get the input filename"
      ]
    },
    {
      "cell_type": "code",
      "metadata": {
        "colab": {
          "base_uri": "https://localhost:8080/"
        },
        "id": "Sl6h1icVz2Rd",
        "outputId": "ae4fd6ea-f3a3-447a-c3ca-47704a2cee4b"
      },
      "source": [
        "input_filename = None\n",
        "while input_filename is None:\n",
        "  input_filename = input(\"Please enter the file name for the input file.\\n\")\n",
        "  print('You have entered \"{}\" as the input file name.'.format(input_filename))\n",
        "  if not (input_filename in input_dictionary):\n",
        "    print('The specified filename is not in the input dictionary, try again.')\n",
        "    input_filename = None"
      ],
      "execution_count": 11,
      "outputs": [
        {
          "output_type": "stream",
          "name": "stdout",
          "text": [
            "Please enter the file name for the input file.\n",
            "LEED Reporting Eng_12627\n",
            "You have entered \"LEED Reporting Eng_12627\" as the input file name.\n",
            "time: 16.5 s (started: 2021-12-02 02:28:13 +00:00)\n"
          ]
        }
      ]
    },
    {
      "cell_type": "markdown",
      "metadata": {
        "id": "3d3n1L1z0TwA"
      },
      "source": [
        "Get output file type"
      ]
    },
    {
      "cell_type": "code",
      "metadata": {
        "colab": {
          "base_uri": "https://localhost:8080/"
        },
        "id": "AZES2X8qzvWv",
        "outputId": "6881ad12-c197-4102-c11a-b8ab97277656"
      },
      "source": [
        "output_type = None\n",
        "while output_type is None:\n",
        "  output_type = get_file_type(\"output\")\n",
        "\n",
        "output_dictionary = jd_files_dict if input_type == 1 else resume_files_dict"
      ],
      "execution_count": 12,
      "outputs": [
        {
          "output_type": "stream",
          "name": "stdout",
          "text": [
            "Please enter the file type for the output file(s).\n",
            "1\n",
            "You have entered \"1\" as the output file type.\n",
            "Thank you for your input.\n",
            "time: 3.79 s (started: 2021-12-02 02:28:29 +00:00)\n"
          ]
        }
      ]
    },
    {
      "cell_type": "markdown",
      "metadata": {
        "id": "qzyR2cTo202N"
      },
      "source": [
        "## Similarity Check Logic"
      ]
    },
    {
      "cell_type": "markdown",
      "metadata": {
        "id": "xV-z_a6V2VVV"
      },
      "source": [
        "Add an entry for the input text into the output dictionary before vectorization"
      ]
    },
    {
      "cell_type": "code",
      "metadata": {
        "colab": {
          "base_uri": "https://localhost:8080/"
        },
        "id": "jlWofIoz2UZM",
        "outputId": "056a7779-7945-49bd-b53e-053f2ff0b97f"
      },
      "source": [
        "input_key = 'input:'+input_filename\n",
        "output_dictionary[input_key] = input_dictionary[input_filename]"
      ],
      "execution_count": 13,
      "outputs": [
        {
          "output_type": "stream",
          "name": "stdout",
          "text": [
            "time: 1.28 ms (started: 2021-12-02 02:28:33 +00:00)\n"
          ]
        }
      ]
    },
    {
      "cell_type": "markdown",
      "metadata": {
        "id": "AAAcqvn53PIu"
      },
      "source": [
        "Prepare corpus"
      ]
    },
    {
      "cell_type": "code",
      "metadata": {
        "colab": {
          "base_uri": "https://localhost:8080/"
        },
        "id": "djUukniN26EO",
        "outputId": "edc8eb77-bf73-40e8-d373-463735231f25"
      },
      "source": [
        "corpus_raw = pd.DataFrame.from_dict(output_dictionary, orient='index', columns=['text'])"
      ],
      "execution_count": 14,
      "outputs": [
        {
          "output_type": "stream",
          "name": "stdout",
          "text": [
            "time: 72.6 ms (started: 2021-12-02 02:28:33 +00:00)\n"
          ]
        }
      ]
    },
    {
      "cell_type": "markdown",
      "metadata": {
        "id": "5yqWM1Gp3_gq"
      },
      "source": [
        "Save filenames for numerical index retrieval  later"
      ]
    },
    {
      "cell_type": "code",
      "metadata": {
        "colab": {
          "base_uri": "https://localhost:8080/"
        },
        "id": "T9QukACR3-0n",
        "outputId": "8d397e2d-ebb4-4474-e554-67b8d2dcc82e"
      },
      "source": [
        "corpus_filenames = corpus_raw.index.values"
      ],
      "execution_count": 15,
      "outputs": [
        {
          "output_type": "stream",
          "name": "stdout",
          "text": [
            "time: 1.03 ms (started: 2021-12-02 02:28:33 +00:00)\n"
          ]
        }
      ]
    },
    {
      "cell_type": "code",
      "metadata": {
        "colab": {
          "base_uri": "https://localhost:8080/",
          "height": 225
        },
        "id": "qsWSfk1a3pyk",
        "outputId": "9a677bc3-98c6-4b7d-ea54-84f4494e66ce"
      },
      "source": [
        "corpus_raw.head()"
      ],
      "execution_count": 16,
      "outputs": [
        {
          "output_type": "execute_result",
          "data": {
            "text/html": [
              "<div>\n",
              "<style scoped>\n",
              "    .dataframe tbody tr th:only-of-type {\n",
              "        vertical-align: middle;\n",
              "    }\n",
              "\n",
              "    .dataframe tbody tr th {\n",
              "        vertical-align: top;\n",
              "    }\n",
              "\n",
              "    .dataframe thead th {\n",
              "        text-align: right;\n",
              "    }\n",
              "</style>\n",
              "<table border=\"1\" class=\"dataframe\">\n",
              "  <thead>\n",
              "    <tr style=\"text-align: right;\">\n",
              "      <th></th>\n",
              "      <th>text</th>\n",
              "    </tr>\n",
              "  </thead>\n",
              "  <tbody>\n",
              "    <tr>\n",
              "      <th>_1158</th>\n",
              "      <td>Amazon Web Services AWS is looking for a passi...</td>\n",
              "    </tr>\n",
              "    <tr>\n",
              "      <th>15x Bricklayers_87905</th>\n",
              "      <td>Apply now Job Title  Bricklayers Location  New...</td>\n",
              "    </tr>\n",
              "    <tr>\n",
              "      <th>_19361</th>\n",
              "      <td>ORACLE PLSQL DEVELOPER  One of our Fortune 100...</td>\n",
              "    </tr>\n",
              "    <tr>\n",
              "      <th>1C Developer_15174</th>\n",
              "      <td>Gsoft is looking for an 1C Developer who will ...</td>\n",
              "    </tr>\n",
              "    <tr>\n",
              "      <th>1C Developer_5043</th>\n",
              "      <td>Link Ltd is actively looking for energetic and...</td>\n",
              "    </tr>\n",
              "  </tbody>\n",
              "</table>\n",
              "</div>"
            ],
            "text/plain": [
              "                                                                    text\n",
              "_1158                  Amazon Web Services AWS is looking for a passi...\n",
              "15x Bricklayers_87905  Apply now Job Title  Bricklayers Location  New...\n",
              "_19361                 ORACLE PLSQL DEVELOPER  One of our Fortune 100...\n",
              "1C Developer_15174     Gsoft is looking for an 1C Developer who will ...\n",
              "1C Developer_5043      Link Ltd is actively looking for energetic and..."
            ]
          },
          "metadata": {},
          "execution_count": 16
        },
        {
          "output_type": "stream",
          "name": "stdout",
          "text": [
            "time: 14.2 ms (started: 2021-12-02 02:28:33 +00:00)\n"
          ]
        }
      ]
    },
    {
      "cell_type": "markdown",
      "metadata": {
        "id": "l8z6TBOB3RCd"
      },
      "source": [
        "Vectorize"
      ]
    },
    {
      "cell_type": "code",
      "metadata": {
        "colab": {
          "base_uri": "https://localhost:8080/"
        },
        "id": "WhoCtu4_3Oe5",
        "outputId": "9d23e193-5df4-4e1d-fbc9-c17115861096"
      },
      "source": [
        "vectorizer = TfidfVectorizer()\n",
        "corpus_vectors = vectorizer.fit_transform(corpus_raw['text'])"
      ],
      "execution_count": 17,
      "outputs": [
        {
          "output_type": "stream",
          "name": "stdout",
          "text": [
            "time: 33.5 s (started: 2021-12-02 02:28:33 +00:00)\n"
          ]
        }
      ]
    },
    {
      "cell_type": "markdown",
      "metadata": {
        "id": "H1PP2DeW3W_x"
      },
      "source": [
        "Get vector representing input"
      ]
    },
    {
      "cell_type": "code",
      "metadata": {
        "colab": {
          "base_uri": "https://localhost:8080/"
        },
        "id": "ab5JiEta35WY",
        "outputId": "4018cf29-4c64-482c-c4b9-9a8f39197d9b"
      },
      "source": [
        "input_index = np.where(corpus_filenames == input_key)[0][0]\n",
        "input_vector = corpus_vectors[input_index]"
      ],
      "execution_count": 18,
      "outputs": [
        {
          "output_type": "stream",
          "name": "stdout",
          "text": [
            "time: 7.09 ms (started: 2021-12-02 02:29:07 +00:00)\n"
          ]
        }
      ]
    },
    {
      "cell_type": "markdown",
      "metadata": {
        "id": "TMGqTw0E47GA"
      },
      "source": [
        "Perform Cosine Similarity"
      ]
    },
    {
      "cell_type": "code",
      "metadata": {
        "colab": {
          "base_uri": "https://localhost:8080/"
        },
        "id": "GdEcLy8d43jg",
        "outputId": "3c764b44-a744-473e-f4a1-c211d7c1137f"
      },
      "source": [
        "cos_similarity_output = cosine_similarity(corpus_vectors, input_vector)"
      ],
      "execution_count": 19,
      "outputs": [
        {
          "output_type": "stream",
          "name": "stdout",
          "text": [
            "time: 264 ms (started: 2021-12-02 02:29:07 +00:00)\n"
          ]
        }
      ]
    },
    {
      "cell_type": "markdown",
      "metadata": {
        "id": "ouiaSBko-4Mq"
      },
      "source": [
        "## Results"
      ]
    },
    {
      "cell_type": "markdown",
      "metadata": {
        "id": "WjKtols75MwL"
      },
      "source": [
        "Get the most similar results"
      ]
    },
    {
      "cell_type": "code",
      "metadata": {
        "colab": {
          "base_uri": "https://localhost:8080/",
          "height": 695
        },
        "id": "z7TejWiE5IkI",
        "outputId": "63948628-8ad2-41fd-cc1a-1be551cbf9cd"
      },
      "source": [
        "cos_similarity_df = pd.DataFrame(cos_similarity_output, index = \\\n",
        "                                 corpus_filenames, columns = ['similarity'])\n",
        "cos_similarity_df.drop(index = [input_key, \n",
        "                                input_filename]).nlargest(NUM_RESULTS_TO_SHOW,\n",
        "                                                          'similarity')"
      ],
      "execution_count": 20,
      "outputs": [
        {
          "output_type": "execute_result",
          "data": {
            "text/html": [
              "<div>\n",
              "<style scoped>\n",
              "    .dataframe tbody tr th:only-of-type {\n",
              "        vertical-align: middle;\n",
              "    }\n",
              "\n",
              "    .dataframe tbody tr th {\n",
              "        vertical-align: top;\n",
              "    }\n",
              "\n",
              "    .dataframe thead th {\n",
              "        text-align: right;\n",
              "    }\n",
              "</style>\n",
              "<table border=\"1\" class=\"dataframe\">\n",
              "  <thead>\n",
              "    <tr style=\"text-align: right;\">\n",
              "      <th></th>\n",
              "      <th>similarity</th>\n",
              "    </tr>\n",
              "  </thead>\n",
              "  <tbody>\n",
              "    <tr>\n",
              "      <th>Construction Site_15274</th>\n",
              "      <td>0.480160</td>\n",
              "    </tr>\n",
              "    <tr>\n",
              "      <th>Designer Architect_3251</th>\n",
              "      <td>0.345975</td>\n",
              "    </tr>\n",
              "    <tr>\n",
              "      <th>Construction Healt_38071</th>\n",
              "      <td>0.336241</td>\n",
              "    </tr>\n",
              "    <tr>\n",
              "      <th>Civil Engineer_4812</th>\n",
              "      <td>0.324340</td>\n",
              "    </tr>\n",
              "    <tr>\n",
              "      <th>Project Coordinato_8670</th>\n",
              "      <td>0.314234</td>\n",
              "    </tr>\n",
              "    <tr>\n",
              "      <th>Construction Super_8353</th>\n",
              "      <td>0.311522</td>\n",
              "    </tr>\n",
              "    <tr>\n",
              "      <th>Construction Super_5913</th>\n",
              "      <td>0.309241</td>\n",
              "    </tr>\n",
              "    <tr>\n",
              "      <th>Mechanical Enginee_14234</th>\n",
              "      <td>0.306291</td>\n",
              "    </tr>\n",
              "    <tr>\n",
              "      <th>Construction Proje_14320</th>\n",
              "      <td>0.305974</td>\n",
              "    </tr>\n",
              "    <tr>\n",
              "      <th>Monster_45652</th>\n",
              "      <td>0.300677</td>\n",
              "    </tr>\n",
              "    <tr>\n",
              "      <th>Field Engineer or_44577</th>\n",
              "      <td>0.286915</td>\n",
              "    </tr>\n",
              "    <tr>\n",
              "      <th>CyberCoders Job Ap_48004</th>\n",
              "      <td>0.283922</td>\n",
              "    </tr>\n",
              "    <tr>\n",
              "      <th>Construction Super_5915</th>\n",
              "      <td>0.279264</td>\n",
              "    </tr>\n",
              "    <tr>\n",
              "      <th>Construction Servi_44412</th>\n",
              "      <td>0.278677</td>\n",
              "    </tr>\n",
              "    <tr>\n",
              "      <th>Senior Civil Engin_90366</th>\n",
              "      <td>0.278420</td>\n",
              "    </tr>\n",
              "    <tr>\n",
              "      <th>Heavy Civil Constr_50812</th>\n",
              "      <td>0.275351</td>\n",
              "    </tr>\n",
              "    <tr>\n",
              "      <th>Head of Constructi_11483</th>\n",
              "      <td>0.274717</td>\n",
              "    </tr>\n",
              "    <tr>\n",
              "      <th>Construction Manag_49698</th>\n",
              "      <td>0.274052</td>\n",
              "    </tr>\n",
              "    <tr>\n",
              "      <th>Construction Group_65613</th>\n",
              "      <td>0.273646</td>\n",
              "    </tr>\n",
              "    <tr>\n",
              "      <th>Electrical Enginee_13175</th>\n",
              "      <td>0.272495</td>\n",
              "    </tr>\n",
              "  </tbody>\n",
              "</table>\n",
              "</div>"
            ],
            "text/plain": [
              "                          similarity\n",
              "Construction Site_15274     0.480160\n",
              "Designer Architect_3251     0.345975\n",
              "Construction Healt_38071    0.336241\n",
              "Civil Engineer_4812         0.324340\n",
              "Project Coordinato_8670     0.314234\n",
              "Construction Super_8353     0.311522\n",
              "Construction Super_5913     0.309241\n",
              "Mechanical Enginee_14234    0.306291\n",
              "Construction Proje_14320    0.305974\n",
              "Monster_45652               0.300677\n",
              "Field Engineer or_44577     0.286915\n",
              "CyberCoders Job Ap_48004    0.283922\n",
              "Construction Super_5915     0.279264\n",
              "Construction Servi_44412    0.278677\n",
              "Senior Civil Engin_90366    0.278420\n",
              "Heavy Civil Constr_50812    0.275351\n",
              "Head of Constructi_11483    0.274717\n",
              "Construction Manag_49698    0.274052\n",
              "Construction Group_65613    0.273646\n",
              "Electrical Enginee_13175    0.272495"
            ]
          },
          "metadata": {},
          "execution_count": 20
        },
        {
          "output_type": "stream",
          "name": "stdout",
          "text": [
            "time: 64 ms (started: 2021-12-02 02:29:07 +00:00)\n"
          ]
        }
      ]
    }
  ]
}