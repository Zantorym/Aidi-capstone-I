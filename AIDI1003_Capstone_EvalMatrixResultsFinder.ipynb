{
  "nbformat": 4,
  "nbformat_minor": 0,
  "metadata": {
    "colab": {
      "name": "AIDI1003 Capstone EvalMatrixResultsFinder.ipynb",
      "provenance": [],
      "collapsed_sections": [],
      "toc_visible": true
    },
    "kernelspec": {
      "name": "python3",
      "display_name": "Python 3"
    },
    "language_info": {
      "name": "python"
    }
  },
  "cells": [
    {
      "cell_type": "markdown",
      "metadata": {
        "id": "aMT-PM6ksB5m"
      },
      "source": [
        "# Preparation"
      ]
    },
    {
      "cell_type": "code",
      "metadata": {
        "colab": {
          "base_uri": "https://localhost:8080/"
        },
        "id": "Fz67EXwur_Jn",
        "outputId": "5f90004f-5187-4016-c95c-32cace694c54"
      },
      "source": [
        "!pip install ipython-autotime\n",
        "%load_ext autotime"
      ],
      "execution_count": 1,
      "outputs": [
        {
          "output_type": "stream",
          "name": "stdout",
          "text": [
            "Requirement already satisfied: ipython-autotime in /usr/local/lib/python3.7/dist-packages (0.3.1)\n",
            "Requirement already satisfied: ipython in /usr/local/lib/python3.7/dist-packages (from ipython-autotime) (5.5.0)\n",
            "Requirement already satisfied: simplegeneric>0.8 in /usr/local/lib/python3.7/dist-packages (from ipython->ipython-autotime) (0.8.1)\n",
            "Requirement already satisfied: prompt-toolkit<2.0.0,>=1.0.4 in /usr/local/lib/python3.7/dist-packages (from ipython->ipython-autotime) (1.0.18)\n",
            "Requirement already satisfied: setuptools>=18.5 in /usr/local/lib/python3.7/dist-packages (from ipython->ipython-autotime) (57.4.0)\n",
            "Requirement already satisfied: decorator in /usr/local/lib/python3.7/dist-packages (from ipython->ipython-autotime) (4.4.2)\n",
            "Requirement already satisfied: pickleshare in /usr/local/lib/python3.7/dist-packages (from ipython->ipython-autotime) (0.7.5)\n",
            "Requirement already satisfied: traitlets>=4.2 in /usr/local/lib/python3.7/dist-packages (from ipython->ipython-autotime) (5.1.1)\n",
            "Requirement already satisfied: pygments in /usr/local/lib/python3.7/dist-packages (from ipython->ipython-autotime) (2.6.1)\n",
            "Requirement already satisfied: pexpect in /usr/local/lib/python3.7/dist-packages (from ipython->ipython-autotime) (4.8.0)\n",
            "Requirement already satisfied: wcwidth in /usr/local/lib/python3.7/dist-packages (from prompt-toolkit<2.0.0,>=1.0.4->ipython->ipython-autotime) (0.2.5)\n",
            "Requirement already satisfied: six>=1.9.0 in /usr/local/lib/python3.7/dist-packages (from prompt-toolkit<2.0.0,>=1.0.4->ipython->ipython-autotime) (1.15.0)\n",
            "Requirement already satisfied: ptyprocess>=0.5 in /usr/local/lib/python3.7/dist-packages (from pexpect->ipython->ipython-autotime) (0.7.0)\n",
            "time: 2.36 ms (started: 2021-12-02 02:40:59 +00:00)\n"
          ]
        }
      ]
    },
    {
      "cell_type": "code",
      "metadata": {
        "colab": {
          "base_uri": "https://localhost:8080/"
        },
        "id": "hX1Xsm_7sEUS",
        "outputId": "6ee9b2d5-3dc7-4dbf-c224-7315275f1d46"
      },
      "source": [
        "import pickle\n",
        "import nltk\n",
        "import pandas as pd\n",
        "import numpy as np\n",
        "from nltk.tokenize import TreebankWordTokenizer\n",
        "from nltk.util import ngrams\n",
        "from sklearn.feature_extraction.text import ENGLISH_STOP_WORDS as sklearn_stop_words\n",
        "from sklearn.feature_extraction.text import TfidfVectorizer\n",
        "from sklearn.metrics.pairwise import cosine_similarity"
      ],
      "execution_count": 2,
      "outputs": [
        {
          "output_type": "stream",
          "name": "stdout",
          "text": [
            "time: 546 ms (started: 2021-12-02 02:40:59 +00:00)\n"
          ]
        }
      ]
    },
    {
      "cell_type": "code",
      "metadata": {
        "colab": {
          "base_uri": "https://localhost:8080/"
        },
        "id": "N152mIoRsaon",
        "outputId": "42122dfb-2de2-4364-9725-5a0237d3a4a5"
      },
      "source": [
        "# Constants\n",
        "# Pickle Input\n",
        "JD_FILES_PICKLE_OUTPATH='/content/drive/MyDrive/AIDI1003/JDs/jds.pickle'\n",
        "RESUME_FILES_PICKLE_OUTPATH='/content/drive/MyDrive/AIDI1003/Resumes/resumes.pickle'\n",
        "\n",
        "NUM_RESULTS_TO_SHOW=20"
      ],
      "execution_count": 3,
      "outputs": [
        {
          "output_type": "stream",
          "name": "stdout",
          "text": [
            "time: 2.22 ms (started: 2021-12-02 02:41:00 +00:00)\n"
          ]
        }
      ]
    },
    {
      "cell_type": "code",
      "metadata": {
        "colab": {
          "base_uri": "https://localhost:8080/"
        },
        "id": "KIX5eRmdsccv",
        "outputId": "1f661019-c872-447d-b335-36dade140952"
      },
      "source": [
        "from google.colab import drive\n",
        "drive.mount('/content/drive')"
      ],
      "execution_count": 4,
      "outputs": [
        {
          "output_type": "stream",
          "name": "stdout",
          "text": [
            "Drive already mounted at /content/drive; to attempt to forcibly remount, call drive.mount(\"/content/drive\", force_remount=True).\n",
            "time: 3.31 ms (started: 2021-12-02 02:41:00 +00:00)\n"
          ]
        }
      ]
    },
    {
      "cell_type": "code",
      "metadata": {
        "colab": {
          "base_uri": "https://localhost:8080/"
        },
        "id": "Lhimjxwgsdin",
        "outputId": "3314ee06-3097-4fa8-9359-24f30dfcbeea"
      },
      "source": [
        "jd_files_dict = resume_files_dict = {}\n",
        "with open(JD_FILES_PICKLE_OUTPATH, 'rb') as fh:\n",
        "  jd_files_dict = pickle.load(fh)\n",
        "with open(RESUME_FILES_PICKLE_OUTPATH, 'rb') as fh:\n",
        "  resume_files_dict = pickle.load(fh)"
      ],
      "execution_count": 5,
      "outputs": [
        {
          "output_type": "stream",
          "name": "stdout",
          "text": [
            "time: 704 ms (started: 2021-12-02 02:41:00 +00:00)\n"
          ]
        }
      ]
    },
    {
      "cell_type": "code",
      "metadata": {
        "colab": {
          "base_uri": "https://localhost:8080/"
        },
        "id": "6MrzLLw0sful",
        "outputId": "30c370b1-f944-4985-c989-8ceeb16eedc5"
      },
      "source": [
        "nltk.download('stopwords')\n",
        "stop_words = nltk.corpus.stopwords.words('english')\n",
        "stop_words = sklearn_stop_words.intersection(stop_words)"
      ],
      "execution_count": 6,
      "outputs": [
        {
          "output_type": "stream",
          "name": "stdout",
          "text": [
            "[nltk_data] Downloading package stopwords to /root/nltk_data...\n",
            "[nltk_data]   Package stopwords is already up-to-date!\n",
            "time: 41.1 ms (started: 2021-12-02 02:41:01 +00:00)\n"
          ]
        }
      ]
    },
    {
      "cell_type": "code",
      "metadata": {
        "colab": {
          "base_uri": "https://localhost:8080/"
        },
        "id": "PCdXgSm2sg6F",
        "outputId": "76aba8fe-34e2-47f8-8a95-8bfa9a141614"
      },
      "source": [
        "def tokenize(text):\n",
        "  tokenized = text.lower().split()\n",
        "  tokenized = [token for token in tokenized if (len(token)>1 and all(char.isalpha()or char.isdigit() for char in token))]\n",
        "  return tokenized"
      ],
      "execution_count": 7,
      "outputs": [
        {
          "output_type": "stream",
          "name": "stdout",
          "text": [
            "time: 1.75 ms (started: 2021-12-02 02:41:01 +00:00)\n"
          ]
        }
      ]
    },
    {
      "cell_type": "code",
      "metadata": {
        "colab": {
          "base_uri": "https://localhost:8080/"
        },
        "id": "_xOId3J8sh-x",
        "outputId": "ba88adc5-27de-45a9-ca6e-d16b73df40fb"
      },
      "source": [
        "print('Count of JDs:', len(jd_files_dict))\n",
        "print('Count of Resumes:', len(resume_files_dict))"
      ],
      "execution_count": 8,
      "outputs": [
        {
          "output_type": "stream",
          "name": "stdout",
          "text": [
            "Count of JDs: 151210\n",
            "Count of Resumes: 50023\n",
            "time: 2.74 ms (started: 2021-12-02 02:41:01 +00:00)\n"
          ]
        }
      ]
    },
    {
      "cell_type": "markdown",
      "metadata": {
        "id": "wE4uO9XntOYe"
      },
      "source": [
        "# Processing"
      ]
    },
    {
      "cell_type": "markdown",
      "metadata": {
        "id": "hqFJ_3vKtXRb"
      },
      "source": [
        "File Types:\n",
        "* 1 - Job Description file (JD)\n",
        "* 2 - Resume file"
      ]
    },
    {
      "cell_type": "code",
      "metadata": {
        "colab": {
          "base_uri": "https://localhost:8080/"
        },
        "id": "s92USIYZuH4u",
        "outputId": "8bb5ea3c-1c41-4885-abe5-f38bb18fb87f"
      },
      "source": [
        "def get_file_type(field_name: str):\n",
        "  user_input: str = \\\n",
        "    input(\"Please enter the file type for the {} file(s).\\n\".format(field_name))\n",
        "\n",
        "  if user_input == '1' or user_input == '2':\n",
        "    user_input = int(user_input)\n",
        "    print('You have entered \"{}\" as the {} file type.'.format(user_input, \n",
        "                                                              field_name))    \n",
        "    print('Thank you for your input.')\n",
        "  else:\n",
        "    print('You have entered an invalid value of \"{}\" as the {} file type.'\\\n",
        "          .format(user_input, field_name))\n",
        "    user_input = None\n",
        "  return user_input"
      ],
      "execution_count": 9,
      "outputs": [
        {
          "output_type": "stream",
          "name": "stdout",
          "text": [
            "time: 4.22 ms (started: 2021-12-02 02:41:01 +00:00)\n"
          ]
        }
      ]
    },
    {
      "cell_type": "markdown",
      "metadata": {
        "id": "eYE98RK5tQmy"
      },
      "source": [
        "## Inputs"
      ]
    },
    {
      "cell_type": "markdown",
      "metadata": {
        "id": "0GMyAmUlux4X"
      },
      "source": [
        "Get input file type"
      ]
    },
    {
      "cell_type": "code",
      "metadata": {
        "colab": {
          "base_uri": "https://localhost:8080/"
        },
        "id": "e0f4TyDhweRq",
        "outputId": "07b81858-1cd6-426b-ee50-80ef3363fde5"
      },
      "source": [
        "input_type = None\n",
        "while input_type is None:\n",
        "  input_type = get_file_type(\"input\")\n",
        "\n",
        "input_dictionary = jd_files_dict if input_type == 1 else resume_files_dict"
      ],
      "execution_count": 331,
      "outputs": [
        {
          "output_type": "stream",
          "name": "stdout",
          "text": [
            "Please enter the file type for the input file(s).\n",
            "1\n",
            "You have entered \"1\" as the input file type.\n",
            "Thank you for your input.\n",
            "time: 1.82 s (started: 2021-12-02 03:57:36 +00:00)\n"
          ]
        }
      ]
    },
    {
      "cell_type": "markdown",
      "metadata": {
        "id": "rtfjVnYd0VkF"
      },
      "source": [
        "Get the input filename"
      ]
    },
    {
      "cell_type": "code",
      "metadata": {
        "colab": {
          "base_uri": "https://localhost:8080/"
        },
        "id": "Sl6h1icVz2Rd",
        "outputId": "eda41240-45b7-4765-8f66-4d13b2d9abe1"
      },
      "source": [
        "input_filename = None\n",
        "while input_filename is None:\n",
        "  input_filename = input(\"Please enter the file name for the input file.\\n\")\n",
        "  print('You have entered \"{}\" as the input file name.'.format(input_filename))\n",
        "  if not (input_filename in input_dictionary):\n",
        "    print('The specified filename is not in the input dictionary, try again.')\n",
        "    input_filename = None"
      ],
      "execution_count": 332,
      "outputs": [
        {
          "output_type": "stream",
          "name": "stdout",
          "text": [
            "Please enter the file name for the input file.\n",
            "ABAP Consuultant_23157\n",
            "You have entered \"ABAP Consuultant_23157\" as the input file name.\n",
            "time: 1.41 s (started: 2021-12-02 03:57:38 +00:00)\n"
          ]
        }
      ]
    },
    {
      "cell_type": "markdown",
      "metadata": {
        "id": "3d3n1L1z0TwA"
      },
      "source": [
        "Get output file type"
      ]
    },
    {
      "cell_type": "code",
      "metadata": {
        "colab": {
          "base_uri": "https://localhost:8080/"
        },
        "id": "AZES2X8qzvWv",
        "outputId": "631e5bb6-9776-4e73-ea79-7412e961daa0"
      },
      "source": [
        "output_type = None\n",
        "while output_type is None:\n",
        "  output_type = get_file_type(\"output\")\n",
        "\n",
        "output_dictionary = jd_files_dict if output_type == 1 else resume_files_dict"
      ],
      "execution_count": 333,
      "outputs": [
        {
          "output_type": "stream",
          "name": "stdout",
          "text": [
            "Please enter the file type for the output file(s).\n",
            "1\n",
            "You have entered \"1\" as the output file type.\n",
            "Thank you for your input.\n",
            "time: 1.14 s (started: 2021-12-02 03:57:40 +00:00)\n"
          ]
        }
      ]
    },
    {
      "cell_type": "markdown",
      "metadata": {
        "id": "qzyR2cTo202N"
      },
      "source": [
        "## Similarity Check Logic"
      ]
    },
    {
      "cell_type": "markdown",
      "metadata": {
        "id": "xV-z_a6V2VVV"
      },
      "source": [
        "Add an entry for the input text into the output dictionary before vectorization"
      ]
    },
    {
      "cell_type": "code",
      "metadata": {
        "colab": {
          "base_uri": "https://localhost:8080/"
        },
        "id": "jlWofIoz2UZM",
        "outputId": "76d104f1-a374-499b-d194-c6214b897fbe"
      },
      "source": [
        "input_key = 'input:'+input_filename\n",
        "output_dictionary[input_key] = input_dictionary[input_filename]"
      ],
      "execution_count": 334,
      "outputs": [
        {
          "output_type": "stream",
          "name": "stdout",
          "text": [
            "time: 1.33 ms (started: 2021-12-02 03:57:41 +00:00)\n"
          ]
        }
      ]
    },
    {
      "cell_type": "markdown",
      "metadata": {
        "id": "AAAcqvn53PIu"
      },
      "source": [
        "Prepare corpus"
      ]
    },
    {
      "cell_type": "code",
      "metadata": {
        "colab": {
          "base_uri": "https://localhost:8080/"
        },
        "id": "djUukniN26EO",
        "outputId": "50789ede-0bfe-4180-e995-a792cea90adb"
      },
      "source": [
        "corpus_raw = pd.DataFrame.from_dict(output_dictionary, orient='index', columns=['text'])"
      ],
      "execution_count": 335,
      "outputs": [
        {
          "output_type": "stream",
          "name": "stdout",
          "text": [
            "time: 62.2 ms (started: 2021-12-02 03:57:41 +00:00)\n"
          ]
        }
      ]
    },
    {
      "cell_type": "markdown",
      "metadata": {
        "id": "5yqWM1Gp3_gq"
      },
      "source": [
        "Save filenames for numerical index retrieval  later"
      ]
    },
    {
      "cell_type": "code",
      "metadata": {
        "colab": {
          "base_uri": "https://localhost:8080/"
        },
        "id": "T9QukACR3-0n",
        "outputId": "b67d0955-d7f1-44cc-a307-e6e4b428bc83"
      },
      "source": [
        "corpus_filenames = corpus_raw.index.values"
      ],
      "execution_count": 336,
      "outputs": [
        {
          "output_type": "stream",
          "name": "stdout",
          "text": [
            "time: 1.02 ms (started: 2021-12-02 03:57:41 +00:00)\n"
          ]
        }
      ]
    },
    {
      "cell_type": "code",
      "metadata": {
        "colab": {
          "base_uri": "https://localhost:8080/",
          "height": 225
        },
        "id": "qsWSfk1a3pyk",
        "outputId": "826f2234-8e0f-446d-c037-429f7b86797b"
      },
      "source": [
        "corpus_raw.head()"
      ],
      "execution_count": 337,
      "outputs": [
        {
          "output_type": "execute_result",
          "data": {
            "text/html": [
              "<div>\n",
              "<style scoped>\n",
              "    .dataframe tbody tr th:only-of-type {\n",
              "        vertical-align: middle;\n",
              "    }\n",
              "\n",
              "    .dataframe tbody tr th {\n",
              "        vertical-align: top;\n",
              "    }\n",
              "\n",
              "    .dataframe thead th {\n",
              "        text-align: right;\n",
              "    }\n",
              "</style>\n",
              "<table border=\"1\" class=\"dataframe\">\n",
              "  <thead>\n",
              "    <tr style=\"text-align: right;\">\n",
              "      <th></th>\n",
              "      <th>text</th>\n",
              "    </tr>\n",
              "  </thead>\n",
              "  <tbody>\n",
              "    <tr>\n",
              "      <th>_1158</th>\n",
              "      <td>Amazon Web Services AWS is looking for a passi...</td>\n",
              "    </tr>\n",
              "    <tr>\n",
              "      <th>15x Bricklayers_87905</th>\n",
              "      <td>Apply now Job Title  Bricklayers Location  New...</td>\n",
              "    </tr>\n",
              "    <tr>\n",
              "      <th>_19361</th>\n",
              "      <td>ORACLE PLSQL DEVELOPER  One of our Fortune 100...</td>\n",
              "    </tr>\n",
              "    <tr>\n",
              "      <th>1C Developer_15174</th>\n",
              "      <td>Gsoft is looking for an 1C Developer who will ...</td>\n",
              "    </tr>\n",
              "    <tr>\n",
              "      <th>1C Developer_5043</th>\n",
              "      <td>Link Ltd is actively looking for energetic and...</td>\n",
              "    </tr>\n",
              "  </tbody>\n",
              "</table>\n",
              "</div>"
            ],
            "text/plain": [
              "                                                                    text\n",
              "_1158                  Amazon Web Services AWS is looking for a passi...\n",
              "15x Bricklayers_87905  Apply now Job Title  Bricklayers Location  New...\n",
              "_19361                 ORACLE PLSQL DEVELOPER  One of our Fortune 100...\n",
              "1C Developer_15174     Gsoft is looking for an 1C Developer who will ...\n",
              "1C Developer_5043      Link Ltd is actively looking for energetic and..."
            ]
          },
          "metadata": {},
          "execution_count": 337
        },
        {
          "output_type": "stream",
          "name": "stdout",
          "text": [
            "time: 10 ms (started: 2021-12-02 03:57:41 +00:00)\n"
          ]
        }
      ]
    },
    {
      "cell_type": "markdown",
      "metadata": {
        "id": "l8z6TBOB3RCd"
      },
      "source": [
        "Vectorize"
      ]
    },
    {
      "cell_type": "code",
      "metadata": {
        "colab": {
          "base_uri": "https://localhost:8080/"
        },
        "id": "WhoCtu4_3Oe5",
        "outputId": "f9acb781-4606-466e-cba5-bfeae1830130"
      },
      "source": [
        "vectorizer = TfidfVectorizer()\n",
        "corpus_vectors = vectorizer.fit_transform(corpus_raw['text'])"
      ],
      "execution_count": 338,
      "outputs": [
        {
          "output_type": "stream",
          "name": "stdout",
          "text": [
            "time: 31.1 s (started: 2021-12-02 03:57:41 +00:00)\n"
          ]
        }
      ]
    },
    {
      "cell_type": "markdown",
      "metadata": {
        "id": "H1PP2DeW3W_x"
      },
      "source": [
        "Get vector representing input"
      ]
    },
    {
      "cell_type": "code",
      "metadata": {
        "colab": {
          "base_uri": "https://localhost:8080/"
        },
        "id": "ab5JiEta35WY",
        "outputId": "804a4604-7638-459d-926b-56c1e82ee703"
      },
      "source": [
        "input_index = np.where(corpus_filenames == input_key)[0][0]\n",
        "input_vector = corpus_vectors[input_index]"
      ],
      "execution_count": 339,
      "outputs": [
        {
          "output_type": "stream",
          "name": "stdout",
          "text": [
            "time: 5.06 ms (started: 2021-12-02 03:58:12 +00:00)\n"
          ]
        }
      ]
    },
    {
      "cell_type": "markdown",
      "metadata": {
        "id": "TMGqTw0E47GA"
      },
      "source": [
        "Perform Cosine Similarity"
      ]
    },
    {
      "cell_type": "code",
      "metadata": {
        "colab": {
          "base_uri": "https://localhost:8080/"
        },
        "id": "GdEcLy8d43jg",
        "outputId": "48b9364e-b76a-4bfd-d646-12cb0e40b149"
      },
      "source": [
        "cos_similarity_output = cosine_similarity(corpus_vectors, input_vector)"
      ],
      "execution_count": 340,
      "outputs": [
        {
          "output_type": "stream",
          "name": "stdout",
          "text": [
            "time: 251 ms (started: 2021-12-02 03:58:12 +00:00)\n"
          ]
        }
      ]
    },
    {
      "cell_type": "markdown",
      "metadata": {
        "id": "ouiaSBko-4Mq"
      },
      "source": [
        "## Results"
      ]
    },
    {
      "cell_type": "markdown",
      "metadata": {
        "id": "WjKtols75MwL"
      },
      "source": [
        "Get the most similar results"
      ]
    },
    {
      "cell_type": "code",
      "metadata": {
        "colab": {
          "base_uri": "https://localhost:8080/",
          "height": 695
        },
        "id": "z7TejWiE5IkI",
        "outputId": "b21a00f2-4d06-4ee5-b67c-ae5427d0e030"
      },
      "source": [
        "cos_similarity_df = pd.DataFrame(cos_similarity_output, index = \\\n",
        "                                 corpus_filenames, columns = ['similarity'])\n",
        "drop_indices = [input_key]\n",
        "if input_type == output_type:\n",
        "  drop_indices.append(input_filename)\n",
        "\n",
        "cos_similarity_df.drop(index = drop_indices).nlargest(NUM_RESULTS_TO_SHOW,\n",
        "                                                          'similarity')"
      ],
      "execution_count": 341,
      "outputs": [
        {
          "output_type": "execute_result",
          "data": {
            "text/html": [
              "<div>\n",
              "<style scoped>\n",
              "    .dataframe tbody tr th:only-of-type {\n",
              "        vertical-align: middle;\n",
              "    }\n",
              "\n",
              "    .dataframe tbody tr th {\n",
              "        vertical-align: top;\n",
              "    }\n",
              "\n",
              "    .dataframe thead th {\n",
              "        text-align: right;\n",
              "    }\n",
              "</style>\n",
              "<table border=\"1\" class=\"dataframe\">\n",
              "  <thead>\n",
              "    <tr style=\"text-align: right;\">\n",
              "      <th></th>\n",
              "      <th>similarity</th>\n",
              "    </tr>\n",
              "  </thead>\n",
              "  <tbody>\n",
              "    <tr>\n",
              "      <th>SAP ABAP Consultan_58429</th>\n",
              "      <td>0.224890</td>\n",
              "    </tr>\n",
              "    <tr>\n",
              "      <th>HCL tech is Lookin_60402</th>\n",
              "      <td>0.209530</td>\n",
              "    </tr>\n",
              "    <tr>\n",
              "      <th>Contract Administr_23653</th>\n",
              "      <td>0.192661</td>\n",
              "    </tr>\n",
              "    <tr>\n",
              "      <th>SAP ABAP Developer_59502</th>\n",
              "      <td>0.191619</td>\n",
              "    </tr>\n",
              "    <tr>\n",
              "      <th>Hiringlevel Comp_65368</th>\n",
              "      <td>0.188272</td>\n",
              "    </tr>\n",
              "    <tr>\n",
              "      <th>Sap ABAP HANA Open_57494</th>\n",
              "      <td>0.183064</td>\n",
              "    </tr>\n",
              "    <tr>\n",
              "      <th>SAP IDOC with EDI_77124</th>\n",
              "      <td>0.179289</td>\n",
              "    </tr>\n",
              "    <tr>\n",
              "      <th>SAP SRM Consultant_67527</th>\n",
              "      <td>0.178866</td>\n",
              "    </tr>\n",
              "    <tr>\n",
              "      <th>ABAP Consultant lo_71384</th>\n",
              "      <td>0.177611</td>\n",
              "    </tr>\n",
              "    <tr>\n",
              "      <th>SAP ABAP APO Consu_22114</th>\n",
              "      <td>0.176325</td>\n",
              "    </tr>\n",
              "    <tr>\n",
              "      <th>Looking for SAP AB_76430</th>\n",
              "      <td>0.165702</td>\n",
              "    </tr>\n",
              "    <tr>\n",
              "      <th>HCM Developer_70960</th>\n",
              "      <td>0.165372</td>\n",
              "    </tr>\n",
              "    <tr>\n",
              "      <th>SAP ABAP HR Webdyn_66428</th>\n",
              "      <td>0.164677</td>\n",
              "    </tr>\n",
              "    <tr>\n",
              "      <th>sap abap_67288</th>\n",
              "      <td>0.164484</td>\n",
              "    </tr>\n",
              "    <tr>\n",
              "      <th>SAP Sdafs Function_57266</th>\n",
              "      <td>0.162671</td>\n",
              "    </tr>\n",
              "    <tr>\n",
              "      <th>SAP ABAP FI Consul_64136</th>\n",
              "      <td>0.157684</td>\n",
              "    </tr>\n",
              "    <tr>\n",
              "      <th>ABAP Webdynpro Con_66526</th>\n",
              "      <td>0.157262</td>\n",
              "    </tr>\n",
              "    <tr>\n",
              "      <th>Opening for Positi_60744</th>\n",
              "      <td>0.157162</td>\n",
              "    </tr>\n",
              "    <tr>\n",
              "      <th>Graduate Trainee_102416</th>\n",
              "      <td>0.153170</td>\n",
              "    </tr>\n",
              "    <tr>\n",
              "      <th>SAP ABAP Technical_34545</th>\n",
              "      <td>0.151578</td>\n",
              "    </tr>\n",
              "  </tbody>\n",
              "</table>\n",
              "</div>"
            ],
            "text/plain": [
              "                          similarity\n",
              "SAP ABAP Consultan_58429    0.224890\n",
              "HCL tech is Lookin_60402    0.209530\n",
              "Contract Administr_23653    0.192661\n",
              "SAP ABAP Developer_59502    0.191619\n",
              "Hiringlevel Comp_65368      0.188272\n",
              "Sap ABAP HANA Open_57494    0.183064\n",
              "SAP IDOC with EDI_77124     0.179289\n",
              "SAP SRM Consultant_67527    0.178866\n",
              "ABAP Consultant lo_71384    0.177611\n",
              "SAP ABAP APO Consu_22114    0.176325\n",
              "Looking for SAP AB_76430    0.165702\n",
              "HCM Developer_70960         0.165372\n",
              "SAP ABAP HR Webdyn_66428    0.164677\n",
              "sap abap_67288              0.164484\n",
              "SAP Sdafs Function_57266    0.162671\n",
              "SAP ABAP FI Consul_64136    0.157684\n",
              "ABAP Webdynpro Con_66526    0.157262\n",
              "Opening for Positi_60744    0.157162\n",
              "Graduate Trainee_102416     0.153170\n",
              "SAP ABAP Technical_34545    0.151578"
            ]
          },
          "metadata": {},
          "execution_count": 341
        },
        {
          "output_type": "stream",
          "name": "stdout",
          "text": [
            "time: 64.3 ms (started: 2021-12-02 03:58:12 +00:00)\n"
          ]
        }
      ]
    }
  ]
}